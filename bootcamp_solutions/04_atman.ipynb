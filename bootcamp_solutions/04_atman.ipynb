{
 "cells": [
  {
   "cell_type": "code",
   "execution_count": null,
   "metadata": {},
   "outputs": [],
   "source": [
    "# When using a colab notebook:\n",
    "#!git clone https://github.com/Aleph-Alpha/examples.git\n",
    "#!pip install -r examples/requirements.txt\n",
    "#!cp examples/bootcamp/data.md data.md"
   ]
  },
  {
   "cell_type": "code",
   "execution_count": 1,
   "metadata": {},
   "outputs": [],
   "source": [
    "from aleph_alpha_client import Client, Prompt, CompletionRequest,ExplanationRequest, TextControl, EvaluationRequest, TargetGranularity\n",
    "from scipy import spatial\n",
    "import numpy as np\n",
    "import os\n",
    "from dotenv import load_dotenv"
   ]
  },
  {
   "cell_type": "code",
   "execution_count": 2,
   "metadata": {},
   "outputs": [],
   "source": [
    "load_dotenv()\n",
    "\n",
    "client = Client(token=os.getenv(\"AA_TOKEN\"))"
   ]
  },
  {
   "attachments": {},
   "cell_type": "markdown",
   "metadata": {},
   "source": [
    "#### Lets learn about Attention Manipulation"
   ]
  },
  {
   "cell_type": "code",
   "execution_count": 10,
   "metadata": {},
   "outputs": [
    {
     "name": "stdout",
     "output_type": "stream",
     "text": [
      " brown\n"
     ]
    }
   ],
   "source": [
    "text = \"The quick brown fox jumps over the lazy dog.\\nThe color of the fox is\"\n",
    "# Here we define a TextControl that will be used to control the attention on the prompt.\n",
    "# Change the factor to 0.0 to see what happens.\n",
    "control = TextControl(start=10, length=5, factor=1)\n",
    "prompt = Prompt.from_text(text, controls=[control])\n",
    "\n",
    "request = CompletionRequest(prompt=prompt, maximum_tokens=10, stop_sequences=[\".\"])\n",
    "result = client.complete(request = request, model=\"luminous-extended\")\n",
    "print(result.completions[0].completion)"
   ]
  },
  {
   "attachments": {},
   "cell_type": "markdown",
   "metadata": {},
   "source": [
    "We see, that changing the attention changes the output of the model. Let's see how that can help us in different scenarios."
   ]
  },
  {
   "cell_type": "code",
   "execution_count": 21,
   "metadata": {},
   "outputs": [
    {
     "name": "stdout",
     "output_type": "stream",
     "text": [
      "The control of 'The' is: 0.4304359\n",
      "The control of 'quick' is: 0.8072545\n",
      "The control of 'brown' is: 1.9476956\n",
      "The control of 'fox' is: 0.29378745\n",
      "The control of 'jumps' is: 0.8143241\n",
      "The control of 'over' is: 0.684362\n",
      "The control of 'the' is: 0.88111794\n",
      "The control of 'lazy' is: 0.51506716\n",
      "The control of 'dog.' is: 1.3384898\n",
      "The control of 'The' is: 0.4304359\n",
      "The control of 'color' is: 1.4661577\n",
      "The control of 'of' is: 2.0097778\n",
      "The control of 'the' is: 0.88111794\n",
      "The control of 'fox' is: 0.29378745\n",
      "The control of 'is' is: 0.7834949\n"
     ]
    }
   ],
   "source": [
    "# Let's try that again. but this time, we want to get traceable explanations.\n",
    "text = \"The quick brown fox jumps over the lazy dog.\\nThe color of the fox is\"\n",
    "\n",
    "controls = []\n",
    "# create a control for each word in the prompt\n",
    "for i, word in enumerate(text.split()):\n",
    "    # we want to control the attention on each word\n",
    "    # so we set the factor to 1.0\n",
    "    #get the starting index of the word\n",
    "    start = text.find(word)\n",
    "    control = TextControl(start=start, length=len(word), factor=0.1)\n",
    "    controls.append(control)\n",
    "    \n",
    "eval_scores = []\n",
    "for control in controls:\n",
    "    prompt = Prompt.from_text(text, controls=[control])\n",
    "    \n",
    "    request = EvaluationRequest(prompt=prompt, completion_expected=\" brown\")\n",
    "    score = client.evaluate(request = request, model=\"luminous-extended\")\n",
    "    print(f\"The control of '{text[control.start:control.start+control.length]}' is: {score.result['log_perplexity']}\")\n",
    "    \n"
   ]
  },
  {
   "attachments": {},
   "cell_type": "markdown",
   "metadata": {},
   "source": [
    "### Let's use an explantation request to find out what the model is looking at"
   ]
  },
  {
   "cell_type": "code",
   "execution_count": 13,
   "metadata": {},
   "outputs": [
    {
     "name": "stdout",
     "output_type": "stream",
     "text": [
      "EXPLAINED TEXT: The\n",
      "Score: -0.261\n",
      "EXPLAINED TEXT: quick\n",
      "Score: 0.077\n",
      "EXPLAINED TEXT: brown\n",
      "Score: 1.354\n",
      "EXPLAINED TEXT: fox\n",
      "Score: -0.41\n",
      "EXPLAINED TEXT: jumps\n",
      "Score: 0.13\n",
      "EXPLAINED TEXT: over\n",
      "Score: 0.06\n",
      "EXPLAINED TEXT: the\n",
      "Score: 0.142\n",
      "EXPLAINED TEXT: lazy\n",
      "Score: -0.182\n",
      "EXPLAINED TEXT: dog\n",
      "Score: -0.188\n",
      "EXPLAINED TEXT: .\n",
      "Score: 0.786\n",
      "EXPLAINED TEXT: \n",
      "\n",
      "Score: 0.063\n",
      "EXPLAINED TEXT: The\n",
      "Score: 0.036\n",
      "EXPLAINED TEXT: color\n",
      "Score: 0.775\n",
      "EXPLAINED TEXT: of\n",
      "Score: 1.274\n",
      "EXPLAINED TEXT: the\n",
      "Score: 0.779\n",
      "EXPLAINED TEXT: fox\n",
      "Score: 2.327\n",
      "EXPLAINED TEXT: is\n",
      "Score: 0.11\n"
     ]
    }
   ],
   "source": [
    "exp_req = ExplanationRequest(Prompt.from_text(text), \" brown\", control_factor=0.3)\n",
    "response_explain = client.explain(exp_req, model=\"luminous-extended\")\n",
    "\n",
    "explanations = response_explain[1][0].items[0][0]\n",
    "\n",
    "for item in explanations:\n",
    "    start = item.start\n",
    "    end = item.start + item.length\n",
    "    print(f\"\"\"EXPLAINED TEXT: {text[start:end]}\n",
    "Score: {np.round(item.score, decimals=3)}\"\"\")"
   ]
  },
  {
   "cell_type": "code",
   "execution_count": 16,
   "metadata": {},
   "outputs": [
    {
     "name": "stdout",
     "output_type": "stream",
     "text": [
      "data: # Taking control of the digital transformation\n",
      "The digital transformation is in full swing. The tech\n"
     ]
    }
   ],
   "source": [
    "# Read the data in the data.md file\n",
    "with open(\"data.md\", \"r\") as f:\n",
    "    data = f.read()\n",
    "    \n",
    "# Split the data into a list of texts\n",
    "texts = data.split(\"#\")[1:]\n",
    "\n",
    "print(f\"data: {data[:100]}\")"
   ]
  },
  {
   "cell_type": "code",
   "execution_count": 17,
   "metadata": {},
   "outputs": [
    {
     "name": "stdout",
     "output_type": "stream",
     "text": [
      "EXPLAINED TEXT: ### Instructions: Solve the task based on the text below\".\n",
      "Score: 0.391\n",
      "EXPLAINED TEXT: ### Input:\n",
      " Breakthrough in the ambitious EU expansion of renewable energy\n",
      "EU Council adopts new Directive for the use of renewable energies in the Member States\n",
      "Score: -0.036\n",
      "EXPLAINED TEXT: On 16 June, the Member States of the European Union approved a comprehensive revision of the EU Renewable Energy Directive (RED) in the Permanent Representatives Committee. The European target for renewable energies in 2030 is raised significantly from 32% to 45%. This means a doubling of the share of renewable energies compared to the current level of just under 22% in 2021.\n",
      "Score: 0.176\n",
      "EXPLAINED TEXT: This gives a great boost to the expansion of renewables: the planned expansion of renewable energies by 2030 will thus be roughly doubled. To achieve these new targets, the EU will have to install more than 100 GW of new wind turbines and solar plants every year. For Germany, this means that the greatly increased expansion targets for wind and solar energy introduced in 2022 will be underpinned by European targets and will therefore become binding. The higher EU targets also provide the framework for more far-reaching measures and goals in the EU, for example the EU Solar Strategy, which envisages roughly tripling PV capacity to 600 GW by 2030.\n",
      "Score: 0.092\n",
      "EXPLAINED TEXT: ### Task: When was the declaration signed?\n",
      "Score: 3.053\n",
      "EXPLAINED TEXT: ### Reponse:\n",
      "Score: 0.322\n"
     ]
    }
   ],
   "source": [
    "answers_prompt = f\"\"\"### Instructions: Solve the task based on the text below\".\n",
    "\n",
    "### Input:\n",
    "{texts[4]}\n",
    "\n",
    "### Task: When was the declaration signed?\n",
    "\n",
    "### Reponse:\"\"\"\n",
    "\n",
    "response = client.complete(CompletionRequest(prompt=Prompt.from_text(answers_prompt), maximum_tokens=100, stop_sequences=[\"###\"]), model=\"luminous-base-control\")\n",
    "answer = response.completions[0].completion\n",
    "\n",
    "exp_req = ExplanationRequest(Prompt.from_text(answers_prompt), answer, control_factor=0.1, prompt_granularity=\"paragraph\", target_granularity=TargetGranularity.Complete)\n",
    "response_explain = client.explain(exp_req, model=\"luminous-extended-control\")\n",
    "\n",
    "explanations = response_explain[1][0].items[0][0]\n",
    "\n",
    "for item in explanations:\n",
    "    start = item.start\n",
    "    end = item.start + item.length\n",
    "    print(f\"\"\"EXPLAINED TEXT: {answers_prompt[start:end]}\n",
    "Score: {np.round(item.score, decimals=3)}\"\"\")"
   ]
  },
  {
   "cell_type": "code",
   "execution_count": 22,
   "metadata": {},
   "outputs": [
    {
     "name": "stdout",
     "output_type": "stream",
     "text": [
      "EXPLAINED TEXT: ### Instructions: Solve the task based on the text below\".\n",
      "Score: -0.761\n",
      "EXPLAINED TEXT: ### Input:\n",
      " Breakthrough in the ambitious EU expansion of renewable energy\n",
      "EU Council adopts new Directive for the use of renewable energies in the Member States\n",
      "Score: -1.047\n",
      "EXPLAINED TEXT: On 16 June, the Member States of the European Union approved a comprehensive revision of the EU Renewable Energy Directive (RED) in the Permanent Representatives Committee. The European target for renewable energies in 2030 is raised significantly from 32% to 45%. This means a doubling of the share of renewable energies compared to the current level of just under 22% in 2021.\n",
      "Score: -0.631\n",
      "EXPLAINED TEXT: This gives a great boost to the expansion of renewables: the planned expansion of renewable energies by 2030 will thus be roughly doubled. To achieve these new targets, the EU will have to install more than 100 GW of new wind turbines and solar plants every year. For Germany, this means that the greatly increased expansion targets for wind and solar energy introduced in 2022 will be underpinned by European targets and will therefore become binding. The higher EU targets also provide the framework for more far-reaching measures and goals in the EU, for example the EU Solar Strategy, which envisages roughly tripling PV capacity to 600 GW by 2030.\n",
      "Score: -1.172\n",
      "EXPLAINED TEXT: ### Task: When was the declaration signed?\n",
      "Score: 0.757\n",
      "EXPLAINED TEXT: ### Reponse:\n",
      "Score: -1.7\n"
     ]
    }
   ],
   "source": [
    "exp_req = ExplanationRequest(Prompt.from_text(answers_prompt), \" The USA have social elements.\", control_factor=0.1, prompt_granularity=\"paragraph\", target_granularity=TargetGranularity.Complete)\n",
    "response_explain = client.explain(exp_req, model=\"luminous-extended\")\n",
    "\n",
    "explanations = response_explain[1][0].items[0][0]\n",
    "\n",
    "for item in explanations:\n",
    "    start = item.start\n",
    "    end = item.start + item.length\n",
    "    print(f\"\"\"EXPLAINED TEXT: {answers_prompt[start:end]}\n",
    "Score: {np.round(item.score, decimals=3)}\"\"\")"
   ]
  },
  {
   "cell_type": "code",
   "execution_count": null,
   "metadata": {},
   "outputs": [],
   "source": []
  }
 ],
 "metadata": {
  "kernelspec": {
   "display_name": "playground",
   "language": "python",
   "name": "python3"
  },
  "language_info": {
   "codemirror_mode": {
    "name": "ipython",
    "version": 3
   },
   "file_extension": ".py",
   "mimetype": "text/x-python",
   "name": "python",
   "nbconvert_exporter": "python",
   "pygments_lexer": "ipython3",
   "version": "3.10.11"
  },
  "orig_nbformat": 4
 },
 "nbformat": 4,
 "nbformat_minor": 2
}
