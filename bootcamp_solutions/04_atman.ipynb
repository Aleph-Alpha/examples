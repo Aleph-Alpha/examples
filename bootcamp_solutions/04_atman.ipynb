{
 "cells": [
  {
   "cell_type": "code",
   "execution_count": 1,
   "metadata": {},
   "outputs": [],
   "source": [
    "from aleph_alpha_client import Client, Prompt, CompletionRequest, CompletionResponse, SemanticEmbeddingRequest, SemanticEmbeddingResponse, SemanticRepresentation, ExplanationRequest, TextControl, TokenControl, EvaluationRequest\n",
    "from scipy import spatial\n",
    "import numpy as np\n",
    "import os\n",
    "from dotenv import load_dotenv"
   ]
  },
  {
   "cell_type": "code",
   "execution_count": 2,
   "metadata": {},
   "outputs": [],
   "source": [
    "load_dotenv()\n",
    "\n",
    "client = Client(token=os.getenv(\"AA_TOKEN\"))"
   ]
  },
  {
   "attachments": {},
   "cell_type": "markdown",
   "metadata": {},
   "source": [
    "#### Lets learn about Attention Manipulation"
   ]
  },
  {
   "cell_type": "code",
   "execution_count": 3,
   "metadata": {},
   "outputs": [
    {
     "name": "stdout",
     "output_type": "stream",
     "text": [
      " brown\n"
     ]
    }
   ],
   "source": [
    "text = \"The quick brown fox jumps over the lazy dog.\\nThe color of the fox is\"\n",
    "# Here we define a TextControl that will be used to control the attention on the prompt.\n",
    "# Change the factor to 0.0 to see what happens.\n",
    "control = TextControl(start=10, length=5, factor=1.0)\n",
    "prompt = Prompt.from_text(text, controls=[control])\n",
    "\n",
    "request = CompletionRequest(prompt=prompt, maximum_tokens=10, stop_sequences=[\".\"])\n",
    "result = client.complete(request = request, model=\"luminous-extended\")\n",
    "print(result.completions[0].completion)"
   ]
  },
  {
   "attachments": {},
   "cell_type": "markdown",
   "metadata": {},
   "source": [
    "We see, that changing the attention changes the output of the model. Let's see how that can help us in different scenarios."
   ]
  },
  {
   "cell_type": "code",
   "execution_count": 17,
   "metadata": {},
   "outputs": [
    {
     "name": "stdout",
     "output_type": "stream",
     "text": [
      "The control of 'The' is: 0.40005174\n",
      "The control of 'quick' is: 0.80100304\n",
      "The control of 'brown' is: 2.042087\n",
      "The control of 'fox' is: 0.318715\n",
      "The control of 'jumps' is: 0.83131087\n",
      "The control of 'over' is: 0.67064124\n",
      "The control of 'the' is: 0.8609614\n",
      "The control of 'lazy' is: 0.5153156\n",
      "The control of 'dog.' is: 1.3308904\n",
      "The control of 'The' is: 0.40005174\n",
      "The control of 'color' is: 1.5616225\n",
      "The control of 'of' is: 1.9225018\n",
      "The control of 'the' is: 0.8609614\n",
      "The control of 'fox' is: 0.318715\n",
      "The control of 'is' is: 0.79551744\n"
     ]
    }
   ],
   "source": [
    "# Let's try that again. but this time, we want to get traceable explanations.\n",
    "text = \"The quick brown fox jumps over the lazy dog.\\nThe color of the fox is\"\n",
    "\n",
    "controls = []\n",
    "# create a control for each word in the prompt\n",
    "for i, word in enumerate(text.split()):\n",
    "    # we want to control the attention on each word\n",
    "    # so we set the factor to 1.0\n",
    "    #get the starting index of the word\n",
    "    start = text.find(word)\n",
    "    control = TextControl(start=start, length=len(word), factor=0.1)\n",
    "    controls.append(control)\n",
    "    \n",
    "eval_scores = []\n",
    "for control in controls:\n",
    "    prompt = Prompt.from_text(text, controls=[control])\n",
    "    \n",
    "    request = EvaluationRequest(prompt=prompt, completion_expected=\" brown\")\n",
    "    score = client.evaluate(request = request, model=\"luminous-extended\")\n",
    "    print(f\"The control of '{text[control.start:control.start+control.length]}' is: {score.result['log_perplexity']}\")\n",
    "    \n"
   ]
  },
  {
   "attachments": {},
   "cell_type": "markdown",
   "metadata": {},
   "source": [
    "### Let's use an explantation request to find out what the model is looking at"
   ]
  },
  {
   "cell_type": "code",
   "execution_count": 16,
   "metadata": {},
   "outputs": [
    {
     "name": "stdout",
     "output_type": "stream",
     "text": [
      "EXPLAINED TEXT: The\n",
      "Score: -0.292\n",
      "EXPLAINED TEXT: quick\n",
      "Score: 0.117\n",
      "EXPLAINED TEXT: brown\n",
      "Score: 1.318\n",
      "EXPLAINED TEXT: fox\n",
      "Score: -0.435\n",
      "EXPLAINED TEXT: jumps\n",
      "Score: 0.143\n",
      "EXPLAINED TEXT: over\n",
      "Score: -0.01\n",
      "EXPLAINED TEXT: the\n",
      "Score: 0.16\n",
      "EXPLAINED TEXT: lazy\n",
      "Score: -0.255\n",
      "EXPLAINED TEXT: dog\n",
      "Score: -0.253\n",
      "EXPLAINED TEXT: .\n",
      "Score: 0.627\n",
      "EXPLAINED TEXT: \n",
      "\n",
      "Score: 0.033\n",
      "EXPLAINED TEXT: The\n",
      "Score: 0.006\n",
      "EXPLAINED TEXT: color\n",
      "Score: 0.773\n",
      "EXPLAINED TEXT: of\n",
      "Score: 1.253\n",
      "EXPLAINED TEXT: the\n",
      "Score: 0.789\n",
      "EXPLAINED TEXT: fox\n",
      "Score: 2.387\n",
      "EXPLAINED TEXT: is\n",
      "Score: 0.097\n"
     ]
    }
   ],
   "source": [
    "exp_req = ExplanationRequest(Prompt.from_text(text), \" brown\", control_factor=0.1)\n",
    "response_explain = client.explain(exp_req, model=\"luminous-extended\")\n",
    "\n",
    "explanations = response_explain[1][0].items[0][0]\n",
    "\n",
    "for item in explanations:\n",
    "    start = item.start\n",
    "    end = item.start + item.length\n",
    "    print(f\"\"\"EXPLAINED TEXT: {text[start:end]}\n",
    "Score: {np.round(item.score, decimals=3)}\"\"\")"
   ]
  },
  {
   "cell_type": "code",
   "execution_count": null,
   "metadata": {},
   "outputs": [],
   "source": []
  }
 ],
 "metadata": {
  "kernelspec": {
   "display_name": "playground",
   "language": "python",
   "name": "python3"
  },
  "language_info": {
   "codemirror_mode": {
    "name": "ipython",
    "version": 3
   },
   "file_extension": ".py",
   "mimetype": "text/x-python",
   "name": "python",
   "nbconvert_exporter": "python",
   "pygments_lexer": "ipython3",
   "version": "3.9.12"
  },
  "orig_nbformat": 4
 },
 "nbformat": 4,
 "nbformat_minor": 2
}
