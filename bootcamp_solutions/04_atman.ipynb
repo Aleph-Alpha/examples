{
 "cells": [
  {
   "cell_type": "code",
   "execution_count": null,
   "metadata": {},
   "outputs": [],
   "source": [
    "# When using a colab notebook:\n",
    "#!wget https://github.com/Aleph-Alpha/examples/blob/main/bootcamp/data.md\n",
    "#!wget https://github.com/Aleph-Alpha/examples/blob/main/requirements.txt\n",
    "#!pip install -r requirements.txt"
   ]
  },
  {
   "cell_type": "code",
   "execution_count": 1,
   "metadata": {},
   "outputs": [],
   "source": [
    "from aleph_alpha_client import Client, Prompt, CompletionRequest,ExplanationRequest, TextControl, EvaluationRequest, TargetGranularity\n",
    "from scipy import spatial\n",
    "import numpy as np\n",
    "import os\n",
    "from dotenv import load_dotenv"
   ]
  },
  {
   "cell_type": "code",
   "execution_count": 2,
   "metadata": {},
   "outputs": [],
   "source": [
    "load_dotenv()\n",
    "\n",
    "client = Client(token=os.getenv(\"AA_TOKEN\"))"
   ]
  },
  {
   "attachments": {},
   "cell_type": "markdown",
   "metadata": {},
   "source": [
    "#### Lets learn about Attention Manipulation"
   ]
  },
  {
   "cell_type": "code",
   "execution_count": 8,
   "metadata": {},
   "outputs": [
    {
     "name": "stdout",
     "output_type": "stream",
     "text": [
      " brown\n"
     ]
    }
   ],
   "source": [
    "text = \"The quick brown fox jumps over the lazy dog.\\nThe color of the fox is\"\n",
    "# Here we define a TextControl that will be used to control the attention on the prompt.\n",
    "# Change the factor to 0.0 to see what happens.\n",
    "control = TextControl(start=10, length=5, factor=1)\n",
    "prompt = Prompt.from_text(text, controls=[control])\n",
    "\n",
    "request = CompletionRequest(prompt=prompt, maximum_tokens=10, stop_sequences=[\".\"])\n",
    "result = client.complete(request = request, model=\"luminous-extended\")\n",
    "print(result.completions[0].completion)"
   ]
  },
  {
   "attachments": {},
   "cell_type": "markdown",
   "metadata": {},
   "source": [
    "We see, that changing the attention changes the output of the model. Let's see how that can help us in different scenarios."
   ]
  },
  {
   "cell_type": "code",
   "execution_count": 13,
   "metadata": {},
   "outputs": [
    {
     "name": "stdout",
     "output_type": "stream",
     "text": [
      "The control of 'The' is: 0.40005174\n",
      "The control of 'quick' is: 0.80100304\n",
      "The control of 'brown' is: 2.042087\n",
      "The control of 'fox' is: 0.318715\n",
      "The control of 'jumps' is: 0.83131087\n",
      "The control of 'over' is: 0.67064124\n",
      "The control of 'the' is: 0.8609614\n",
      "The control of 'lazy' is: 0.5153156\n",
      "The control of 'dog.' is: 1.3308904\n",
      "The control of 'The' is: 0.40005174\n",
      "The control of 'color' is: 1.5616225\n",
      "The control of 'of' is: 1.9225018\n",
      "The control of 'the' is: 0.8609614\n",
      "The control of 'fox' is: 0.318715\n",
      "The control of 'is' is: 0.79551744\n"
     ]
    }
   ],
   "source": [
    "# Let's try that again. but this time, we want to get traceable explanations.\n",
    "text = \"The quick brown fox jumps over the lazy dog.\\nThe color of the fox is\"\n",
    "\n",
    "controls = []\n",
    "# create a control for each word in the prompt\n",
    "for i, word in enumerate(text.split()):\n",
    "    # we want to control the attention on each word\n",
    "    # so we set the factor to 1.0\n",
    "    #get the starting index of the word\n",
    "    start = text.find(word)\n",
    "    control = TextControl(start=start, length=len(word), factor=0.1)\n",
    "    controls.append(control)\n",
    "    \n",
    "eval_scores = []\n",
    "for control in controls:\n",
    "    prompt = Prompt.from_text(text, controls=[control])\n",
    "    \n",
    "    request = EvaluationRequest(prompt=prompt, completion_expected=\" brown\")\n",
    "    score = client.evaluate(request = request, model=\"luminous-extended\")\n",
    "    print(f\"The control of '{text[control.start:control.start+control.length]}' is: {score.result['log_perplexity']}\")\n",
    "    \n"
   ]
  },
  {
   "attachments": {},
   "cell_type": "markdown",
   "metadata": {},
   "source": [
    "### Let's use an explantation request to find out what the model is looking at"
   ]
  },
  {
   "cell_type": "code",
   "execution_count": 14,
   "metadata": {},
   "outputs": [
    {
     "name": "stdout",
     "output_type": "stream",
     "text": [
      "EXPLAINED TEXT: The\n",
      "Score: -0.292\n",
      "EXPLAINED TEXT: quick\n",
      "Score: 0.117\n",
      "EXPLAINED TEXT: brown\n",
      "Score: 1.318\n",
      "EXPLAINED TEXT: fox\n",
      "Score: -0.435\n",
      "EXPLAINED TEXT: jumps\n",
      "Score: 0.143\n",
      "EXPLAINED TEXT: over\n",
      "Score: -0.01\n",
      "EXPLAINED TEXT: the\n",
      "Score: 0.16\n",
      "EXPLAINED TEXT: lazy\n",
      "Score: -0.255\n",
      "EXPLAINED TEXT: dog\n",
      "Score: -0.253\n",
      "EXPLAINED TEXT: .\n",
      "Score: 0.627\n",
      "EXPLAINED TEXT: \n",
      "\n",
      "Score: 0.033\n",
      "EXPLAINED TEXT: The\n",
      "Score: 0.006\n",
      "EXPLAINED TEXT: color\n",
      "Score: 0.773\n",
      "EXPLAINED TEXT: of\n",
      "Score: 1.253\n",
      "EXPLAINED TEXT: the\n",
      "Score: 0.789\n",
      "EXPLAINED TEXT: fox\n",
      "Score: 2.387\n",
      "EXPLAINED TEXT: is\n",
      "Score: 0.097\n"
     ]
    }
   ],
   "source": [
    "exp_req = ExplanationRequest(Prompt.from_text(text), \" brown\", control_factor=0.3)\n",
    "response_explain = client.explain(exp_req, model=\"luminous-extended\")\n",
    "\n",
    "explanations = response_explain[1][0].items[0][0]\n",
    "\n",
    "for item in explanations:\n",
    "    start = item.start\n",
    "    end = item.start + item.length\n",
    "    print(f\"\"\"EXPLAINED TEXT: {text[start:end]}\n",
    "Score: {np.round(item.score, decimals=3)}\"\"\")"
   ]
  },
  {
   "cell_type": "code",
   "execution_count": 15,
   "metadata": {},
   "outputs": [
    {
     "name": "stdout",
     "output_type": "stream",
     "text": [
      "data: SUMMARY\n",
      "\n",
      "# Most OECD countries have developed and implemented national sustainable development strat\n",
      "texts:  INDICATORS AND TARGETS\n",
      "\n",
      "The development and incorporation of quantitative indicators can help remov\n"
     ]
    }
   ],
   "source": [
    "# Read the data in the data.md file\n",
    "with open(\"data.md\", \"r\") as f:\n",
    "    data = f.read()\n",
    "    \n",
    "# Split the data into a list of texts\n",
    "texts = data.split(\"#####\")\n",
    "\n",
    "print(f\"data: {data[:100]}\")\n",
    "print(f\"texts: {texts[10][:100]}\")"
   ]
  },
  {
   "cell_type": "code",
   "execution_count": 16,
   "metadata": {},
   "outputs": [
    {
     "name": "stdout",
     "output_type": "stream",
     "text": [
      "EXPLAINED TEXT: ### Instructions: Solve the task based on the text below\".\n",
      "Score: -0.854\n",
      "EXPLAINED TEXT: ### Input:\n",
      " POLICY INTEGRATION\n",
      "Score: -0.107\n",
      "EXPLAINED TEXT: POLICY INTEGRATION – **15**\n",
      "Score: 0.255\n",
      "EXPLAINED TEXT: Sustainable development has been defined a variety of ways, but in practice it has come to mean development that achieves a balance among economic, environmental and social objectives for both present and future generations. The integration of the three dimensions of sustainable development is one of the most difficult balances to achieve in formulating a national strategy. In practice, most national strategies have a greater focus on environmental issues with some attempts to incorporate economic aspects. The social pillar has been the most neglected. As a result, few national strategies develop abilities for considering and making trade-offs among the three areas in overall policy-making.\n",
      "Score: -0.091\n",
      "EXPLAINED TEXT: Most countries emphasize environmental components in their sustainable development strategies. For example, the main focus of the Danish strategy is on integrating environmental considerations into a number of specific sectors. The Australian Strategy for Ecologically Sustainable Development focuses on environmental concerns such as coastal zone management. Japan’s strategy is basically an environmental plan focused on materials recycling, global warming and biodiversity, while Korea’s strategy is based on the National Environmental Vision for the New Millennium. Canada has developed departmental strategies according to “A Guide to Green Government” to pursue the environmental health of the country.\n",
      "Score: -0.033\n",
      "EXPLAINED TEXT: The social element is the dimension the least integrated in national strategies. Whereas these often include social goals, sometimes with indicators, social objectives are generally listed alongside other objectives and rarely melded into a comprehensive strategy. There are also large differences across countries in how they interpret this notion – from a focus on the health consequences of environmental policies, to concerns about ethnic minorities and gender balance, to broader considerations about the quality of life, sustainable consumption and social relations (poverty, crime, employment, education).\n",
      "Score: -0.031\n",
      "EXPLAINED TEXT: GOOD PRACTICES IN THE NATIONAL SUSTAINABLE DEVELOPMENT STRATEGIES OF OECD COUNTRIES – © OECD 2006\n",
      "Score: 0.026\n",
      "EXPLAINED TEXT: ---\n",
      "Score: 0.054\n",
      "EXPLAINED TEXT: A few countries *(e.g.,* Belgium, Germany, New Zealand, Sweden) have succeeded in integrating social elements in their strategies. For example, in 2005, Germany outlined its progress on the Road Map for Sustainability, which addresses employment, ageing, pension and family issues as well as corporate social responsibility.\n",
      "Score: 14.409\n",
      "EXPLAINED TEXT: Some countries have extended social considerations from the domestic to the international sphere. Norway counts among its social sustainability goals the need to increase development assistance and imports from developing countries. Portugal’s national strategy includes guidelines for reinforcing development co-operation, especially with Portuguese speaking countries, and moving towards the target of devoting 0.7% of GDP to official development aid.\n",
      "Score: 0.408\n",
      "EXPLAINED TEXT: ### Task: Give me a list of countries that include social elements.\n",
      "Score: 1.886\n",
      "EXPLAINED TEXT: ### Reponse:\n",
      "Score: 0.225\n"
     ]
    }
   ],
   "source": [
    "answers_prompt = f\"\"\"### Instructions: Solve the task based on the text below\".\n",
    "\n",
    "### Input:\n",
    "{texts[4]}\n",
    "\n",
    "### Task: Give me a list of countries that include social elements.\n",
    "\n",
    "### Reponse:\"\"\"\n",
    "\n",
    "response = client.complete(CompletionRequest(prompt=Prompt.from_text(answers_prompt), maximum_tokens=100, stop_sequences=[\"###\"]), model=\"luminous-base-control\")\n",
    "answer = response.completions[0].completion\n",
    "\n",
    "exp_req = ExplanationRequest(Prompt.from_text(answers_prompt), answer, control_factor=0.1, prompt_granularity=\"paragraph\", target_granularity=TargetGranularity.Complete)\n",
    "response_explain = client.explain(exp_req, model=\"luminous-extended-control\")\n",
    "\n",
    "explanations = response_explain[1][0].items[0][0]\n",
    "\n",
    "for item in explanations:\n",
    "    start = item.start\n",
    "    end = item.start + item.length\n",
    "    print(f\"\"\"EXPLAINED TEXT: {answers_prompt[start:end]}\n",
    "Score: {np.round(item.score, decimals=3)}\"\"\")"
   ]
  },
  {
   "cell_type": "code",
   "execution_count": 17,
   "metadata": {},
   "outputs": [
    {
     "name": "stdout",
     "output_type": "stream",
     "text": [
      "EXPLAINED TEXT: ### Instructions: Solve the task based on the text below\".\n",
      "Score: -1.146\n",
      "EXPLAINED TEXT: ### Input:\n",
      " POLICY INTEGRATION\n",
      "Score: -0.185\n",
      "EXPLAINED TEXT: POLICY INTEGRATION – **15**\n",
      "Score: 0.16\n",
      "EXPLAINED TEXT: Sustainable development has been defined a variety of ways, but in practice it has come to mean development that achieves a balance among economic, environmental and social objectives for both present and future generations. The integration of the three dimensions of sustainable development is one of the most difficult balances to achieve in formulating a national strategy. In practice, most national strategies have a greater focus on environmental issues with some attempts to incorporate economic aspects. The social pillar has been the most neglected. As a result, few national strategies develop abilities for considering and making trade-offs among the three areas in overall policy-making.\n",
      "Score: -0.224\n",
      "EXPLAINED TEXT: Most countries emphasize environmental components in their sustainable development strategies. For example, the main focus of the Danish strategy is on integrating environmental considerations into a number of specific sectors. The Australian Strategy for Ecologically Sustainable Development focuses on environmental concerns such as coastal zone management. Japan’s strategy is basically an environmental plan focused on materials recycling, global warming and biodiversity, while Korea’s strategy is based on the National Environmental Vision for the New Millennium. Canada has developed departmental strategies according to “A Guide to Green Government” to pursue the environmental health of the country.\n",
      "Score: -0.375\n",
      "EXPLAINED TEXT: The social element is the dimension the least integrated in national strategies. Whereas these often include social goals, sometimes with indicators, social objectives are generally listed alongside other objectives and rarely melded into a comprehensive strategy. There are also large differences across countries in how they interpret this notion – from a focus on the health consequences of environmental policies, to concerns about ethnic minorities and gender balance, to broader considerations about the quality of life, sustainable consumption and social relations (poverty, crime, employment, education).\n",
      "Score: 0.112\n",
      "EXPLAINED TEXT: GOOD PRACTICES IN THE NATIONAL SUSTAINABLE DEVELOPMENT STRATEGIES OF OECD COUNTRIES – © OECD 2006\n",
      "Score: 0.454\n",
      "EXPLAINED TEXT: ---\n",
      "Score: 0.12\n",
      "EXPLAINED TEXT: A few countries *(e.g.,* Belgium, Germany, New Zealand, Sweden) have succeeded in integrating social elements in their strategies. For example, in 2005, Germany outlined its progress on the Road Map for Sustainability, which addresses employment, ageing, pension and family issues as well as corporate social responsibility.\n",
      "Score: -0.456\n",
      "EXPLAINED TEXT: Some countries have extended social considerations from the domestic to the international sphere. Norway counts among its social sustainability goals the need to increase development assistance and imports from developing countries. Portugal’s national strategy includes guidelines for reinforcing development co-operation, especially with Portuguese speaking countries, and moving towards the target of devoting 0.7% of GDP to official development aid.\n",
      "Score: 0.235\n",
      "EXPLAINED TEXT: ### Task: Give me a list of countries that include social elements.\n",
      "Score: 6.982\n",
      "EXPLAINED TEXT: ### Reponse:\n",
      "Score: 2.85\n"
     ]
    }
   ],
   "source": [
    "exp_req = ExplanationRequest(Prompt.from_text(answers_prompt), \" The USA have social elements.\", control_factor=0.1, prompt_granularity=\"paragraph\", target_granularity=TargetGranularity.Complete)\n",
    "response_explain = client.explain(exp_req, model=\"luminous-extended\")\n",
    "\n",
    "explanations = response_explain[1][0].items[0][0]\n",
    "\n",
    "for item in explanations:\n",
    "    start = item.start\n",
    "    end = item.start + item.length\n",
    "    print(f\"\"\"EXPLAINED TEXT: {answers_prompt[start:end]}\n",
    "Score: {np.round(item.score, decimals=3)}\"\"\")"
   ]
  },
  {
   "cell_type": "code",
   "execution_count": null,
   "metadata": {},
   "outputs": [],
   "source": []
  }
 ],
 "metadata": {
  "kernelspec": {
   "display_name": "playground",
   "language": "python",
   "name": "python3"
  },
  "language_info": {
   "codemirror_mode": {
    "name": "ipython",
    "version": 3
   },
   "file_extension": ".py",
   "mimetype": "text/x-python",
   "name": "python",
   "nbconvert_exporter": "python",
   "pygments_lexer": "ipython3",
   "version": "3.10.11"
  },
  "orig_nbformat": 4
 },
 "nbformat": 4,
 "nbformat_minor": 2
}
