{
 "cells": [
  {
   "cell_type": "code",
   "execution_count": 1,
   "metadata": {},
   "outputs": [],
   "source": [
    "from aleph_alpha_client import Client, Prompt, CompletionRequest, CompletionResponse\n",
    "from scipy import spatial\n",
    "import numpy as np\n",
    "import os\n",
    "from dotenv import load_dotenv\n",
    "\n",
    "from langchain.llms import AlephAlpha"
   ]
  },
  {
   "attachments": {},
   "cell_type": "markdown",
   "metadata": {},
   "source": [
    "### Step 0: Define some helper functions"
   ]
  },
  {
   "cell_type": "code",
   "execution_count": 2,
   "metadata": {},
   "outputs": [],
   "source": [
    "load_dotenv()\n",
    "\n",
    "# for using the Aleph Alpha API\n",
    "client = Client(token=os.getenv(\"AA_TOKEN\"))\n",
    "\n",
    "# for using LangChain\n",
    "aleph_alpha = AlephAlpha(aleph_alpha_api_key=os.getenv(\"AA_TOKEN\"), model=\"luminous-extended\")"
   ]
  },
  {
   "attachments": {},
   "cell_type": "markdown",
   "metadata": {},
   "source": [
    "#### Step 1: Use the completion function of the API\n"
   ]
  },
  {
   "cell_type": "code",
   "execution_count": 8,
   "metadata": {},
   "outputs": [
    {
     "name": "stdout",
     "output_type": "stream",
     "text": [
      " Hedgehog, hedgehog, where have you been?\n",
      " I've been looking everywhere for you.\n",
      " You were last seen in the garden,\n",
      " Sitting on a sunny stone.\n",
      " You were so happy there,\n",
      " You didn't want to go.\n",
      " But now you\n"
     ]
    }
   ],
   "source": [
    "# using the full-fledged AA API for a simple completion\n",
    "\n",
    "# Define the prompt\n",
    "prompt = Prompt.from_text(\"\"\"### Instructions: Write a poem about Hedgehogs.\n",
    "                          \n",
    "                          ### Response:\"\"\")\n",
    "\n",
    "# Create a completion request with parameters\n",
    "request = CompletionRequest(prompt=prompt, \n",
    "                            maximum_tokens=100, \n",
    "                            temperature=0.0, \n",
    "                            stop_sequences=[])\n",
    "\n",
    "# Send the request to the API\n",
    "response = client.complete(request=request, model=\"luminous-base-control-beta\")\n",
    "\n",
    "# Get the completion\n",
    "completion = response.completions[0].completion\n",
    "print(completion)"
   ]
  },
  {
   "cell_type": "code",
   "execution_count": 9,
   "metadata": {},
   "outputs": [
    {
     "name": "stdout",
     "output_type": "stream",
     "text": [
      " keeps the doctor away, but what about the doctor who keeps you?\n"
     ]
    }
   ],
   "source": [
    "# using LangChain for a simple completion\n",
    "\n",
    "# define the prompt\n",
    "prompt = \"An apple a day\"\n",
    "\n",
    "# define the parameters\n",
    "params = {\n",
    "    \"temperature\": 0.5,\n",
    "    \"model\": \"luminous-extended\",\n",
    "    \"maximum_tokens\": 100\n",
    "}\n",
    "\n",
    "# define the model\n",
    "aleph_alpha = AlephAlpha(aleph_alpha_api_key=os.getenv(\"AA_TOKEN\"), **params)\n",
    "\n",
    "# get the completion\n",
    "response = aleph_alpha(prompt=prompt, stop=[\"\\n\"])\n",
    "print(response)"
   ]
  },
  {
   "attachments": {},
   "cell_type": "markdown",
   "metadata": {},
   "source": [
    "#### Step 2: Write a few shot prompt that generates keywords"
   ]
  },
  {
   "attachments": {},
   "cell_type": "markdown",
   "metadata": {},
   "source": [
    "##### Let's import some data to work on"
   ]
  },
  {
   "cell_type": "code",
   "execution_count": 10,
   "metadata": {},
   "outputs": [
    {
     "name": "stdout",
     "output_type": "stream",
     "text": [
      "data: SUMMARY\n",
      "\n",
      "# Most OECD countries have developed and implemented national sustainable development strat\n",
      "texts:  INDICATORS AND TARGETS\n",
      "\n",
      "The development and incorporation of quantitative indicators can help remov\n"
     ]
    }
   ],
   "source": [
    "# Read the data in the data.md file\n",
    "with open(\"data.md\", \"r\") as f:\n",
    "    data = f.read()\n",
    "    \n",
    "# Split the data into a list of texts\n",
    "texts = data.split(\"#####\")\n",
    "\n",
    "print(f\"data: {data[:100]}\")\n",
    "print(f\"texts: {texts[10][:100]}\")"
   ]
  },
  {
   "cell_type": "code",
   "execution_count": 19,
   "metadata": {},
   "outputs": [
    {
     "name": "stdout",
     "output_type": "stream",
     "text": [
      " INTRODUCTION\n",
      "\n",
      "# Background\n",
      "\n",
      "Governments first agreed to prepare national sustainable development strategies as part of *Agenda 21,* signed at the United Nations Conference on Environment and Development (the Rio Earth Summit) in 1992. The purpose of these strategies was to translate the Summit’s ideas and commitments into concrete policies and actions. Governments agreed to “adopt national strategies for sustainable development [which should] build upon and harmonise the various sectoral, economic, social and environmental policies and plans that are operating in the country. Its goals should be to ensure socially responsible economic development for the benefit of future generations”.\n",
      "\n",
      "In 1997, the Special Session of the UN General Assembly met to review progress since the Rio Summit and set a target date of 2002 for introducing national sustainable development strategies. Subsequently, the 2002 World Summit on Sustainable Development (WSSD) noted the lack of progress in strategy development and implementation. Countries were urged to \"take immediate steps to make progress in the formulation and elaboration of NSDS and to begin their implementation by 2005\". In addition, integrating the principles of sustainable development into country policies and programmes is one of the targets contained in the United Nations Millennium Declaration.\n",
      "\n",
      "# Current status of strategies\n",
      "\n",
      "According to the UN Commission on Sustainable Development (UNCSD), much work remains to be done to reach the WSSD target that all countries should be in the process of implementing their NSDS by 2005. According to an assessment of the status of national strategies in 2004, only 12% of a total of 191 countries had strategies which were being implemented (UN DESA, 2004). However, another 24% had strategy\n",
      "\n",
      "GOOD PRACTICES IN THE NATIONAL SUSTAINABLE DEVELOPMENT STRATEGIES OF OECD COUNTRIES – © OECD 2006\n",
      "\n",
      "\n",
      "# National strategies in OECD countries\n",
      "\n",
      "As for the 30 OECD countries, most have developed national sustainable development strategies in some form. Internet links to national sustainable development strategies and plans in OECD countries are given in the Annex.\n",
      "\n",
      "Twenty-three OECD countries have prepared formal strategies or plans. Of these, Australia, Finland, France, Japan, Luxembourg, the Netherlands, Sweden, Switzerland and the United Kingdom formulated strategies relatively early and some *(e.g.,* the United Kingdom) have since revised their strategies. Austria, the Czech Republic, Denmark, Germany, Greece, Iceland, Ireland, Italy, Korea, New Zealand, Norway, Poland, Portugal and the Slovak Republic prepared their first national strategies more recently.\n",
      "\n",
      "In 2001, the European Union also developed a sustainable development strategy for its Member countries (under revision in 2006), while a Nordic Strategy for Sustainable Development (Denmark, Finland, Iceland, Norway and Sweden) was revised in 2005.\n",
      "\n",
      "Seven OECD countries do not have national sustainable development strategies as such – Belgium, Canada, Hungary, Mexico, Spain, Turkey and the United States. In federal countries such as Belgium and Canada, it is more difficult to develop a comprehensive national strategy. In Belgium, the federal government adopted a sustainable development strategy and is now in the process of developing a national strategy together with the governments of the regions and communities. Canada has adopted a decentralised approach, where 28 federal departments and agencies have enumerated sustainable development strategies, and is now formulating an overall national plan.\n",
      "\n",
      "Mexico has integrated sustainable development elements into existing national development plans rather than develop a separate strategy. Hungary, Spain and Turkey are in the process of developing national sustainable development strategies. The United States has emphasized public/private sustainable development partnerships to promote economic growth, social development and environmental stewardship.\n",
      "\n",
      "GOOD PRACTICES IN THE NATIONAL SUSTAINABLE DEVELOPMENT STRATEGIES OF OECD COUNTRIES – © OECD 2006\n",
      "\n",
      "---\n",
      "\n",
      "\n"
     ]
    }
   ],
   "source": [
    "print(texts[1])"
   ]
  },
  {
   "attachments": {},
   "cell_type": "markdown",
   "metadata": {},
   "source": [
    "###### Let's create Keywords for the first 10 rows of the dataset"
   ]
  },
  {
   "cell_type": "code",
   "execution_count": 11,
   "metadata": {},
   "outputs": [
    {
     "name": "stdout",
     "output_type": "stream",
     "text": [
      " National sustainable development strategies, OECD, Agenda 21, Sustainable development, Policy integration, Intergenerational timeframe, Analysis and assessments, Co-ordination and institutions\n",
      " National sustainable development strategy, National strategy, Strategy, Implementation, Implementation, Implementation, Implementation, Implementation, Implementation, Implementation, Implementation, Implementation, Implementation, Implementation,\n",
      " National sustainable development strategy, National strategy, National sustainable development, National sustainable development strategy, National sustainable development strategy, National sustainable development strategy, National sustainable development strategy,\n",
      " National Sustainable Development Strategies, OECD, United Nations, Strategy, Policy integration, Inter-generational timeframe, Analysis and assessments, Co-ordination and institutions\n",
      " Sustainable development, National strategy, Environmental pillar, Social pillar, Trade-offs, Environmental health, Social objectives, Social sustainability, Social indicators, Social policy, Social\n",
      " Intergenerational timeframe, Long-term, Sustainability, Strategy, Vision, Political commitment, Timeframe, Sweden, Denmark, Germany, Iceland, Poland,\n",
      " Environmental assessment, Strategic environmental assessment, Strategic sustainability assessment, Cost-benefit analysis, Accounting framework, SWOT analysis, Budget mechanism, Gender equality, Equal opportunities\n",
      " Co-ordination, Institutions, Strategy, Implementation\n",
      " Local and regional governance, Sustainable development, National strategies, Local Agenda 21, Local and regional authorities, Sub-strategies\n",
      " Stakeholders, Consultation, Dialogue, Innovation, National strategies, Sustainable development\n",
      " Indicators, Targets, National Strategies, Sustainable Development, OECD\n",
      " Monitoring, Evaluation, Learning, Adaptation, Strategy, National, Sustainable development\n"
     ]
    }
   ],
   "source": [
    "# Get the first 10 texts\n",
    "texts_for_keywords = texts\n",
    "\n",
    "# TODO write a function that takes a text and returns a list of keywords\n",
    "def get_keywords(text):\n",
    "    # TODO Write a prompt that generates keywords for any text\n",
    "    # Tipp: Use few-shot learning\n",
    "    \n",
    "    # 1. define the prompt\n",
    "    prompt = Prompt.from_text(f\"\"\"Identify matching keywords for each text.\n",
    "###\n",
    "Text: The \"Whiskey War\" is an ongoing conflict between Denmark and Canada over ownership of Hans Island. The dispute began in 1973, when Denmark and Canada reached an agreement on Greenland's borders. However, no settlement regarding Hans Island could be reached by the time the treaty was signed. Since then both countries have used peaceful means - such as planting their national flag or burying liquor - to draw attention to the disagreement.\n",
    "Keywords: Conflict, Whiskey War, Denmark, Canada, Treaty, Flag, Liquor\n",
    "###\n",
    "Text: NASA launched the Discovery program to explore the solar system. It comprises a series of expeditions that have continued from the program's launch in the 1990s to the present day. In the course of the 16 expeditions launched so far, the Moon, Mars, Mercury and Venus, among others, have been explored. Unlike other space programs, the Discovery program places particular emphasis on cost efficiency, true to the motto: \"faster, better, cheaper\".\n",
    "Keywords: Space program, NASA, Expedition, Cost efficiency, Moon, Mars, Mercury, Venus\n",
    "###\n",
    "Text: {text}\n",
    "Keywords:\"\"\")   \n",
    "    \n",
    "    # 2. define the completion request \n",
    "    request = CompletionRequest(prompt=prompt, \n",
    "                                    maximum_tokens=32, \n",
    "                                    temperature=0, \n",
    "                                    stop_sequences=[\"\\n\"])\n",
    "    \n",
    "    # 3. send the request to the API\n",
    "    response = client.complete(request=request, model=\"luminous-base\")\n",
    "    \n",
    "    # 4. get the completion\n",
    "    completion = response.completions[0].completion\n",
    "    return completion\n",
    "\n",
    "def get_keywords_langchain(text):\n",
    "    # TODO Write a prompt that generates keywords for any text\n",
    "    # Tipp: Use few-shot learning\n",
    "    \n",
    "    # 1. define the prompt\n",
    "    prompt = f\"\"\"### Instructions: Extract keywords from the text. ### Input: Text:{text}\\n### Response:\"\"\"\n",
    "    \n",
    "    # 2. define the parameters\n",
    "    params = {\n",
    "        \"temperature\": 0.5,\n",
    "        \"model\": \"luminous-base-control-beta\",\n",
    "        \"maximum_tokens\": 100\n",
    "    }\n",
    "\n",
    "    # 3. define the model\n",
    "    aleph_alpha = AlephAlpha(aleph_alpha_api_key=os.getenv(\"AA_TOKEN\"), **params)\n",
    "    \n",
    "    # 4. get the completion\n",
    "    response = aleph_alpha(prompt=prompt, stop=[\"\\n\"])\n",
    "    return response\n",
    "    \n",
    "\n",
    "for text in texts:\n",
    "    keywords = get_keywords(text)\n",
    "    print(keywords)"
   ]
  },
  {
   "cell_type": "code",
   "execution_count": 13,
   "metadata": {},
   "outputs": [
    {
     "name": "stdout",
     "output_type": "stream",
     "text": [
      " POLICY INTEGRATION\n",
      "\n",
      "POLICY INTEGRATION – **15**\n",
      "\n",
      "Sustainable development has been defined a variety of ways, but in practice it has come to mean development that achieves a balance among economic, environmental and social objectives for both present and future generations. The integration of the three dimensions of sustainable development is one of the most difficult balances to achieve in formulating a national strategy. In practice, most national strategies have a greater focus on environmental issues with some attempts to incorporate economic aspects. The social pillar has been the most neglected. As a result, few national strategies develop abilities for considering and making trade-offs among the three areas in overall policy-making.\n",
      "\n",
      "Most countries emphasize environmental components in their sustainable development strategies. For example, the main focus of the Danish strategy is on integrating environmental considerations into a number of specific sectors. The Australian Strategy for Ecologically Sustainable Development focuses on environmental concerns such as coastal zone management. Japan’s strategy is basically an environmental plan focused on materials recycling, global warming and biodiversity, while Korea’s strategy is based on the National Environmental Vision for the New Millennium. Canada has developed departmental strategies according to “A Guide to Green Government” to pursue the environmental health of the country.\n",
      "\n",
      "The social element is the dimension the least integrated in national strategies. Whereas these often include social goals, sometimes with indicators, social objectives are generally listed alongside other objectives and rarely melded into a comprehensive strategy. There are also large differences across countries in how they interpret this notion – from a focus on the health consequences of environmental policies, to concerns about ethnic minorities and gender balance, to broader considerations about the quality of life, sustainable consumption and social relations (poverty, crime, employment, education).\n",
      "\n",
      "GOOD PRACTICES IN THE NATIONAL SUSTAINABLE DEVELOPMENT STRATEGIES OF OECD COUNTRIES – © OECD 2006\n",
      "\n",
      "---\n",
      "\n",
      "A few countries *(e.g.,* Belgium, Germany, New Zealand, Sweden) have succeeded in integrating social elements in their strategies. For example, in 2005, Germany outlined its progress on the Road Map for Sustainability, which addresses employment, ageing, pension and family issues as well as corporate social responsibility.\n",
      "\n",
      "Some countries have extended social considerations from the domestic to the international sphere. Norway counts among its social sustainability goals the need to increase development assistance and imports from developing countries. Portugal’s national strategy includes guidelines for reinforcing development co-operation, especially with Portuguese speaking countries, and moving towards the target of devoting 0.7% of GDP to official development aid.\n",
      "\n",
      "\n"
     ]
    }
   ],
   "source": [
    "print(texts[4])"
   ]
  },
  {
   "attachments": {},
   "cell_type": "markdown",
   "metadata": {},
   "source": [
    "### Let's use Langchain to run a chain"
   ]
  },
  {
   "cell_type": "code",
   "execution_count": 14,
   "metadata": {},
   "outputs": [
    {
     "name": "stdout",
     "output_type": "stream",
     "text": [
      " - Belgium\n",
      "- Germany\n",
      "- New Zealand\n",
      "- Sweden\n"
     ]
    }
   ],
   "source": [
    "# use a chain from langchain to generate a text\n",
    "\n",
    "from langchain import PromptTemplate, LLMChain\n",
    "\n",
    "template = \"\"\"### Instructions: Solve the task based on the text below\".\n",
    "\n",
    "### Input:\n",
    "{context}\n",
    "\n",
    "### Task: {question}\n",
    "\n",
    "### Response:\"\"\"\n",
    "\n",
    "prompt = PromptTemplate(template=template, input_variables=[\"question\", \"context\"])\n",
    "\n",
    "llm = AlephAlpha(model=\"luminous-base-control-beta\", maximum_tokens=32, stop_sequences=[\"###:\"], aleph_alpha_api_key=os.getenv(\"AA_TOKEN\"))\n",
    "\n",
    "llm_chain = LLMChain(prompt=prompt, llm=llm)\n",
    "\n",
    "question = \"Give me a list of countries that include social elements.\"\n",
    "\n",
    "answer = llm_chain.run(question = question, context = texts[4])\n",
    "\n",
    "print(answer)"
   ]
  },
  {
   "cell_type": "code",
   "execution_count": 15,
   "metadata": {},
   "outputs": [
    {
     "name": "stdout",
     "output_type": "stream",
     "text": [
      "Question:  What are some of the ways that stakeholders are involved in the development and implementation of national strategies for sustainable development?\n",
      "Answer: \n",
      " Some of the ways that stakeholders are involved in the development and implementation of national strategies for sustainable development include:\n",
      " \n",
      " - being consulted in the development of national strategies,\n",
      " - being involved in special commissions and councils which provide advice to but are separate from the government bodies which implement the strategy,\n",
      " - being included alongside government bodies as part of their overall co-ordination structure for sustainable development,\n",
      "\n"
     ]
    }
   ],
   "source": [
    "# TODO write two prompts one, that generates a question about a text and one that then answers the questions\n",
    "\n",
    "def generate_questions_and_answers(text):\n",
    "    # TODO Write a prompt that generates questions and answers for any text\n",
    "    # Tipp: Use few-shot learning\n",
    "        \n",
    "    # 1. TODO define the prompt\n",
    "    questions_prompt = Prompt.from_text(f\"\"\"### Instructions: Generate one specific question about the text below.\n",
    "                                        \n",
    "                                        ### Input: {text}\n",
    "                                        \n",
    "                                        ### Response:\"\"\")\n",
    "    \n",
    "    # 2. TODO define the completion request for the questions\n",
    "    request = CompletionRequest(prompt=questions_prompt, temperature=0.0, stop_sequences=[\"\\n\"])\n",
    "    response = client.complete(request=request, model=\"luminous-base-control-beta\")\n",
    "    question = response.completions[0].completion\n",
    "    \n",
    "    # 3. get the completion for answers\n",
    "    answers_prompt = Prompt.from_text(f\"\"\"### Instructions: Generate an answer to the question below based on the text.\n",
    "                                        \n",
    "                                        ### Input: {text}\n",
    "                                        \n",
    "                                        ### Question: {question}\n",
    "                                        \n",
    "                                        ### Response:\"\"\")   \n",
    "    request = CompletionRequest(prompt=answers_prompt, temperature=0.0, maximum_tokens=128)\n",
    "    response = client.complete(request=request, model=\"luminous-base-control-beta\")\n",
    "        \n",
    "    # 4. get the completion\n",
    "    completion = response.completions[0].completion\n",
    "    \n",
    "    return question, completion\n",
    "\n",
    "text = texts[9]\n",
    "\n",
    "question, completion = generate_questions_and_answers(text)\n",
    "print(f\"Question: {question}\")\n",
    "print(f\"Answer: \\n{completion}\")"
   ]
  },
  {
   "cell_type": "code",
   "execution_count": 16,
   "metadata": {},
   "outputs": [],
   "source": [
    "# TODO write a function where the user chats with an AI, store the conversation in a list as a memory\n",
    "history = []\n",
    "def chat_with_ai(message):\n",
    "    # TODO Write a prompt that generates questions and answers for any text\n",
    "    # Tipp: Use few-shot learning\n",
    "    history.append(f\"User: {message}\")\n",
    "    breaker = \"\\n\"\n",
    "    # 1. TODO define the prompt with the message and the history\n",
    "    prompt = Prompt.from_text(f\"\"\"### Instructions: You are a friendly and helpful AI. You are chatting with a human user. Try your best to answer their questions.\n",
    "\n",
    "### History: \n",
    "{breaker.join(history)}\n",
    "\n",
    "### AI:\"\"\")\n",
    "    \n",
    "    # 2. TODO define the completion request for the answer\n",
    "    request = CompletionRequest(prompt=prompt, temperature=0.5,)\n",
    "    response = client.complete(request=request, model=\"luminous-base-control\")\n",
    "    answer = response.completions[0].completion\n",
    "    \n",
    "    \n",
    "    \n",
    "    history.append(f\"AI: {answer}\")\n",
    "    \n",
    "    return \"\\n\".join(history)\n"
   ]
  },
  {
   "cell_type": "code",
   "execution_count": 20,
   "metadata": {},
   "outputs": [
    {
     "name": "stdout",
     "output_type": "stream",
     "text": [
      "User: Maybe you can help me out. What are the most important things to know about boats?\n",
      "AI:  Sure! Boats are a type of watercraft used for transportation, fishing, and recreation. They are typically powered by sail or motor, and can be made from wood, metal, plastic, or fiberglass. The size and type of boat will depend on the intended use. For example, a small dinghy is\n",
      "User: How expensive are big boats?\n",
      "AI:  Typically, bigger boats are more expensive than smaller ones. However, there are many factors that affect the cost, such as size, type, and features. For example, a luxury yacht can cost hundreds of thousands of dollars, while a small fishing boat might only cost a few thousand dollars.\n",
      "User: Tell me more about the smaller ones\n",
      "AI:  Smaller boats are often used for recreational purposes, such as fishing or swimming. They are generally less expensive than larger boats, but still provide plenty of features and amenities. For example, a fishing boat may have a small motor and a few fishing rods, while a luxury yacht may have a large number of amenities and\n",
      "User: Give me that as a list\n",
      "AI:  - Fishing boat\n",
      "- Luxury yacht\n"
     ]
    }
   ],
   "source": [
    "print(chat_with_ai(\"What can you tell me about Heidelberg?\"))"
   ]
  },
  {
   "cell_type": "code",
   "execution_count": null,
   "metadata": {},
   "outputs": [],
   "source": []
  }
 ],
 "metadata": {
  "kernelspec": {
   "display_name": "playground",
   "language": "python",
   "name": "python3"
  },
  "language_info": {
   "codemirror_mode": {
    "name": "ipython",
    "version": 3
   },
   "file_extension": ".py",
   "mimetype": "text/x-python",
   "name": "python",
   "nbconvert_exporter": "python",
   "pygments_lexer": "ipython3",
   "version": "3.9.12"
  },
  "orig_nbformat": 4
 },
 "nbformat": 4,
 "nbformat_minor": 2
}
