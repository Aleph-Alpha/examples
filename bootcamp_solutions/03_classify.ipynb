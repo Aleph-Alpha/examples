{
 "cells": [
  {
   "cell_type": "code",
   "execution_count": 1,
   "metadata": {},
   "outputs": [],
   "source": [
    "from aleph_alpha_client import Client, SemanticEmbeddingRequest, SemanticEmbeddingResponse, SemanticRepresentation, Prompt, TextControl, Image\n",
    "from scipy import spatial\n",
    "import numpy as np\n",
    "import os\n",
    "from dotenv import load_dotenv\n",
    "\n",
    "from langchain.llms import AlephAlpha\n",
    "from langchain.embeddings import AlephAlphaSymmetricSemanticEmbedding, AlephAlphaAsymmetricSemanticEmbedding\n",
    "\n",
    "import plotly.express as px\n",
    "import plotly.graph_objects as go\n",
    "\n",
    "from sklearn.neighbors import KNeighborsClassifier\n",
    "from sklearn.svm import SVC\n",
    "from sklearn.decomposition import PCA"
   ]
  },
  {
   "cell_type": "code",
   "execution_count": 2,
   "metadata": {},
   "outputs": [],
   "source": [
    "load_dotenv()\n",
    "\n",
    "client = Client(token=os.getenv(\"AA_TOKEN\"))"
   ]
  },
  {
   "attachments": {},
   "cell_type": "markdown",
   "metadata": {},
   "source": [
    "## Let's use luminous embeddings as a classifier"
   ]
  },
  {
   "cell_type": "code",
   "execution_count": 3,
   "metadata": {},
   "outputs": [],
   "source": [
    "# Here we define two classes that we want to classify\n",
    "class_1 = [\"Find balance in the digital age with mindful technology use and prioritizing self-care.\",\n",
    "\"Take charge of your digital wellbeing by setting boundaries and practicing digital detoxes.\",\n",
    "\"Promote digital wellbeing through healthy screen time habits and fostering positive online relationships.\",\n",
    "\"Explore digital wellbeing apps and tools that help you manage your digital presence and mental health.\",\n",
    "\"Prioritize your physical and mental health by practicing digital mindfulness and limiting screen time.\",\n",
    "\"Digital wellbeing starts with conscious choices, such as disconnecting from devices and engaging in offline activities.\",\n",
    "]\n",
    "\n",
    "class_2 = [\n",
    "    \"Digital natives effortlessly navigate the digital landscape, growing up in a world saturated with technology.\",\n",
    "\"Born in the digital era, digital natives possess innate digital literacy and adapt quickly to new technologies.\",\n",
    "\"Digital natives seamlessly integrate technology into their daily lives, leveraging it for communication, learning, and entertainment.\",\n",
    "\"As digital natives, they are the vanguards of technological advancements, shaping the digital landscape with their digital-first mindset.\",\n",
    "\"Digital natives are fluent in the language of emojis, hashtags, and memes, using them to express themselves in the digital realm.\",\n",
    "\"Growing up surrounded by screens, digital natives are at ease multitasking across multiple devices and platforms.\",\n",
    "]\n",
    "\n",
    "class_3 = [\n",
    "    \"Digital companies leverage innovative technologies to disrupt traditional industries and drive digital transformation.\",\n",
    "\"Agile and data-driven, digital companies thrive in the ever-evolving digital ecosystem, constantly adapting to market demands.\",\n",
    "\"Digital companies prioritize user experience, leveraging intuitive interfaces and seamless interactions to engage and retain customers.\",\n",
    "\"From e-commerce giants to fintech startups, digital companies revolutionize the way business is conducted in the digital age.\",\n",
    "\"Digital companies harness the power of big data and analytics to gain actionable insights and drive informed decision-making.\",\n",
    "\"In a borderless digital world, digital companies operate globally, transcending geographical limitations and connecting people worldwide.\",\n",
    "]"
   ]
  },
  {
   "attachments": {},
   "cell_type": "markdown",
   "metadata": {},
   "source": [
    "### Next we generate embeddings for each class"
   ]
  },
  {
   "cell_type": "code",
   "execution_count": 6,
   "metadata": {},
   "outputs": [],
   "source": [
    "# TODO: Use the AlephAlpha client to embed the sentences in the two classes\n",
    "embeddings_class_1 = [client.semantic_embed(SemanticEmbeddingRequest(prompt=Prompt.from_text(text), representation=SemanticRepresentation.Symmetric), model=\"luminous-base\").embedding for text in class_1]\n",
    "embeddings_class_2 = [client.semantic_embed(SemanticEmbeddingRequest(prompt=Prompt.from_text(text), representation=SemanticRepresentation.Symmetric), model=\"luminous-base\").embedding for text in class_2]\n",
    "embeddings_class_3 = [client.semantic_embed(SemanticEmbeddingRequest(prompt=Prompt.from_text(text), representation=SemanticRepresentation.Symmetric), model=\"luminous-base\").embedding for text in class_3]\n",
    "\n",
    "new_sentence = \"In order to retain control over your life, you should try to limit your screen time and practice digital mindfulness.\"\n",
    "sentence_embedding = client.semantic_embed(SemanticEmbeddingRequest(prompt=Prompt.from_text(new_sentence), representation=SemanticRepresentation.Symmetric), model=\"luminous-base\").embedding"
   ]
  },
  {
   "cell_type": "code",
   "execution_count": 8,
   "metadata": {},
   "outputs": [
    {
     "name": "stdout",
     "output_type": "stream",
     "text": [
      "Similarity to class 1:  0.7012025705238072\n",
      "Similarity to class 2:  0.24509307877740896\n",
      "Similarity to class 3:  0.20123699443182996\n"
     ]
    }
   ],
   "source": [
    "# TODO: get the average similarity of the new sentence to the two classes\n",
    "\n",
    "similarities_class_1 = [1 - spatial.distance.cosine(sentence_embedding, embedding) for embedding in embeddings_class_1]\n",
    "similarities_class_2 = [1 - spatial.distance.cosine(sentence_embedding, embedding) for embedding in embeddings_class_2]\n",
    "similarities_class_3 = [1 - spatial.distance.cosine(sentence_embedding, embedding) for embedding in embeddings_class_3]\n",
    "\n",
    "# TODO get the average similarity of the new sentence to the two classes\n",
    "avg_similarity_class_1 = np.mean(similarities_class_1)\n",
    "avg_similarity_class_2 = np.mean(similarities_class_2)\n",
    "avg_similarity_class_3 = np.mean(similarities_class_3)\n",
    "\n",
    "print(\"Similarity to class 1: \", avg_similarity_class_1)\n",
    "print(\"Similarity to class 2: \", avg_similarity_class_2)\n",
    "print(\"Similarity to class 3: \", avg_similarity_class_3)"
   ]
  },
  {
   "cell_type": "code",
   "execution_count": 9,
   "metadata": {},
   "outputs": [
    {
     "data": {
      "application/vnd.plotly.v1+json": {
       "config": {
        "plotlyServerURL": "https://plot.ly"
       },
       "data": [
        {
         "hovertemplate": "<b>%{text}</b><br><br><i>Similarity to new sentence:</i><br>%{marker.color:.2f}<br><extra></extra>",
         "marker": {
          "color": "red",
          "size": 12
         },
         "mode": "markers",
         "name": "Class 1",
         "text": [
          "Find balance in the digital age with mindful technology use and prioritizing self-care.",
          "Take charge of your digital wellbeing by setting boundaries and practicing digital detoxes.",
          "Promote digital wellbeing through healthy screen time habits and fostering positive online relationships.",
          "Explore digital wellbeing apps and tools that help you manage your digital presence and mental health.",
          "Prioritize your physical and mental health by practicing digital mindfulness and limiting screen time.",
          "Digital wellbeing starts with conscious choices, such as disconnecting from devices and engaging in offline activities.",
          "Digital natives effortlessly navigate the digital landscape, growing up in a world saturated with technology.",
          "Born in the digital era, digital natives possess innate digital literacy and adapt quickly to new technologies.",
          "Digital natives seamlessly integrate technology into their daily lives, leveraging it for communication, learning, and entertainment.",
          "As digital natives, they are the vanguards of technological advancements, shaping the digital landscape with their digital-first mindset.",
          "Digital natives are fluent in the language of emojis, hashtags, and memes, using them to express themselves in the digital realm.",
          "Growing up surrounded by screens, digital natives are at ease multitasking across multiple devices and platforms.",
          "Digital companies leverage innovative technologies to disrupt traditional industries and drive digital transformation.",
          "Agile and data-driven, digital companies thrive in the ever-evolving digital ecosystem, constantly adapting to market demands.",
          "Digital companies prioritize user experience, leveraging intuitive interfaces and seamless interactions to engage and retain customers.",
          "From e-commerce giants to fintech startups, digital companies revolutionize the way business is conducted in the digital age.",
          "Digital companies harness the power of big data and analytics to gain actionable insights and drive informed decision-making.",
          "In a borderless digital world, digital companies operate globally, transcending geographical limitations and connecting people worldwide."
         ],
         "textposition": "top center",
         "type": "scatter",
         "x": [
          40.3644189785461,
          55.01176845180327,
          38.784614171010666,
          42.32182471311066,
          57.17071545007211,
          47.632771008913124
         ],
         "y": [
          -3.710718755579466,
          -1.1161059206846389,
          -13.223276330825323,
          -0.5755421608898256,
          -9.198422657202828,
          -3.9607960372373014
         ]
        },
        {
         "hovertemplate": "<b>%{text}</b><br><br><i>Similarity to new sentence:</i><br>%{marker.color:.2f}<br><extra></extra>",
         "marker": {
          "color": "green",
          "size": 12
         },
         "mode": "markers",
         "name": "Class 2",
         "text": [
          "Find balance in the digital age with mindful technology use and prioritizing self-care.",
          "Take charge of your digital wellbeing by setting boundaries and practicing digital detoxes.",
          "Promote digital wellbeing through healthy screen time habits and fostering positive online relationships.",
          "Explore digital wellbeing apps and tools that help you manage your digital presence and mental health.",
          "Prioritize your physical and mental health by practicing digital mindfulness and limiting screen time.",
          "Digital wellbeing starts with conscious choices, such as disconnecting from devices and engaging in offline activities.",
          "Digital natives effortlessly navigate the digital landscape, growing up in a world saturated with technology.",
          "Born in the digital era, digital natives possess innate digital literacy and adapt quickly to new technologies.",
          "Digital natives seamlessly integrate technology into their daily lives, leveraging it for communication, learning, and entertainment.",
          "As digital natives, they are the vanguards of technological advancements, shaping the digital landscape with their digital-first mindset.",
          "Digital natives are fluent in the language of emojis, hashtags, and memes, using them to express themselves in the digital realm.",
          "Growing up surrounded by screens, digital natives are at ease multitasking across multiple devices and platforms.",
          "Digital companies leverage innovative technologies to disrupt traditional industries and drive digital transformation.",
          "Agile and data-driven, digital companies thrive in the ever-evolving digital ecosystem, constantly adapting to market demands.",
          "Digital companies prioritize user experience, leveraging intuitive interfaces and seamless interactions to engage and retain customers.",
          "From e-commerce giants to fintech startups, digital companies revolutionize the way business is conducted in the digital age.",
          "Digital companies harness the power of big data and analytics to gain actionable insights and drive informed decision-making.",
          "In a borderless digital world, digital companies operate globally, transcending geographical limitations and connecting people worldwide."
         ],
         "textposition": "top center",
         "type": "scatter",
         "x": [
          -32.69689470060975,
          -36.160789132604194,
          -35.33854079296454,
          -32.95918502381612,
          -26.293475959010557,
          -18.592303130788938
         ],
         "y": [
          -31.593129143618675,
          -28.556496570939668,
          -32.95516058083169,
          -10.387752356212253,
          -29.927198602630455,
          -30.198652143986138
         ]
        },
        {
         "hovertemplate": "<b>%{text}</b><br><br><i>Similarity to new sentence:</i><br>%{marker.color:.2f}<br><extra></extra>",
         "marker": {
          "color": "blue",
          "size": 12
         },
         "mode": "markers",
         "name": "Class 3",
         "text": [
          "Find balance in the digital age with mindful technology use and prioritizing self-care.",
          "Take charge of your digital wellbeing by setting boundaries and practicing digital detoxes.",
          "Promote digital wellbeing through healthy screen time habits and fostering positive online relationships.",
          "Explore digital wellbeing apps and tools that help you manage your digital presence and mental health.",
          "Prioritize your physical and mental health by practicing digital mindfulness and limiting screen time.",
          "Digital wellbeing starts with conscious choices, such as disconnecting from devices and engaging in offline activities.",
          "Digital natives effortlessly navigate the digital landscape, growing up in a world saturated with technology.",
          "Born in the digital era, digital natives possess innate digital literacy and adapt quickly to new technologies.",
          "Digital natives seamlessly integrate technology into their daily lives, leveraging it for communication, learning, and entertainment.",
          "As digital natives, they are the vanguards of technological advancements, shaping the digital landscape with their digital-first mindset.",
          "Digital natives are fluent in the language of emojis, hashtags, and memes, using them to express themselves in the digital realm.",
          "Growing up surrounded by screens, digital natives are at ease multitasking across multiple devices and platforms.",
          "Digital companies leverage innovative technologies to disrupt traditional industries and drive digital transformation.",
          "Agile and data-driven, digital companies thrive in the ever-evolving digital ecosystem, constantly adapting to market demands.",
          "Digital companies prioritize user experience, leveraging intuitive interfaces and seamless interactions to engage and retain customers.",
          "From e-commerce giants to fintech startups, digital companies revolutionize the way business is conducted in the digital age.",
          "Digital companies harness the power of big data and analytics to gain actionable insights and drive informed decision-making.",
          "In a borderless digital world, digital companies operate globally, transcending geographical limitations and connecting people worldwide."
         ],
         "textposition": "top center",
         "type": "scatter",
         "x": [
          -25.43722815763681,
          -19.944581116031593,
          -6.058451011001793,
          -21.649921117319984,
          -6.722031519706574,
          -19.432711111965084
         ],
         "y": [
          46.696319434701145,
          33.148101515894865,
          16.728444092036245,
          39.86583392918208,
          39.43447759097399,
          19.530074697849912
         ]
        }
       ],
       "layout": {
        "template": {
         "data": {
          "bar": [
           {
            "error_x": {
             "color": "#2a3f5f"
            },
            "error_y": {
             "color": "#2a3f5f"
            },
            "marker": {
             "line": {
              "color": "#E5ECF6",
              "width": 0.5
             },
             "pattern": {
              "fillmode": "overlay",
              "size": 10,
              "solidity": 0.2
             }
            },
            "type": "bar"
           }
          ],
          "barpolar": [
           {
            "marker": {
             "line": {
              "color": "#E5ECF6",
              "width": 0.5
             },
             "pattern": {
              "fillmode": "overlay",
              "size": 10,
              "solidity": 0.2
             }
            },
            "type": "barpolar"
           }
          ],
          "carpet": [
           {
            "aaxis": {
             "endlinecolor": "#2a3f5f",
             "gridcolor": "white",
             "linecolor": "white",
             "minorgridcolor": "white",
             "startlinecolor": "#2a3f5f"
            },
            "baxis": {
             "endlinecolor": "#2a3f5f",
             "gridcolor": "white",
             "linecolor": "white",
             "minorgridcolor": "white",
             "startlinecolor": "#2a3f5f"
            },
            "type": "carpet"
           }
          ],
          "choropleth": [
           {
            "colorbar": {
             "outlinewidth": 0,
             "ticks": ""
            },
            "type": "choropleth"
           }
          ],
          "contour": [
           {
            "colorbar": {
             "outlinewidth": 0,
             "ticks": ""
            },
            "colorscale": [
             [
              0,
              "#0d0887"
             ],
             [
              0.1111111111111111,
              "#46039f"
             ],
             [
              0.2222222222222222,
              "#7201a8"
             ],
             [
              0.3333333333333333,
              "#9c179e"
             ],
             [
              0.4444444444444444,
              "#bd3786"
             ],
             [
              0.5555555555555556,
              "#d8576b"
             ],
             [
              0.6666666666666666,
              "#ed7953"
             ],
             [
              0.7777777777777778,
              "#fb9f3a"
             ],
             [
              0.8888888888888888,
              "#fdca26"
             ],
             [
              1,
              "#f0f921"
             ]
            ],
            "type": "contour"
           }
          ],
          "contourcarpet": [
           {
            "colorbar": {
             "outlinewidth": 0,
             "ticks": ""
            },
            "type": "contourcarpet"
           }
          ],
          "heatmap": [
           {
            "colorbar": {
             "outlinewidth": 0,
             "ticks": ""
            },
            "colorscale": [
             [
              0,
              "#0d0887"
             ],
             [
              0.1111111111111111,
              "#46039f"
             ],
             [
              0.2222222222222222,
              "#7201a8"
             ],
             [
              0.3333333333333333,
              "#9c179e"
             ],
             [
              0.4444444444444444,
              "#bd3786"
             ],
             [
              0.5555555555555556,
              "#d8576b"
             ],
             [
              0.6666666666666666,
              "#ed7953"
             ],
             [
              0.7777777777777778,
              "#fb9f3a"
             ],
             [
              0.8888888888888888,
              "#fdca26"
             ],
             [
              1,
              "#f0f921"
             ]
            ],
            "type": "heatmap"
           }
          ],
          "heatmapgl": [
           {
            "colorbar": {
             "outlinewidth": 0,
             "ticks": ""
            },
            "colorscale": [
             [
              0,
              "#0d0887"
             ],
             [
              0.1111111111111111,
              "#46039f"
             ],
             [
              0.2222222222222222,
              "#7201a8"
             ],
             [
              0.3333333333333333,
              "#9c179e"
             ],
             [
              0.4444444444444444,
              "#bd3786"
             ],
             [
              0.5555555555555556,
              "#d8576b"
             ],
             [
              0.6666666666666666,
              "#ed7953"
             ],
             [
              0.7777777777777778,
              "#fb9f3a"
             ],
             [
              0.8888888888888888,
              "#fdca26"
             ],
             [
              1,
              "#f0f921"
             ]
            ],
            "type": "heatmapgl"
           }
          ],
          "histogram": [
           {
            "marker": {
             "pattern": {
              "fillmode": "overlay",
              "size": 10,
              "solidity": 0.2
             }
            },
            "type": "histogram"
           }
          ],
          "histogram2d": [
           {
            "colorbar": {
             "outlinewidth": 0,
             "ticks": ""
            },
            "colorscale": [
             [
              0,
              "#0d0887"
             ],
             [
              0.1111111111111111,
              "#46039f"
             ],
             [
              0.2222222222222222,
              "#7201a8"
             ],
             [
              0.3333333333333333,
              "#9c179e"
             ],
             [
              0.4444444444444444,
              "#bd3786"
             ],
             [
              0.5555555555555556,
              "#d8576b"
             ],
             [
              0.6666666666666666,
              "#ed7953"
             ],
             [
              0.7777777777777778,
              "#fb9f3a"
             ],
             [
              0.8888888888888888,
              "#fdca26"
             ],
             [
              1,
              "#f0f921"
             ]
            ],
            "type": "histogram2d"
           }
          ],
          "histogram2dcontour": [
           {
            "colorbar": {
             "outlinewidth": 0,
             "ticks": ""
            },
            "colorscale": [
             [
              0,
              "#0d0887"
             ],
             [
              0.1111111111111111,
              "#46039f"
             ],
             [
              0.2222222222222222,
              "#7201a8"
             ],
             [
              0.3333333333333333,
              "#9c179e"
             ],
             [
              0.4444444444444444,
              "#bd3786"
             ],
             [
              0.5555555555555556,
              "#d8576b"
             ],
             [
              0.6666666666666666,
              "#ed7953"
             ],
             [
              0.7777777777777778,
              "#fb9f3a"
             ],
             [
              0.8888888888888888,
              "#fdca26"
             ],
             [
              1,
              "#f0f921"
             ]
            ],
            "type": "histogram2dcontour"
           }
          ],
          "mesh3d": [
           {
            "colorbar": {
             "outlinewidth": 0,
             "ticks": ""
            },
            "type": "mesh3d"
           }
          ],
          "parcoords": [
           {
            "line": {
             "colorbar": {
              "outlinewidth": 0,
              "ticks": ""
             }
            },
            "type": "parcoords"
           }
          ],
          "pie": [
           {
            "automargin": true,
            "type": "pie"
           }
          ],
          "scatter": [
           {
            "fillpattern": {
             "fillmode": "overlay",
             "size": 10,
             "solidity": 0.2
            },
            "type": "scatter"
           }
          ],
          "scatter3d": [
           {
            "line": {
             "colorbar": {
              "outlinewidth": 0,
              "ticks": ""
             }
            },
            "marker": {
             "colorbar": {
              "outlinewidth": 0,
              "ticks": ""
             }
            },
            "type": "scatter3d"
           }
          ],
          "scattercarpet": [
           {
            "marker": {
             "colorbar": {
              "outlinewidth": 0,
              "ticks": ""
             }
            },
            "type": "scattercarpet"
           }
          ],
          "scattergeo": [
           {
            "marker": {
             "colorbar": {
              "outlinewidth": 0,
              "ticks": ""
             }
            },
            "type": "scattergeo"
           }
          ],
          "scattergl": [
           {
            "marker": {
             "colorbar": {
              "outlinewidth": 0,
              "ticks": ""
             }
            },
            "type": "scattergl"
           }
          ],
          "scattermapbox": [
           {
            "marker": {
             "colorbar": {
              "outlinewidth": 0,
              "ticks": ""
             }
            },
            "type": "scattermapbox"
           }
          ],
          "scatterpolar": [
           {
            "marker": {
             "colorbar": {
              "outlinewidth": 0,
              "ticks": ""
             }
            },
            "type": "scatterpolar"
           }
          ],
          "scatterpolargl": [
           {
            "marker": {
             "colorbar": {
              "outlinewidth": 0,
              "ticks": ""
             }
            },
            "type": "scatterpolargl"
           }
          ],
          "scatterternary": [
           {
            "marker": {
             "colorbar": {
              "outlinewidth": 0,
              "ticks": ""
             }
            },
            "type": "scatterternary"
           }
          ],
          "surface": [
           {
            "colorbar": {
             "outlinewidth": 0,
             "ticks": ""
            },
            "colorscale": [
             [
              0,
              "#0d0887"
             ],
             [
              0.1111111111111111,
              "#46039f"
             ],
             [
              0.2222222222222222,
              "#7201a8"
             ],
             [
              0.3333333333333333,
              "#9c179e"
             ],
             [
              0.4444444444444444,
              "#bd3786"
             ],
             [
              0.5555555555555556,
              "#d8576b"
             ],
             [
              0.6666666666666666,
              "#ed7953"
             ],
             [
              0.7777777777777778,
              "#fb9f3a"
             ],
             [
              0.8888888888888888,
              "#fdca26"
             ],
             [
              1,
              "#f0f921"
             ]
            ],
            "type": "surface"
           }
          ],
          "table": [
           {
            "cells": {
             "fill": {
              "color": "#EBF0F8"
             },
             "line": {
              "color": "white"
             }
            },
            "header": {
             "fill": {
              "color": "#C8D4E3"
             },
             "line": {
              "color": "white"
             }
            },
            "type": "table"
           }
          ]
         },
         "layout": {
          "annotationdefaults": {
           "arrowcolor": "#2a3f5f",
           "arrowhead": 0,
           "arrowwidth": 1
          },
          "autotypenumbers": "strict",
          "coloraxis": {
           "colorbar": {
            "outlinewidth": 0,
            "ticks": ""
           }
          },
          "colorscale": {
           "diverging": [
            [
             0,
             "#8e0152"
            ],
            [
             0.1,
             "#c51b7d"
            ],
            [
             0.2,
             "#de77ae"
            ],
            [
             0.3,
             "#f1b6da"
            ],
            [
             0.4,
             "#fde0ef"
            ],
            [
             0.5,
             "#f7f7f7"
            ],
            [
             0.6,
             "#e6f5d0"
            ],
            [
             0.7,
             "#b8e186"
            ],
            [
             0.8,
             "#7fbc41"
            ],
            [
             0.9,
             "#4d9221"
            ],
            [
             1,
             "#276419"
            ]
           ],
           "sequential": [
            [
             0,
             "#0d0887"
            ],
            [
             0.1111111111111111,
             "#46039f"
            ],
            [
             0.2222222222222222,
             "#7201a8"
            ],
            [
             0.3333333333333333,
             "#9c179e"
            ],
            [
             0.4444444444444444,
             "#bd3786"
            ],
            [
             0.5555555555555556,
             "#d8576b"
            ],
            [
             0.6666666666666666,
             "#ed7953"
            ],
            [
             0.7777777777777778,
             "#fb9f3a"
            ],
            [
             0.8888888888888888,
             "#fdca26"
            ],
            [
             1,
             "#f0f921"
            ]
           ],
           "sequentialminus": [
            [
             0,
             "#0d0887"
            ],
            [
             0.1111111111111111,
             "#46039f"
            ],
            [
             0.2222222222222222,
             "#7201a8"
            ],
            [
             0.3333333333333333,
             "#9c179e"
            ],
            [
             0.4444444444444444,
             "#bd3786"
            ],
            [
             0.5555555555555556,
             "#d8576b"
            ],
            [
             0.6666666666666666,
             "#ed7953"
            ],
            [
             0.7777777777777778,
             "#fb9f3a"
            ],
            [
             0.8888888888888888,
             "#fdca26"
            ],
            [
             1,
             "#f0f921"
            ]
           ]
          },
          "colorway": [
           "#636efa",
           "#EF553B",
           "#00cc96",
           "#ab63fa",
           "#FFA15A",
           "#19d3f3",
           "#FF6692",
           "#B6E880",
           "#FF97FF",
           "#FECB52"
          ],
          "font": {
           "color": "#2a3f5f"
          },
          "geo": {
           "bgcolor": "white",
           "lakecolor": "white",
           "landcolor": "#E5ECF6",
           "showlakes": true,
           "showland": true,
           "subunitcolor": "white"
          },
          "hoverlabel": {
           "align": "left"
          },
          "hovermode": "closest",
          "mapbox": {
           "style": "light"
          },
          "paper_bgcolor": "white",
          "plot_bgcolor": "#E5ECF6",
          "polar": {
           "angularaxis": {
            "gridcolor": "white",
            "linecolor": "white",
            "ticks": ""
           },
           "bgcolor": "#E5ECF6",
           "radialaxis": {
            "gridcolor": "white",
            "linecolor": "white",
            "ticks": ""
           }
          },
          "scene": {
           "xaxis": {
            "backgroundcolor": "#E5ECF6",
            "gridcolor": "white",
            "gridwidth": 2,
            "linecolor": "white",
            "showbackground": true,
            "ticks": "",
            "zerolinecolor": "white"
           },
           "yaxis": {
            "backgroundcolor": "#E5ECF6",
            "gridcolor": "white",
            "gridwidth": 2,
            "linecolor": "white",
            "showbackground": true,
            "ticks": "",
            "zerolinecolor": "white"
           },
           "zaxis": {
            "backgroundcolor": "#E5ECF6",
            "gridcolor": "white",
            "gridwidth": 2,
            "linecolor": "white",
            "showbackground": true,
            "ticks": "",
            "zerolinecolor": "white"
           }
          },
          "shapedefaults": {
           "line": {
            "color": "#2a3f5f"
           }
          },
          "ternary": {
           "aaxis": {
            "gridcolor": "white",
            "linecolor": "white",
            "ticks": ""
           },
           "baxis": {
            "gridcolor": "white",
            "linecolor": "white",
            "ticks": ""
           },
           "bgcolor": "#E5ECF6",
           "caxis": {
            "gridcolor": "white",
            "linecolor": "white",
            "ticks": ""
           }
          },
          "title": {
           "x": 0.05
          },
          "xaxis": {
           "automargin": true,
           "gridcolor": "white",
           "linecolor": "white",
           "ticks": "",
           "title": {
            "standoff": 15
           },
           "zerolinecolor": "white",
           "zerolinewidth": 2
          },
          "yaxis": {
           "automargin": true,
           "gridcolor": "white",
           "linecolor": "white",
           "ticks": "",
           "title": {
            "standoff": 15
           },
           "zerolinecolor": "white",
           "zerolinewidth": 2
          }
         }
        }
       }
      }
     },
     "metadata": {},
     "output_type": "display_data"
    }
   ],
   "source": [
    "# Let's use PCA to reduce the dimensionality of the embeddings to 2D\n",
    "\n",
    "pca = PCA(n_components=2)\n",
    "pca.fit(embeddings_class_1 + embeddings_class_2 + embeddings_class_3)\n",
    "pca_embeddings_class_1 = pca.transform(embeddings_class_1)\n",
    "pca_embeddings_class_2 = pca.transform(embeddings_class_2)\n",
    "pca_embeddings_class_3 = pca.transform(embeddings_class_3)\n",
    "\n",
    "# Now let's plot the embeddings from all three classes\n",
    "\n",
    "fig = go.Figure()\n",
    "\n",
    "for i, embeddings in enumerate([pca_embeddings_class_1, pca_embeddings_class_2, pca_embeddings_class_3]):\n",
    "\n",
    "    fig.add_trace(go.Scatter(\n",
    "        x=embeddings[:,0],\n",
    "        y=embeddings[:,1],\n",
    "        mode=\"markers\",\n",
    "        name=f\"Class {i+1}\",\n",
    "        marker=dict(\n",
    "            size=12,\n",
    "            color=[\"red\", \"green\", \"blue\"][i],\n",
    "        ),\n",
    "        text=class_1 + class_2 + class_3,\n",
    "        hovertemplate=\n",
    "        \"<b>%{text}</b><br><br>\" +\n",
    "\n",
    "        \"<i>Similarity to new sentence:</i><br>\" +\n",
    "        \"%{marker.color:.2f}<br>\" +\n",
    "        \"<extra></extra>\"\n",
    "    ))\n",
    "\n",
    "    \n",
    "\n",
    "fig.update_traces(textposition='top center')\n",
    "\n",
    "fig.show()"
   ]
  },
  {
   "attachments": {},
   "cell_type": "markdown",
   "metadata": {},
   "source": [
    "### Let's actually train a classifier on these embeddings"
   ]
  },
  {
   "cell_type": "code",
   "execution_count": 10,
   "metadata": {},
   "outputs": [
    {
     "name": "stdout",
     "output_type": "stream",
     "text": [
      "Predicted class:  [0]\n"
     ]
    }
   ],
   "source": [
    "# Define a classifier\n",
    "clf = KNeighborsClassifier(n_neighbors=4)\n",
    "# use the embeddings and the class labels to train a classifier\n",
    "X = [np.array(embedding) for embedding in embeddings_class_1 + embeddings_class_2 + embeddings_class_3]\n",
    "y = np.array([0] * len(embeddings_class_1) + [1] * len(embeddings_class_2) + [2] * len(embeddings_class_3))\n",
    "\n",
    "# fit the classifier\n",
    "clf.fit(X, y)\n",
    "\n",
    "print(\"Predicted class: \", clf.predict([sentence_embedding]))"
   ]
  },
  {
   "cell_type": "code",
   "execution_count": 11,
   "metadata": {},
   "outputs": [
    {
     "name": "stdout",
     "output_type": "stream",
     "text": [
      "Predicted class:  [0]\n",
      "Probabilities:  [[0.71883398 0.10472163 0.17644439]]\n"
     ]
    }
   ],
   "source": [
    "\n",
    "svm = SVC(kernel='poly', C=1, random_state=42, probability=True)\n",
    "svm.fit(X, y)\n",
    "\n",
    "print(\"Predicted class: \", svm.predict([sentence_embedding]))\n",
    "\n",
    "# get the probabilities for each class\n",
    "print(\"Probabilities: \", svm.predict_proba([sentence_embedding]))"
   ]
  },
  {
   "cell_type": "code",
   "execution_count": 12,
   "metadata": {},
   "outputs": [],
   "source": [
    "# aggregate the embeddings of class 1\n",
    "\n",
    "aggregation_class_1 = np.mean(embeddings_class_1, axis=0)\n",
    "aggregation_class_2 = np.mean(embeddings_class_2, axis=0)\n",
    "aggregation_class_3 = np.mean(embeddings_class_3, axis=0)\n",
    "\n",
    "    "
   ]
  },
  {
   "cell_type": "code",
   "execution_count": 15,
   "metadata": {},
   "outputs": [
    {
     "data": {
      "application/vnd.plotly.v1+json": {
       "config": {
        "plotlyServerURL": "https://plot.ly"
       },
       "data": [
        {
         "hovertemplate": "<b>%{text}</b><br><br><i>Similarity to new sentence:</i><br>%{marker.color:.2f}<br><extra></extra>",
         "marker": {
          "color": "red",
          "size": 12
         },
         "mode": "markers",
         "name": "Class 1",
         "text": [
          "Find balance in the digital age with mindful technology use and prioritizing self-care.",
          "Take charge of your digital wellbeing by setting boundaries and practicing digital detoxes.",
          "Promote digital wellbeing through healthy screen time habits and fostering positive online relationships.",
          "Explore digital wellbeing apps and tools that help you manage your digital presence and mental health.",
          "Prioritize your physical and mental health by practicing digital mindfulness and limiting screen time.",
          "Digital wellbeing starts with conscious choices, such as disconnecting from devices and engaging in offline activities.",
          "Digital natives effortlessly navigate the digital landscape, growing up in a world saturated with technology.",
          "Born in the digital era, digital natives possess innate digital literacy and adapt quickly to new technologies.",
          "Digital natives seamlessly integrate technology into their daily lives, leveraging it for communication, learning, and entertainment.",
          "As digital natives, they are the vanguards of technological advancements, shaping the digital landscape with their digital-first mindset.",
          "Digital natives are fluent in the language of emojis, hashtags, and memes, using them to express themselves in the digital realm.",
          "Growing up surrounded by screens, digital natives are at ease multitasking across multiple devices and platforms.",
          "Digital companies leverage innovative technologies to disrupt traditional industries and drive digital transformation.",
          "Agile and data-driven, digital companies thrive in the ever-evolving digital ecosystem, constantly adapting to market demands.",
          "Digital companies prioritize user experience, leveraging intuitive interfaces and seamless interactions to engage and retain customers.",
          "From e-commerce giants to fintech startups, digital companies revolutionize the way business is conducted in the digital age.",
          "Digital companies harness the power of big data and analytics to gain actionable insights and drive informed decision-making.",
          "In a borderless digital world, digital companies operate globally, transcending geographical limitations and connecting people worldwide."
         ],
         "type": "scatter3d",
         "x": [
          46.881019513935264
         ],
         "y": [
          -5.297386830363831
         ]
        },
        {
         "hovertemplate": "<b>%{text}</b><br><br><i>Similarity to new sentence:</i><br>%{marker.color:.2f}<br><extra></extra>",
         "marker": {
          "color": "green",
          "size": 12
         },
         "mode": "markers",
         "name": "Class 2",
         "text": [
          "Find balance in the digital age with mindful technology use and prioritizing self-care.",
          "Take charge of your digital wellbeing by setting boundaries and practicing digital detoxes.",
          "Promote digital wellbeing through healthy screen time habits and fostering positive online relationships.",
          "Explore digital wellbeing apps and tools that help you manage your digital presence and mental health.",
          "Prioritize your physical and mental health by practicing digital mindfulness and limiting screen time.",
          "Digital wellbeing starts with conscious choices, such as disconnecting from devices and engaging in offline activities.",
          "Digital natives effortlessly navigate the digital landscape, growing up in a world saturated with technology.",
          "Born in the digital era, digital natives possess innate digital literacy and adapt quickly to new technologies.",
          "Digital natives seamlessly integrate technology into their daily lives, leveraging it for communication, learning, and entertainment.",
          "As digital natives, they are the vanguards of technological advancements, shaping the digital landscape with their digital-first mindset.",
          "Digital natives are fluent in the language of emojis, hashtags, and memes, using them to express themselves in the digital realm.",
          "Growing up surrounded by screens, digital natives are at ease multitasking across multiple devices and platforms.",
          "Digital companies leverage innovative technologies to disrupt traditional industries and drive digital transformation.",
          "Agile and data-driven, digital companies thrive in the ever-evolving digital ecosystem, constantly adapting to market demands.",
          "Digital companies prioritize user experience, leveraging intuitive interfaces and seamless interactions to engage and retain customers.",
          "From e-commerce giants to fintech startups, digital companies revolutionize the way business is conducted in the digital age.",
          "Digital companies harness the power of big data and analytics to gain actionable insights and drive informed decision-making.",
          "In a borderless digital world, digital companies operate globally, transcending geographical limitations and connecting people worldwide."
         ],
         "type": "scatter3d",
         "x": [
          -30.34019862207025
         ],
         "y": [
          -27.26981949397152
         ]
        },
        {
         "hovertemplate": "<b>%{text}</b><br><br><i>Similarity to new sentence:</i><br>%{marker.color:.2f}<br><extra></extra>",
         "marker": {
          "color": "blue",
          "size": 12
         },
         "mode": "markers",
         "name": "Class 3",
         "text": [
          "Find balance in the digital age with mindful technology use and prioritizing self-care.",
          "Take charge of your digital wellbeing by setting boundaries and practicing digital detoxes.",
          "Promote digital wellbeing through healthy screen time habits and fostering positive online relationships.",
          "Explore digital wellbeing apps and tools that help you manage your digital presence and mental health.",
          "Prioritize your physical and mental health by practicing digital mindfulness and limiting screen time.",
          "Digital wellbeing starts with conscious choices, such as disconnecting from devices and engaging in offline activities.",
          "Digital natives effortlessly navigate the digital landscape, growing up in a world saturated with technology.",
          "Born in the digital era, digital natives possess innate digital literacy and adapt quickly to new technologies.",
          "Digital natives seamlessly integrate technology into their daily lives, leveraging it for communication, learning, and entertainment.",
          "As digital natives, they are the vanguards of technological advancements, shaping the digital landscape with their digital-first mindset.",
          "Digital natives are fluent in the language of emojis, hashtags, and memes, using them to express themselves in the digital realm.",
          "Growing up surrounded by screens, digital natives are at ease multitasking across multiple devices and platforms.",
          "Digital companies leverage innovative technologies to disrupt traditional industries and drive digital transformation.",
          "Agile and data-driven, digital companies thrive in the ever-evolving digital ecosystem, constantly adapting to market demands.",
          "Digital companies prioritize user experience, leveraging intuitive interfaces and seamless interactions to engage and retain customers.",
          "From e-commerce giants to fintech startups, digital companies revolutionize the way business is conducted in the digital age.",
          "Digital companies harness the power of big data and analytics to gain actionable insights and drive informed decision-making.",
          "In a borderless digital world, digital companies operate globally, transcending geographical limitations and connecting people worldwide."
         ],
         "type": "scatter3d",
         "x": [
          48.2158111895334
         ],
         "y": [
          -5.09468115792182
         ]
        }
       ],
       "layout": {
        "template": {
         "data": {
          "bar": [
           {
            "error_x": {
             "color": "#2a3f5f"
            },
            "error_y": {
             "color": "#2a3f5f"
            },
            "marker": {
             "line": {
              "color": "#E5ECF6",
              "width": 0.5
             },
             "pattern": {
              "fillmode": "overlay",
              "size": 10,
              "solidity": 0.2
             }
            },
            "type": "bar"
           }
          ],
          "barpolar": [
           {
            "marker": {
             "line": {
              "color": "#E5ECF6",
              "width": 0.5
             },
             "pattern": {
              "fillmode": "overlay",
              "size": 10,
              "solidity": 0.2
             }
            },
            "type": "barpolar"
           }
          ],
          "carpet": [
           {
            "aaxis": {
             "endlinecolor": "#2a3f5f",
             "gridcolor": "white",
             "linecolor": "white",
             "minorgridcolor": "white",
             "startlinecolor": "#2a3f5f"
            },
            "baxis": {
             "endlinecolor": "#2a3f5f",
             "gridcolor": "white",
             "linecolor": "white",
             "minorgridcolor": "white",
             "startlinecolor": "#2a3f5f"
            },
            "type": "carpet"
           }
          ],
          "choropleth": [
           {
            "colorbar": {
             "outlinewidth": 0,
             "ticks": ""
            },
            "type": "choropleth"
           }
          ],
          "contour": [
           {
            "colorbar": {
             "outlinewidth": 0,
             "ticks": ""
            },
            "colorscale": [
             [
              0,
              "#0d0887"
             ],
             [
              0.1111111111111111,
              "#46039f"
             ],
             [
              0.2222222222222222,
              "#7201a8"
             ],
             [
              0.3333333333333333,
              "#9c179e"
             ],
             [
              0.4444444444444444,
              "#bd3786"
             ],
             [
              0.5555555555555556,
              "#d8576b"
             ],
             [
              0.6666666666666666,
              "#ed7953"
             ],
             [
              0.7777777777777778,
              "#fb9f3a"
             ],
             [
              0.8888888888888888,
              "#fdca26"
             ],
             [
              1,
              "#f0f921"
             ]
            ],
            "type": "contour"
           }
          ],
          "contourcarpet": [
           {
            "colorbar": {
             "outlinewidth": 0,
             "ticks": ""
            },
            "type": "contourcarpet"
           }
          ],
          "heatmap": [
           {
            "colorbar": {
             "outlinewidth": 0,
             "ticks": ""
            },
            "colorscale": [
             [
              0,
              "#0d0887"
             ],
             [
              0.1111111111111111,
              "#46039f"
             ],
             [
              0.2222222222222222,
              "#7201a8"
             ],
             [
              0.3333333333333333,
              "#9c179e"
             ],
             [
              0.4444444444444444,
              "#bd3786"
             ],
             [
              0.5555555555555556,
              "#d8576b"
             ],
             [
              0.6666666666666666,
              "#ed7953"
             ],
             [
              0.7777777777777778,
              "#fb9f3a"
             ],
             [
              0.8888888888888888,
              "#fdca26"
             ],
             [
              1,
              "#f0f921"
             ]
            ],
            "type": "heatmap"
           }
          ],
          "heatmapgl": [
           {
            "colorbar": {
             "outlinewidth": 0,
             "ticks": ""
            },
            "colorscale": [
             [
              0,
              "#0d0887"
             ],
             [
              0.1111111111111111,
              "#46039f"
             ],
             [
              0.2222222222222222,
              "#7201a8"
             ],
             [
              0.3333333333333333,
              "#9c179e"
             ],
             [
              0.4444444444444444,
              "#bd3786"
             ],
             [
              0.5555555555555556,
              "#d8576b"
             ],
             [
              0.6666666666666666,
              "#ed7953"
             ],
             [
              0.7777777777777778,
              "#fb9f3a"
             ],
             [
              0.8888888888888888,
              "#fdca26"
             ],
             [
              1,
              "#f0f921"
             ]
            ],
            "type": "heatmapgl"
           }
          ],
          "histogram": [
           {
            "marker": {
             "pattern": {
              "fillmode": "overlay",
              "size": 10,
              "solidity": 0.2
             }
            },
            "type": "histogram"
           }
          ],
          "histogram2d": [
           {
            "colorbar": {
             "outlinewidth": 0,
             "ticks": ""
            },
            "colorscale": [
             [
              0,
              "#0d0887"
             ],
             [
              0.1111111111111111,
              "#46039f"
             ],
             [
              0.2222222222222222,
              "#7201a8"
             ],
             [
              0.3333333333333333,
              "#9c179e"
             ],
             [
              0.4444444444444444,
              "#bd3786"
             ],
             [
              0.5555555555555556,
              "#d8576b"
             ],
             [
              0.6666666666666666,
              "#ed7953"
             ],
             [
              0.7777777777777778,
              "#fb9f3a"
             ],
             [
              0.8888888888888888,
              "#fdca26"
             ],
             [
              1,
              "#f0f921"
             ]
            ],
            "type": "histogram2d"
           }
          ],
          "histogram2dcontour": [
           {
            "colorbar": {
             "outlinewidth": 0,
             "ticks": ""
            },
            "colorscale": [
             [
              0,
              "#0d0887"
             ],
             [
              0.1111111111111111,
              "#46039f"
             ],
             [
              0.2222222222222222,
              "#7201a8"
             ],
             [
              0.3333333333333333,
              "#9c179e"
             ],
             [
              0.4444444444444444,
              "#bd3786"
             ],
             [
              0.5555555555555556,
              "#d8576b"
             ],
             [
              0.6666666666666666,
              "#ed7953"
             ],
             [
              0.7777777777777778,
              "#fb9f3a"
             ],
             [
              0.8888888888888888,
              "#fdca26"
             ],
             [
              1,
              "#f0f921"
             ]
            ],
            "type": "histogram2dcontour"
           }
          ],
          "mesh3d": [
           {
            "colorbar": {
             "outlinewidth": 0,
             "ticks": ""
            },
            "type": "mesh3d"
           }
          ],
          "parcoords": [
           {
            "line": {
             "colorbar": {
              "outlinewidth": 0,
              "ticks": ""
             }
            },
            "type": "parcoords"
           }
          ],
          "pie": [
           {
            "automargin": true,
            "type": "pie"
           }
          ],
          "scatter": [
           {
            "fillpattern": {
             "fillmode": "overlay",
             "size": 10,
             "solidity": 0.2
            },
            "type": "scatter"
           }
          ],
          "scatter3d": [
           {
            "line": {
             "colorbar": {
              "outlinewidth": 0,
              "ticks": ""
             }
            },
            "marker": {
             "colorbar": {
              "outlinewidth": 0,
              "ticks": ""
             }
            },
            "type": "scatter3d"
           }
          ],
          "scattercarpet": [
           {
            "marker": {
             "colorbar": {
              "outlinewidth": 0,
              "ticks": ""
             }
            },
            "type": "scattercarpet"
           }
          ],
          "scattergeo": [
           {
            "marker": {
             "colorbar": {
              "outlinewidth": 0,
              "ticks": ""
             }
            },
            "type": "scattergeo"
           }
          ],
          "scattergl": [
           {
            "marker": {
             "colorbar": {
              "outlinewidth": 0,
              "ticks": ""
             }
            },
            "type": "scattergl"
           }
          ],
          "scattermapbox": [
           {
            "marker": {
             "colorbar": {
              "outlinewidth": 0,
              "ticks": ""
             }
            },
            "type": "scattermapbox"
           }
          ],
          "scatterpolar": [
           {
            "marker": {
             "colorbar": {
              "outlinewidth": 0,
              "ticks": ""
             }
            },
            "type": "scatterpolar"
           }
          ],
          "scatterpolargl": [
           {
            "marker": {
             "colorbar": {
              "outlinewidth": 0,
              "ticks": ""
             }
            },
            "type": "scatterpolargl"
           }
          ],
          "scatterternary": [
           {
            "marker": {
             "colorbar": {
              "outlinewidth": 0,
              "ticks": ""
             }
            },
            "type": "scatterternary"
           }
          ],
          "surface": [
           {
            "colorbar": {
             "outlinewidth": 0,
             "ticks": ""
            },
            "colorscale": [
             [
              0,
              "#0d0887"
             ],
             [
              0.1111111111111111,
              "#46039f"
             ],
             [
              0.2222222222222222,
              "#7201a8"
             ],
             [
              0.3333333333333333,
              "#9c179e"
             ],
             [
              0.4444444444444444,
              "#bd3786"
             ],
             [
              0.5555555555555556,
              "#d8576b"
             ],
             [
              0.6666666666666666,
              "#ed7953"
             ],
             [
              0.7777777777777778,
              "#fb9f3a"
             ],
             [
              0.8888888888888888,
              "#fdca26"
             ],
             [
              1,
              "#f0f921"
             ]
            ],
            "type": "surface"
           }
          ],
          "table": [
           {
            "cells": {
             "fill": {
              "color": "#EBF0F8"
             },
             "line": {
              "color": "white"
             }
            },
            "header": {
             "fill": {
              "color": "#C8D4E3"
             },
             "line": {
              "color": "white"
             }
            },
            "type": "table"
           }
          ]
         },
         "layout": {
          "annotationdefaults": {
           "arrowcolor": "#2a3f5f",
           "arrowhead": 0,
           "arrowwidth": 1
          },
          "autotypenumbers": "strict",
          "coloraxis": {
           "colorbar": {
            "outlinewidth": 0,
            "ticks": ""
           }
          },
          "colorscale": {
           "diverging": [
            [
             0,
             "#8e0152"
            ],
            [
             0.1,
             "#c51b7d"
            ],
            [
             0.2,
             "#de77ae"
            ],
            [
             0.3,
             "#f1b6da"
            ],
            [
             0.4,
             "#fde0ef"
            ],
            [
             0.5,
             "#f7f7f7"
            ],
            [
             0.6,
             "#e6f5d0"
            ],
            [
             0.7,
             "#b8e186"
            ],
            [
             0.8,
             "#7fbc41"
            ],
            [
             0.9,
             "#4d9221"
            ],
            [
             1,
             "#276419"
            ]
           ],
           "sequential": [
            [
             0,
             "#0d0887"
            ],
            [
             0.1111111111111111,
             "#46039f"
            ],
            [
             0.2222222222222222,
             "#7201a8"
            ],
            [
             0.3333333333333333,
             "#9c179e"
            ],
            [
             0.4444444444444444,
             "#bd3786"
            ],
            [
             0.5555555555555556,
             "#d8576b"
            ],
            [
             0.6666666666666666,
             "#ed7953"
            ],
            [
             0.7777777777777778,
             "#fb9f3a"
            ],
            [
             0.8888888888888888,
             "#fdca26"
            ],
            [
             1,
             "#f0f921"
            ]
           ],
           "sequentialminus": [
            [
             0,
             "#0d0887"
            ],
            [
             0.1111111111111111,
             "#46039f"
            ],
            [
             0.2222222222222222,
             "#7201a8"
            ],
            [
             0.3333333333333333,
             "#9c179e"
            ],
            [
             0.4444444444444444,
             "#bd3786"
            ],
            [
             0.5555555555555556,
             "#d8576b"
            ],
            [
             0.6666666666666666,
             "#ed7953"
            ],
            [
             0.7777777777777778,
             "#fb9f3a"
            ],
            [
             0.8888888888888888,
             "#fdca26"
            ],
            [
             1,
             "#f0f921"
            ]
           ]
          },
          "colorway": [
           "#636efa",
           "#EF553B",
           "#00cc96",
           "#ab63fa",
           "#FFA15A",
           "#19d3f3",
           "#FF6692",
           "#B6E880",
           "#FF97FF",
           "#FECB52"
          ],
          "font": {
           "color": "#2a3f5f"
          },
          "geo": {
           "bgcolor": "white",
           "lakecolor": "white",
           "landcolor": "#E5ECF6",
           "showlakes": true,
           "showland": true,
           "subunitcolor": "white"
          },
          "hoverlabel": {
           "align": "left"
          },
          "hovermode": "closest",
          "mapbox": {
           "style": "light"
          },
          "paper_bgcolor": "white",
          "plot_bgcolor": "#E5ECF6",
          "polar": {
           "angularaxis": {
            "gridcolor": "white",
            "linecolor": "white",
            "ticks": ""
           },
           "bgcolor": "#E5ECF6",
           "radialaxis": {
            "gridcolor": "white",
            "linecolor": "white",
            "ticks": ""
           }
          },
          "scene": {
           "xaxis": {
            "backgroundcolor": "#E5ECF6",
            "gridcolor": "white",
            "gridwidth": 2,
            "linecolor": "white",
            "showbackground": true,
            "ticks": "",
            "zerolinecolor": "white"
           },
           "yaxis": {
            "backgroundcolor": "#E5ECF6",
            "gridcolor": "white",
            "gridwidth": 2,
            "linecolor": "white",
            "showbackground": true,
            "ticks": "",
            "zerolinecolor": "white"
           },
           "zaxis": {
            "backgroundcolor": "#E5ECF6",
            "gridcolor": "white",
            "gridwidth": 2,
            "linecolor": "white",
            "showbackground": true,
            "ticks": "",
            "zerolinecolor": "white"
           }
          },
          "shapedefaults": {
           "line": {
            "color": "#2a3f5f"
           }
          },
          "ternary": {
           "aaxis": {
            "gridcolor": "white",
            "linecolor": "white",
            "ticks": ""
           },
           "baxis": {
            "gridcolor": "white",
            "linecolor": "white",
            "ticks": ""
           },
           "bgcolor": "#E5ECF6",
           "caxis": {
            "gridcolor": "white",
            "linecolor": "white",
            "ticks": ""
           }
          },
          "title": {
           "x": 0.05
          },
          "xaxis": {
           "automargin": true,
           "gridcolor": "white",
           "linecolor": "white",
           "ticks": "",
           "title": {
            "standoff": 15
           },
           "zerolinecolor": "white",
           "zerolinewidth": 2
          },
          "yaxis": {
           "automargin": true,
           "gridcolor": "white",
           "linecolor": "white",
           "ticks": "",
           "title": {
            "standoff": 15
           },
           "zerolinecolor": "white",
           "zerolinewidth": 2
          }
         }
        }
       }
      }
     },
     "metadata": {},
     "output_type": "display_data"
    }
   ],
   "source": [
    "# PCA with three components\n",
    "\n",
    "pca = PCA(n_components=2)\n",
    "\n",
    "# fit the PCA to the embeddings\n",
    "pca.fit(X)\n",
    "\n",
    "# transform the embeddings\n",
    "X_pca = pca.transform(X)\n",
    "\n",
    "pca_agg_class_1 = pca.transform([aggregation_class_1])\n",
    "pca_agg_class_2 = pca.transform([aggregation_class_2])\n",
    "pca_agg_class_3 = pca.transform([aggregation_class_3])\n",
    "\n",
    "\n",
    "# transform the new sentence\n",
    "\n",
    "sentence_embedding_pca = pca.transform([sentence_embedding])\n",
    "\n",
    "# plot the embeddings\n",
    "\n",
    "fig = go.Figure()\n",
    "\n",
    "for i, embeddings in enumerate([pca_agg_class_1, pca_agg_class_2, sentence_embedding_pca]):\n",
    "\n",
    "    fig.add_trace(go.Scatter3d(\n",
    "        x=embeddings[:,0],\n",
    "        y=embeddings[:,1],\n",
    "        mode=\"markers\",\n",
    "        name=f\"Class {i+1}\",\n",
    "        marker=dict(\n",
    "            size=12,\n",
    "            color=[\"red\", \"green\", \"blue\", \"yellow\"][i],\n",
    "        ),\n",
    "        text=class_1 + class_2 + class_3,\n",
    "        hovertemplate=\n",
    "        \"<b>%{text}</b><br><br>\" +\n",
    "\n",
    "        \"<i>Similarity to new sentence:</i><br>\" +\n",
    "        \"%{marker.color:.2f}<br>\" +\n",
    "        \"<extra></extra>\"\n",
    "    ))\n",
    "\n",
    "\n",
    "fig.show()"
   ]
  },
  {
   "cell_type": "code",
   "execution_count": 14,
   "metadata": {},
   "outputs": [
    {
     "data": {
      "application/vnd.plotly.v1+json": {
       "config": {
        "plotlyServerURL": "https://plot.ly"
       },
       "data": [
        {
         "hovertemplate": "<b>%{text}</b><br><br><i>Similarity to new sentence:</i><br>%{marker.color:.2f}<br><extra></extra>",
         "marker": {
          "color": "red",
          "size": 12
         },
         "mode": "markers",
         "name": "Class 1",
         "text": [
          "Find balance in the digital age with mindful technology use and prioritizing self-care.",
          "Take charge of your digital wellbeing by setting boundaries and practicing digital detoxes.",
          "Promote digital wellbeing through healthy screen time habits and fostering positive online relationships.",
          "Explore digital wellbeing apps and tools that help you manage your digital presence and mental health.",
          "Prioritize your physical and mental health by practicing digital mindfulness and limiting screen time.",
          "Digital wellbeing starts with conscious choices, such as disconnecting from devices and engaging in offline activities.",
          "Digital natives effortlessly navigate the digital landscape, growing up in a world saturated with technology.",
          "Born in the digital era, digital natives possess innate digital literacy and adapt quickly to new technologies.",
          "Digital natives seamlessly integrate technology into their daily lives, leveraging it for communication, learning, and entertainment.",
          "As digital natives, they are the vanguards of technological advancements, shaping the digital landscape with their digital-first mindset.",
          "Digital natives are fluent in the language of emojis, hashtags, and memes, using them to express themselves in the digital realm.",
          "Growing up surrounded by screens, digital natives are at ease multitasking across multiple devices and platforms.",
          "Digital companies leverage innovative technologies to disrupt traditional industries and drive digital transformation.",
          "Agile and data-driven, digital companies thrive in the ever-evolving digital ecosystem, constantly adapting to market demands.",
          "Digital companies prioritize user experience, leveraging intuitive interfaces and seamless interactions to engage and retain customers.",
          "From e-commerce giants to fintech startups, digital companies revolutionize the way business is conducted in the digital age.",
          "Digital companies harness the power of big data and analytics to gain actionable insights and drive informed decision-making.",
          "In a borderless digital world, digital companies operate globally, transcending geographical limitations and connecting people worldwide."
         ],
         "type": "scatter3d",
         "x": [
          46.88101890331535
         ],
         "y": [
          -5.297428438101592
         ],
         "z": [
          -0.04717659611277653
         ]
        },
        {
         "hovertemplate": "<b>%{text}</b><br><br><i>Similarity to new sentence:</i><br>%{marker.color:.2f}<br><extra></extra>",
         "marker": {
          "color": "green",
          "size": 12
         },
         "mode": "markers",
         "name": "Class 2",
         "text": [
          "Find balance in the digital age with mindful technology use and prioritizing self-care.",
          "Take charge of your digital wellbeing by setting boundaries and practicing digital detoxes.",
          "Promote digital wellbeing through healthy screen time habits and fostering positive online relationships.",
          "Explore digital wellbeing apps and tools that help you manage your digital presence and mental health.",
          "Prioritize your physical and mental health by practicing digital mindfulness and limiting screen time.",
          "Digital wellbeing starts with conscious choices, such as disconnecting from devices and engaging in offline activities.",
          "Digital natives effortlessly navigate the digital landscape, growing up in a world saturated with technology.",
          "Born in the digital era, digital natives possess innate digital literacy and adapt quickly to new technologies.",
          "Digital natives seamlessly integrate technology into their daily lives, leveraging it for communication, learning, and entertainment.",
          "As digital natives, they are the vanguards of technological advancements, shaping the digital landscape with their digital-first mindset.",
          "Digital natives are fluent in the language of emojis, hashtags, and memes, using them to express themselves in the digital realm.",
          "Growing up surrounded by screens, digital natives are at ease multitasking across multiple devices and platforms.",
          "Digital companies leverage innovative technologies to disrupt traditional industries and drive digital transformation.",
          "Agile and data-driven, digital companies thrive in the ever-evolving digital ecosystem, constantly adapting to market demands.",
          "Digital companies prioritize user experience, leveraging intuitive interfaces and seamless interactions to engage and retain customers.",
          "From e-commerce giants to fintech startups, digital companies revolutionize the way business is conducted in the digital age.",
          "Digital companies harness the power of big data and analytics to gain actionable insights and drive informed decision-making.",
          "In a borderless digital world, digital companies operate globally, transcending geographical limitations and connecting people worldwide."
         ],
         "type": "scatter3d",
         "x": [
          -30.340198431709734
         ],
         "y": [
          -27.26978655237563
         ],
         "z": [
          -3.5533671960797015
         ]
        },
        {
         "hovertemplate": "<b>%{text}</b><br><br><i>Similarity to new sentence:</i><br>%{marker.color:.2f}<br><extra></extra>",
         "marker": {
          "color": "blue",
          "size": 12
         },
         "mode": "markers",
         "name": "Class 3",
         "text": [
          "Find balance in the digital age with mindful technology use and prioritizing self-care.",
          "Take charge of your digital wellbeing by setting boundaries and practicing digital detoxes.",
          "Promote digital wellbeing through healthy screen time habits and fostering positive online relationships.",
          "Explore digital wellbeing apps and tools that help you manage your digital presence and mental health.",
          "Prioritize your physical and mental health by practicing digital mindfulness and limiting screen time.",
          "Digital wellbeing starts with conscious choices, such as disconnecting from devices and engaging in offline activities.",
          "Digital natives effortlessly navigate the digital landscape, growing up in a world saturated with technology.",
          "Born in the digital era, digital natives possess innate digital literacy and adapt quickly to new technologies.",
          "Digital natives seamlessly integrate technology into their daily lives, leveraging it for communication, learning, and entertainment.",
          "As digital natives, they are the vanguards of technological advancements, shaping the digital landscape with their digital-first mindset.",
          "Digital natives are fluent in the language of emojis, hashtags, and memes, using them to express themselves in the digital realm.",
          "Growing up surrounded by screens, digital natives are at ease multitasking across multiple devices and platforms.",
          "Digital companies leverage innovative technologies to disrupt traditional industries and drive digital transformation.",
          "Agile and data-driven, digital companies thrive in the ever-evolving digital ecosystem, constantly adapting to market demands.",
          "Digital companies prioritize user experience, leveraging intuitive interfaces and seamless interactions to engage and retain customers.",
          "From e-commerce giants to fintech startups, digital companies revolutionize the way business is conducted in the digital age.",
          "Digital companies harness the power of big data and analytics to gain actionable insights and drive informed decision-making.",
          "In a borderless digital world, digital companies operate globally, transcending geographical limitations and connecting people worldwide."
         ],
         "type": "scatter3d",
         "x": [
          -16.540820471605723
         ],
         "y": [
          32.56721499047725
         ],
         "z": [
          3.600543792192472
         ]
        },
        {
         "hovertemplate": "<b>%{text}</b><br><br><i>Similarity to new sentence:</i><br>%{marker.color:.2f}<br><extra></extra>",
         "marker": {
          "color": "yellow",
          "size": 12
         },
         "mode": "markers",
         "name": "Class 4",
         "text": [
          "Find balance in the digital age with mindful technology use and prioritizing self-care.",
          "Take charge of your digital wellbeing by setting boundaries and practicing digital detoxes.",
          "Promote digital wellbeing through healthy screen time habits and fostering positive online relationships.",
          "Explore digital wellbeing apps and tools that help you manage your digital presence and mental health.",
          "Prioritize your physical and mental health by practicing digital mindfulness and limiting screen time.",
          "Digital wellbeing starts with conscious choices, such as disconnecting from devices and engaging in offline activities.",
          "Digital natives effortlessly navigate the digital landscape, growing up in a world saturated with technology.",
          "Born in the digital era, digital natives possess innate digital literacy and adapt quickly to new technologies.",
          "Digital natives seamlessly integrate technology into their daily lives, leveraging it for communication, learning, and entertainment.",
          "As digital natives, they are the vanguards of technological advancements, shaping the digital landscape with their digital-first mindset.",
          "Digital natives are fluent in the language of emojis, hashtags, and memes, using them to express themselves in the digital realm.",
          "Growing up surrounded by screens, digital natives are at ease multitasking across multiple devices and platforms.",
          "Digital companies leverage innovative technologies to disrupt traditional industries and drive digital transformation.",
          "Agile and data-driven, digital companies thrive in the ever-evolving digital ecosystem, constantly adapting to market demands.",
          "Digital companies prioritize user experience, leveraging intuitive interfaces and seamless interactions to engage and retain customers.",
          "From e-commerce giants to fintech startups, digital companies revolutionize the way business is conducted in the digital age.",
          "Digital companies harness the power of big data and analytics to gain actionable insights and drive informed decision-making.",
          "In a borderless digital world, digital companies operate globally, transcending geographical limitations and connecting people worldwide."
         ],
         "type": "scatter3d",
         "x": [
          48.21582425671824
         ],
         "y": [
          -5.094095586201926
         ],
         "z": [
          -5.789206889188182
         ]
        }
       ],
       "layout": {
        "template": {
         "data": {
          "bar": [
           {
            "error_x": {
             "color": "#2a3f5f"
            },
            "error_y": {
             "color": "#2a3f5f"
            },
            "marker": {
             "line": {
              "color": "#E5ECF6",
              "width": 0.5
             },
             "pattern": {
              "fillmode": "overlay",
              "size": 10,
              "solidity": 0.2
             }
            },
            "type": "bar"
           }
          ],
          "barpolar": [
           {
            "marker": {
             "line": {
              "color": "#E5ECF6",
              "width": 0.5
             },
             "pattern": {
              "fillmode": "overlay",
              "size": 10,
              "solidity": 0.2
             }
            },
            "type": "barpolar"
           }
          ],
          "carpet": [
           {
            "aaxis": {
             "endlinecolor": "#2a3f5f",
             "gridcolor": "white",
             "linecolor": "white",
             "minorgridcolor": "white",
             "startlinecolor": "#2a3f5f"
            },
            "baxis": {
             "endlinecolor": "#2a3f5f",
             "gridcolor": "white",
             "linecolor": "white",
             "minorgridcolor": "white",
             "startlinecolor": "#2a3f5f"
            },
            "type": "carpet"
           }
          ],
          "choropleth": [
           {
            "colorbar": {
             "outlinewidth": 0,
             "ticks": ""
            },
            "type": "choropleth"
           }
          ],
          "contour": [
           {
            "colorbar": {
             "outlinewidth": 0,
             "ticks": ""
            },
            "colorscale": [
             [
              0,
              "#0d0887"
             ],
             [
              0.1111111111111111,
              "#46039f"
             ],
             [
              0.2222222222222222,
              "#7201a8"
             ],
             [
              0.3333333333333333,
              "#9c179e"
             ],
             [
              0.4444444444444444,
              "#bd3786"
             ],
             [
              0.5555555555555556,
              "#d8576b"
             ],
             [
              0.6666666666666666,
              "#ed7953"
             ],
             [
              0.7777777777777778,
              "#fb9f3a"
             ],
             [
              0.8888888888888888,
              "#fdca26"
             ],
             [
              1,
              "#f0f921"
             ]
            ],
            "type": "contour"
           }
          ],
          "contourcarpet": [
           {
            "colorbar": {
             "outlinewidth": 0,
             "ticks": ""
            },
            "type": "contourcarpet"
           }
          ],
          "heatmap": [
           {
            "colorbar": {
             "outlinewidth": 0,
             "ticks": ""
            },
            "colorscale": [
             [
              0,
              "#0d0887"
             ],
             [
              0.1111111111111111,
              "#46039f"
             ],
             [
              0.2222222222222222,
              "#7201a8"
             ],
             [
              0.3333333333333333,
              "#9c179e"
             ],
             [
              0.4444444444444444,
              "#bd3786"
             ],
             [
              0.5555555555555556,
              "#d8576b"
             ],
             [
              0.6666666666666666,
              "#ed7953"
             ],
             [
              0.7777777777777778,
              "#fb9f3a"
             ],
             [
              0.8888888888888888,
              "#fdca26"
             ],
             [
              1,
              "#f0f921"
             ]
            ],
            "type": "heatmap"
           }
          ],
          "heatmapgl": [
           {
            "colorbar": {
             "outlinewidth": 0,
             "ticks": ""
            },
            "colorscale": [
             [
              0,
              "#0d0887"
             ],
             [
              0.1111111111111111,
              "#46039f"
             ],
             [
              0.2222222222222222,
              "#7201a8"
             ],
             [
              0.3333333333333333,
              "#9c179e"
             ],
             [
              0.4444444444444444,
              "#bd3786"
             ],
             [
              0.5555555555555556,
              "#d8576b"
             ],
             [
              0.6666666666666666,
              "#ed7953"
             ],
             [
              0.7777777777777778,
              "#fb9f3a"
             ],
             [
              0.8888888888888888,
              "#fdca26"
             ],
             [
              1,
              "#f0f921"
             ]
            ],
            "type": "heatmapgl"
           }
          ],
          "histogram": [
           {
            "marker": {
             "pattern": {
              "fillmode": "overlay",
              "size": 10,
              "solidity": 0.2
             }
            },
            "type": "histogram"
           }
          ],
          "histogram2d": [
           {
            "colorbar": {
             "outlinewidth": 0,
             "ticks": ""
            },
            "colorscale": [
             [
              0,
              "#0d0887"
             ],
             [
              0.1111111111111111,
              "#46039f"
             ],
             [
              0.2222222222222222,
              "#7201a8"
             ],
             [
              0.3333333333333333,
              "#9c179e"
             ],
             [
              0.4444444444444444,
              "#bd3786"
             ],
             [
              0.5555555555555556,
              "#d8576b"
             ],
             [
              0.6666666666666666,
              "#ed7953"
             ],
             [
              0.7777777777777778,
              "#fb9f3a"
             ],
             [
              0.8888888888888888,
              "#fdca26"
             ],
             [
              1,
              "#f0f921"
             ]
            ],
            "type": "histogram2d"
           }
          ],
          "histogram2dcontour": [
           {
            "colorbar": {
             "outlinewidth": 0,
             "ticks": ""
            },
            "colorscale": [
             [
              0,
              "#0d0887"
             ],
             [
              0.1111111111111111,
              "#46039f"
             ],
             [
              0.2222222222222222,
              "#7201a8"
             ],
             [
              0.3333333333333333,
              "#9c179e"
             ],
             [
              0.4444444444444444,
              "#bd3786"
             ],
             [
              0.5555555555555556,
              "#d8576b"
             ],
             [
              0.6666666666666666,
              "#ed7953"
             ],
             [
              0.7777777777777778,
              "#fb9f3a"
             ],
             [
              0.8888888888888888,
              "#fdca26"
             ],
             [
              1,
              "#f0f921"
             ]
            ],
            "type": "histogram2dcontour"
           }
          ],
          "mesh3d": [
           {
            "colorbar": {
             "outlinewidth": 0,
             "ticks": ""
            },
            "type": "mesh3d"
           }
          ],
          "parcoords": [
           {
            "line": {
             "colorbar": {
              "outlinewidth": 0,
              "ticks": ""
             }
            },
            "type": "parcoords"
           }
          ],
          "pie": [
           {
            "automargin": true,
            "type": "pie"
           }
          ],
          "scatter": [
           {
            "fillpattern": {
             "fillmode": "overlay",
             "size": 10,
             "solidity": 0.2
            },
            "type": "scatter"
           }
          ],
          "scatter3d": [
           {
            "line": {
             "colorbar": {
              "outlinewidth": 0,
              "ticks": ""
             }
            },
            "marker": {
             "colorbar": {
              "outlinewidth": 0,
              "ticks": ""
             }
            },
            "type": "scatter3d"
           }
          ],
          "scattercarpet": [
           {
            "marker": {
             "colorbar": {
              "outlinewidth": 0,
              "ticks": ""
             }
            },
            "type": "scattercarpet"
           }
          ],
          "scattergeo": [
           {
            "marker": {
             "colorbar": {
              "outlinewidth": 0,
              "ticks": ""
             }
            },
            "type": "scattergeo"
           }
          ],
          "scattergl": [
           {
            "marker": {
             "colorbar": {
              "outlinewidth": 0,
              "ticks": ""
             }
            },
            "type": "scattergl"
           }
          ],
          "scattermapbox": [
           {
            "marker": {
             "colorbar": {
              "outlinewidth": 0,
              "ticks": ""
             }
            },
            "type": "scattermapbox"
           }
          ],
          "scatterpolar": [
           {
            "marker": {
             "colorbar": {
              "outlinewidth": 0,
              "ticks": ""
             }
            },
            "type": "scatterpolar"
           }
          ],
          "scatterpolargl": [
           {
            "marker": {
             "colorbar": {
              "outlinewidth": 0,
              "ticks": ""
             }
            },
            "type": "scatterpolargl"
           }
          ],
          "scatterternary": [
           {
            "marker": {
             "colorbar": {
              "outlinewidth": 0,
              "ticks": ""
             }
            },
            "type": "scatterternary"
           }
          ],
          "surface": [
           {
            "colorbar": {
             "outlinewidth": 0,
             "ticks": ""
            },
            "colorscale": [
             [
              0,
              "#0d0887"
             ],
             [
              0.1111111111111111,
              "#46039f"
             ],
             [
              0.2222222222222222,
              "#7201a8"
             ],
             [
              0.3333333333333333,
              "#9c179e"
             ],
             [
              0.4444444444444444,
              "#bd3786"
             ],
             [
              0.5555555555555556,
              "#d8576b"
             ],
             [
              0.6666666666666666,
              "#ed7953"
             ],
             [
              0.7777777777777778,
              "#fb9f3a"
             ],
             [
              0.8888888888888888,
              "#fdca26"
             ],
             [
              1,
              "#f0f921"
             ]
            ],
            "type": "surface"
           }
          ],
          "table": [
           {
            "cells": {
             "fill": {
              "color": "#EBF0F8"
             },
             "line": {
              "color": "white"
             }
            },
            "header": {
             "fill": {
              "color": "#C8D4E3"
             },
             "line": {
              "color": "white"
             }
            },
            "type": "table"
           }
          ]
         },
         "layout": {
          "annotationdefaults": {
           "arrowcolor": "#2a3f5f",
           "arrowhead": 0,
           "arrowwidth": 1
          },
          "autotypenumbers": "strict",
          "coloraxis": {
           "colorbar": {
            "outlinewidth": 0,
            "ticks": ""
           }
          },
          "colorscale": {
           "diverging": [
            [
             0,
             "#8e0152"
            ],
            [
             0.1,
             "#c51b7d"
            ],
            [
             0.2,
             "#de77ae"
            ],
            [
             0.3,
             "#f1b6da"
            ],
            [
             0.4,
             "#fde0ef"
            ],
            [
             0.5,
             "#f7f7f7"
            ],
            [
             0.6,
             "#e6f5d0"
            ],
            [
             0.7,
             "#b8e186"
            ],
            [
             0.8,
             "#7fbc41"
            ],
            [
             0.9,
             "#4d9221"
            ],
            [
             1,
             "#276419"
            ]
           ],
           "sequential": [
            [
             0,
             "#0d0887"
            ],
            [
             0.1111111111111111,
             "#46039f"
            ],
            [
             0.2222222222222222,
             "#7201a8"
            ],
            [
             0.3333333333333333,
             "#9c179e"
            ],
            [
             0.4444444444444444,
             "#bd3786"
            ],
            [
             0.5555555555555556,
             "#d8576b"
            ],
            [
             0.6666666666666666,
             "#ed7953"
            ],
            [
             0.7777777777777778,
             "#fb9f3a"
            ],
            [
             0.8888888888888888,
             "#fdca26"
            ],
            [
             1,
             "#f0f921"
            ]
           ],
           "sequentialminus": [
            [
             0,
             "#0d0887"
            ],
            [
             0.1111111111111111,
             "#46039f"
            ],
            [
             0.2222222222222222,
             "#7201a8"
            ],
            [
             0.3333333333333333,
             "#9c179e"
            ],
            [
             0.4444444444444444,
             "#bd3786"
            ],
            [
             0.5555555555555556,
             "#d8576b"
            ],
            [
             0.6666666666666666,
             "#ed7953"
            ],
            [
             0.7777777777777778,
             "#fb9f3a"
            ],
            [
             0.8888888888888888,
             "#fdca26"
            ],
            [
             1,
             "#f0f921"
            ]
           ]
          },
          "colorway": [
           "#636efa",
           "#EF553B",
           "#00cc96",
           "#ab63fa",
           "#FFA15A",
           "#19d3f3",
           "#FF6692",
           "#B6E880",
           "#FF97FF",
           "#FECB52"
          ],
          "font": {
           "color": "#2a3f5f"
          },
          "geo": {
           "bgcolor": "white",
           "lakecolor": "white",
           "landcolor": "#E5ECF6",
           "showlakes": true,
           "showland": true,
           "subunitcolor": "white"
          },
          "hoverlabel": {
           "align": "left"
          },
          "hovermode": "closest",
          "mapbox": {
           "style": "light"
          },
          "paper_bgcolor": "white",
          "plot_bgcolor": "#E5ECF6",
          "polar": {
           "angularaxis": {
            "gridcolor": "white",
            "linecolor": "white",
            "ticks": ""
           },
           "bgcolor": "#E5ECF6",
           "radialaxis": {
            "gridcolor": "white",
            "linecolor": "white",
            "ticks": ""
           }
          },
          "scene": {
           "xaxis": {
            "backgroundcolor": "#E5ECF6",
            "gridcolor": "white",
            "gridwidth": 2,
            "linecolor": "white",
            "showbackground": true,
            "ticks": "",
            "zerolinecolor": "white"
           },
           "yaxis": {
            "backgroundcolor": "#E5ECF6",
            "gridcolor": "white",
            "gridwidth": 2,
            "linecolor": "white",
            "showbackground": true,
            "ticks": "",
            "zerolinecolor": "white"
           },
           "zaxis": {
            "backgroundcolor": "#E5ECF6",
            "gridcolor": "white",
            "gridwidth": 2,
            "linecolor": "white",
            "showbackground": true,
            "ticks": "",
            "zerolinecolor": "white"
           }
          },
          "shapedefaults": {
           "line": {
            "color": "#2a3f5f"
           }
          },
          "ternary": {
           "aaxis": {
            "gridcolor": "white",
            "linecolor": "white",
            "ticks": ""
           },
           "baxis": {
            "gridcolor": "white",
            "linecolor": "white",
            "ticks": ""
           },
           "bgcolor": "#E5ECF6",
           "caxis": {
            "gridcolor": "white",
            "linecolor": "white",
            "ticks": ""
           }
          },
          "title": {
           "x": 0.05
          },
          "xaxis": {
           "automargin": true,
           "gridcolor": "white",
           "linecolor": "white",
           "ticks": "",
           "title": {
            "standoff": 15
           },
           "zerolinecolor": "white",
           "zerolinewidth": 2
          },
          "yaxis": {
           "automargin": true,
           "gridcolor": "white",
           "linecolor": "white",
           "ticks": "",
           "title": {
            "standoff": 15
           },
           "zerolinecolor": "white",
           "zerolinewidth": 2
          }
         }
        }
       }
      }
     },
     "metadata": {},
     "output_type": "display_data"
    }
   ],
   "source": [
    "# PCA with three components\n",
    "\n",
    "pca = PCA(n_components=3)\n",
    "\n",
    "# fit the PCA to the embeddings\n",
    "pca.fit(X)\n",
    "\n",
    "# transform the embeddings\n",
    "X_pca = pca.transform(X)\n",
    "\n",
    "pca_agg_class_1 = pca.transform([aggregation_class_1])\n",
    "pca_agg_class_2 = pca.transform([aggregation_class_2])\n",
    "pca_agg_class_3 = pca.transform([aggregation_class_3])\n",
    "\n",
    "\n",
    "# transform the new sentence\n",
    "\n",
    "sentence_embedding_pca = pca.transform([sentence_embedding])\n",
    "\n",
    "# plot the embeddings\n",
    "\n",
    "fig = go.Figure()\n",
    "\n",
    "for i, embeddings in enumerate([pca_agg_class_1, pca_agg_class_2, pca_agg_class_3, sentence_embedding_pca]):\n",
    "\n",
    "    fig.add_trace(go.Scatter3d(\n",
    "        x=embeddings[:,0],\n",
    "        y=embeddings[:,1],\n",
    "        z=embeddings[:,2],\n",
    "        mode=\"markers\",\n",
    "        name=f\"Class {i+1}\",\n",
    "        marker=dict(\n",
    "            size=12,\n",
    "            color=[\"red\", \"green\", \"blue\", \"yellow\"][i],\n",
    "        ),\n",
    "        text=class_1 + class_2 + class_3,\n",
    "        hovertemplate=\n",
    "        \"<b>%{text}</b><br><br>\" +\n",
    "\n",
    "        \"<i>Similarity to new sentence:</i><br>\" +\n",
    "        \"%{marker.color:.2f}<br>\" +\n",
    "        \"<extra></extra>\"\n",
    "    ))\n",
    "\n",
    "\n",
    "fig.show()"
   ]
  },
  {
   "cell_type": "code",
   "execution_count": null,
   "metadata": {},
   "outputs": [],
   "source": []
  }
 ],
 "metadata": {
  "kernelspec": {
   "display_name": "playground",
   "language": "python",
   "name": "python3"
  },
  "language_info": {
   "codemirror_mode": {
    "name": "ipython",
    "version": 3
   },
   "file_extension": ".py",
   "mimetype": "text/x-python",
   "name": "python",
   "nbconvert_exporter": "python",
   "pygments_lexer": "ipython3",
   "version": "3.10.11"
  },
  "orig_nbformat": 4
 },
 "nbformat": 4,
 "nbformat_minor": 2
}
