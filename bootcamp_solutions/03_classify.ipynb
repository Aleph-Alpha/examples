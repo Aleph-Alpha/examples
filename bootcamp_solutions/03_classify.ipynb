{
 "cells": [
  {
   "cell_type": "code",
   "execution_count": 20,
   "metadata": {},
   "outputs": [],
   "source": [
    "from aleph_alpha_client import Client, SemanticEmbeddingRequest, SemanticEmbeddingResponse, SemanticRepresentation, Prompt, TextControl\n",
    "from scipy import spatial\n",
    "import numpy as np\n",
    "import os\n",
    "from dotenv import load_dotenv\n",
    "\n",
    "from langchain.llms import AlephAlpha\n",
    "from langchain.embeddings import AlephAlphaSymmetricSemanticEmbedding, AlephAlphaAsymmetricSemanticEmbedding\n",
    "\n",
    "from sklearn.neighbors import KNeighborsClassifier"
   ]
  },
  {
   "cell_type": "code",
   "execution_count": 2,
   "metadata": {},
   "outputs": [],
   "source": [
    "load_dotenv()\n",
    "\n",
    "client = Client(token=os.getenv(\"AA_TOKEN\"))"
   ]
  },
  {
   "attachments": {},
   "cell_type": "markdown",
   "metadata": {},
   "source": [
    "## Let's use luminous embeddings as a classifier"
   ]
  },
  {
   "cell_type": "code",
   "execution_count": 3,
   "metadata": {},
   "outputs": [],
   "source": [
    "# Here we define two classes that we want to classify\n",
    "class_1 = [\"I want to get a new ID card, because I lost mine.\",\n",
    "           \"Where can I request a new ID?\",\n",
    "           \"My personal Identification document is lost, I need a new one.\",\n",
    "           \"Please help me, my ID has gone missing.\",]\n",
    "\n",
    "class_2 = [\"I am required to register as a new citizen.\",\n",
    "           \"I just moved to this country, how do I register?\",\n",
    "           \"Could you please help me register as a new citizen?\",\n",
    "           \"I have a new address, how do I register it?\"]"
   ]
  },
  {
   "attachments": {},
   "cell_type": "markdown",
   "metadata": {},
   "source": [
    "### Next we generate embeddings for each class"
   ]
  },
  {
   "cell_type": "code",
   "execution_count": 60,
   "metadata": {},
   "outputs": [],
   "source": [
    "# TODO: Use the AlephAlpha client to embed the sentences in the two classes\n",
    "embeddings_class_1 = [client.semantic_embed(SemanticEmbeddingRequest(prompt=Prompt.from_text(text), representation=SemanticRepresentation.Symmetric), model=\"luminous-base\").embedding for text in class_1]\n",
    "embeddings_class_2 = [client.semantic_embed(SemanticEmbeddingRequest(prompt=Prompt.from_text(text), representation=SemanticRepresentation.Symmetric), model=\"luminous-base\").embedding for text in class_2]\n",
    "\n",
    "new_sentence = \"Ich habe meinen Ausweis verloren, ich brauche einen neuen.\"\n",
    "sentence_embedding = client.semantic_embed(SemanticEmbeddingRequest(prompt=Prompt.from_text(new_sentence), representation=SemanticRepresentation.Symmetric), model=\"luminous-base\").embedding"
   ]
  },
  {
   "cell_type": "code",
   "execution_count": 61,
   "metadata": {},
   "outputs": [
    {
     "name": "stdout",
     "output_type": "stream",
     "text": [
      "Similarity to class 1:  0.8308171888848571\n",
      "Similarity to class 2:  0.49238100823376585\n"
     ]
    }
   ],
   "source": [
    "# TODO: get the average similarity of the new sentence to the two classes\n",
    "\n",
    "similarities_class_1 = [1 - spatial.distance.cosine(sentence_embedding, embedding) for embedding in embeddings_class_1]\n",
    "similarities_class_2 = [1 - spatial.distance.cosine(sentence_embedding, embedding) for embedding in embeddings_class_2]\n",
    "\n",
    "# TODO get the average similarity of the new sentence to the two classes\n",
    "avg_similarity_class_1 = np.mean(similarities_class_1)\n",
    "avg_similarity_class_2 = np.mean(similarities_class_2)\n",
    "\n",
    "print(\"Similarity to class 1: \", avg_similarity_class_1)\n",
    "print(\"Similarity to class 2: \", avg_similarity_class_2)"
   ]
  },
  {
   "attachments": {},
   "cell_type": "markdown",
   "metadata": {},
   "source": [
    "### Let's actually train a classifier on these embeddings"
   ]
  },
  {
   "cell_type": "code",
   "execution_count": 62,
   "metadata": {},
   "outputs": [
    {
     "name": "stdout",
     "output_type": "stream",
     "text": [
      "Predicted class:  [0]\n"
     ]
    }
   ],
   "source": [
    "# Define a classifier\n",
    "clf = KNeighborsClassifier(n_neighbors=3)\n",
    "# use the embeddings and the class labels to train a classifier\n",
    "X = [np.array(embedding) for embedding in embeddings_class_1 + embeddings_class_2]\n",
    "y = np.array([0] * len(embeddings_class_1) + [1] * len(embeddings_class_2))\n",
    "\n",
    "# fit the classifier\n",
    "clf.fit(X, y)\n",
    "\n",
    "print(\"Predicted class: \", clf.predict([sentence_embedding]))"
   ]
  }
 ],
 "metadata": {
  "kernelspec": {
   "display_name": "playground",
   "language": "python",
   "name": "python3"
  },
  "language_info": {
   "codemirror_mode": {
    "name": "ipython",
    "version": 3
   },
   "file_extension": ".py",
   "mimetype": "text/x-python",
   "name": "python",
   "nbconvert_exporter": "python",
   "pygments_lexer": "ipython3",
   "version": "3.9.12"
  },
  "orig_nbformat": 4
 },
 "nbformat": 4,
 "nbformat_minor": 2
}
