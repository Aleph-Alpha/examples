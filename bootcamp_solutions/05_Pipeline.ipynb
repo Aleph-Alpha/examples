{
 "cells": [
  {
   "cell_type": "code",
   "execution_count": 1,
   "metadata": {},
   "outputs": [],
   "source": [
    "from aleph_alpha_client import Client, Prompt, CompletionRequest, CompletionResponse, SemanticEmbeddingRequest, SemanticEmbeddingResponse, SemanticRepresentation\n",
    "from scipy import spatial\n",
    "import numpy as np\n",
    "import os\n",
    "from dotenv import load_dotenv"
   ]
  },
  {
   "cell_type": "code",
   "execution_count": 2,
   "metadata": {},
   "outputs": [],
   "source": [
    "load_dotenv()\n",
    "\n",
    "client = Client(token=os.getenv(\"AA_TOKEN\"))"
   ]
  },
  {
   "attachments": {},
   "cell_type": "markdown",
   "metadata": {},
   "source": [
    "### Step 1: Let's do a really simple QA prompt\n",
    "In this step we will ask luminous a question from the manual. Let's see how it answers.\n",
    "Write a completionrequest and make luminous answer it. Don't forget the stop sequences.\n",
    "You can find the documentation for the completionrequest here: https://docs.aleph-alpha.com/docs/tasks/complete/"
   ]
  },
  {
   "cell_type": "code",
   "execution_count": 3,
   "metadata": {},
   "outputs": [
    {
     "name": "stdout",
     "output_type": "stream",
     "text": [
      " The world is not flat. It is a sphere.\n"
     ]
    }
   ],
   "source": [
    "prompt = \"Q: What is stop category 0?\\nA:\"\n",
    "\n",
    "# TODO: Write the completion request\n",
    "request = CompletionRequest(prompt=Prompt.from_text(prompt), maximum_tokens=32, stop_sequences=[\"\\n\"])\n",
    "\n",
    "# TODO: Call the client to run the completionrequest\n",
    "response = client.complete(request, model=\"luminous-base-control\")\n",
    "print(response.completions[0].completion)"
   ]
  },
  {
   "attachments": {},
   "cell_type": "markdown",
   "metadata": {},
   "source": [
    "#### Step 2: Let's do a QA prompt with a context\n",
    "Obviously, we can't expect luminous to answer the question if we don't give it any context. Let's see how it answers when we give it some context.\n",
    "Write the new prompt and make luminous answer it. Don't forget the stop sequences."
   ]
  },
  {
   "cell_type": "code",
   "execution_count": 5,
   "metadata": {},
   "outputs": [
    {
     "name": "stdout",
     "output_type": "stream",
     "text": [
      " Stop Category 0 is defined as stopping by immediate removal of power to the machine actuators.\n"
     ]
    }
   ],
   "source": [
    "context = \"\"\"The robot has protective and emergency stop functions (stop category 0 or 1, in accordance with IEC 60204-1).\n",
    "\n",
    "| Stop category 0 | As defined in IEC 60204-1, stopping by immediate removal of power to the machine actuators. |  \n",
    "|---|---|  \n",
    "| Stop category 1 | As defined in IEC 60204-1, a controlled stop with power avail- able to the machine actuators to achieve the stop and then re- moval of power when the stop is achieved. |  \"\"\"\n",
    "\n",
    "# TODO write a prompt that makes luminous answer the question based on the context\n",
    "prompt = f\"\"\"### Instructions: Answer the question based on the provided Context. If the answer is not in the text return \"not answerable\".\n",
    "### Input: {context}\n",
    "### Question: How is Stop Category 0 defined?\n",
    "Short Answer:\"\"\"\n",
    "\n",
    "request = CompletionRequest(prompt=Prompt.from_text(prompt), maximum_tokens=32, stop_sequences=[\"###\"])\n",
    "\n",
    "response = client.complete(request, model=\"luminous-base-control\")\n",
    "print(response.completions[0].completion)\n",
    "\n"
   ]
  },
  {
   "attachments": {},
   "cell_type": "markdown",
   "metadata": {},
   "source": [
    "#### Step 3: Let's use our search we coded in the previous notebook to find the relevant context for the question and then use that context to answer the question\n",
    "This step is a bit long, but it is a good exercise to see how we can use the search we coded in the previous notebook to find the relevant context for the question and then use that context to answer the question."
   ]
  },
  {
   "cell_type": "code",
   "execution_count": 6,
   "metadata": {},
   "outputs": [
    {
     "name": "stdout",
     "output_type": "stream",
     "text": [
      "data: SUMMARY\n",
      "\n",
      "# Most OECD countries have developed and implemented national sustainable development strat\n",
      "texts:  INDICATORS AND TARGETS\n",
      "\n",
      "The development and incorporation of quantitative indicators can help remov\n"
     ]
    }
   ],
   "source": [
    "# Read the data in the data.md file\n",
    "with open(\"data.md\", \"r\") as f:\n",
    "    data = f.read()\n",
    "    \n",
    "# Split the data into a list of texts\n",
    "texts = data.split(\"#####\")\n",
    "\n",
    "print(f\"data: {data[:100]}\")\n",
    "print(f\"texts: {texts[10][:100]}\")"
   ]
  },
  {
   "cell_type": "code",
   "execution_count": 8,
   "metadata": {},
   "outputs": [
    {
     "name": "stdout",
     "output_type": "stream",
     "text": [
      " Some countries include stakeholders in special commissions and councils which provide advice to but are separate from the government bodies which implement the strategy.\n",
      " STAKEHOLDER PARTICIPATION\n",
      "\n",
      "Active stakeholder participation *(e.g.,* business, trade unions, non- governmental organisations, indigenous peoples) in the development and implementation of national strategies for sustainable development should be an inherent feature. Sustainable development involves trade-offs among economic, social and ecological objectives which cannot be determined by governments alone. These value judgments require participatory approaches to sustainable development which engage the public through effective communication. However, the extent to which stakeholders are involved in policy processes reflects national institutional settings and preferences. Structures vary widely across OECD countries in terms of the status, timing and breadth of involvement of stakeholders.\n",
      "\n",
      "Several countries have implemented *ad hoc* participation processes, where stakeholders were consulted in the development of national strategies, but less so regarding implementation and further development. Public surveys of varying magnitudes have been used to solicit comments on draft strategies. Thus in Belgium, the Preliminary Draft Plan for sustainable development was placed on a public website and subsidies were given to public interest associations to support information projects related to the consultation.\n",
      "\n",
      "In Finland, stakeholder groups were asked to prepare their own sustainable development strategies in parallel to the government strategy as part of the National Sustainable Development Partnership Process. Italy implemented two rounds of consultation with stakeholder groups in developing the national strategy and maintained a website for general public consultation.\n",
      "\n",
      "Some countries include stakeholders in special commissions and councils which provide advice to but are separate from the government bodies which implement the strategy. These include the Federal Sustainable Development Council (CFDD) in Belgium, the National Council for Sustainable Development (CNDD) in France, the Council on Sustainable Development (RNE) in Germany, the National Sustainable Development Council in Ireland, the Sustainable Development Commission (SDC) in the\n",
      "\n",
      "GOOD PRACTICES IN THE NATIONAL SUSTAINABLE DEVELOPMENT STRATEGIES OF OECD COUNTRIES – © OECD 2006\n",
      "\n",
      "\n",
      "United Kingdom, and the National Round Table on the Environment and Economy (NRTEE) in Canada.\n",
      "\n",
      "Other countries include stakeholders alongside government bodies as part of their overall co-ordination structure for sustainable development. These include the Forum for a Sustainable Austria, the Government Council for Sustainable Development in the Czech Republic, the National Commission on Sustainable Development in Finland, the National Sustainable Development Council in Ireland, the Board of Sustainable Development in Poland, the Council for the Environment and Sustainable Development (CNADS) in Portugal, and the Commission for Sustainable Development in the Slovak Republic. Ideally, national strategies for sustainable development should be implemented by bodies with wide representation from the social partners and other stakeholders to promote consultation, dialogue and more innovative approaches.\n",
      "\n",
      "\n",
      "[0.34126565225819083, 0.30139206754996883, 0.22164835826121432, 0.41767216838092924, 0.28585770654567033, 0.21383504719332613, 0.38504291804362556, 0.3182293666696392, 0.35830480942306864, 0.5451891882781551, 0.32612969365876054, 0.4505705116062786]\n"
     ]
    }
   ],
   "source": [
    "question = \"What are special commissions and councils that stakeholders can have?\"\n",
    "\n",
    "#TODO: embed the contexts\n",
    "\n",
    "embedded_texts = []\n",
    "for text in texts:\n",
    "    embedded_texts.append(client.semantic_embed(SemanticEmbeddingRequest(prompt=Prompt.from_text(text), representation=SemanticRepresentation.Document, compress_to_size=128), model=\"luminous-base\").embedding)\n",
    "\n",
    "# TODO: embed the question\n",
    "embedded_question = client.semantic_embed(SemanticEmbeddingRequest(prompt=Prompt.from_text(question), representation=SemanticRepresentation.Query, compress_to_size=128), model=\"luminous-base\").embedding\n",
    "\n",
    "# TODO: calculate the cosine similarity between the question and the contexts\n",
    "similarities = []\n",
    "for embedded_text in embedded_texts:\n",
    "    similarities.append(1 - spatial.distance.cosine(embedded_text, embedded_question))\n",
    "\n",
    "# Get the text in the most similar context\n",
    "selected_context = texts[np.argmax(similarities)]\n",
    "\n",
    "# TODO: write a prompt that makes luminous answer the question based on the context\n",
    "prompt = f\"\"\"### Instructions: Answer the question briefly based on the provided Input. If the answer is not in the text return \"not answerable\".\n",
    "### Input: {selected_context}\n",
    "### Question: {question}\n",
    "### Response:\"\"\"\n",
    "\n",
    "# TODO: write the CompletionRequest\n",
    "request = CompletionRequest(prompt=Prompt.from_text(prompt), maximum_tokens=64, stop_sequences=[\"###\"])\n",
    "\n",
    "response = client.complete(request, model=\"luminous-extended-control\")\n",
    "\n",
    "print(response.completions[0].completion)\n",
    "print(selected_context)\n",
    "print(similarities)"
   ]
  },
  {
   "attachments": {},
   "cell_type": "markdown",
   "metadata": {},
   "source": [
    "### Let's try this with a more complex setup and a vector database"
   ]
  },
  {
   "cell_type": "code",
   "execution_count": 9,
   "metadata": {},
   "outputs": [
    {
     "data": {
      "text/plain": [
       "True"
      ]
     },
     "execution_count": 9,
     "metadata": {},
     "output_type": "execute_result"
    }
   ],
   "source": [
    "# First we spin up the Qdrant server\n",
    "from qdrant_client import QdrantClient\n",
    "from qdrant_client.http.models import Distance, VectorParams, Batch\n",
    "\n",
    "q_client = QdrantClient(path=\"db\")\n",
    "\n",
    "q_client.recreate_collection(\n",
    "    collection_name=\"test_collection\",\n",
    "    vectors_config=VectorParams(size=128, distance=Distance.COSINE),\n",
    ")\n",
    "\n"
   ]
  },
  {
   "cell_type": "code",
   "execution_count": 10,
   "metadata": {},
   "outputs": [],
   "source": [
    "# Let's create embeddings for each of the texts and store them in a list\n",
    "embeddings = []\n",
    "for text in texts:\n",
    "    # TODO: embed the texts\n",
    "    embeddings.append(client.semantic_embed(SemanticEmbeddingRequest(prompt=Prompt.from_text(text), representation=SemanticRepresentation.Document, compress_to_size=128), model=\"luminous-base\").embedding)"
   ]
  },
  {
   "cell_type": "code",
   "execution_count": 11,
   "metadata": {},
   "outputs": [
    {
     "data": {
      "text/plain": [
       "UpdateResult(operation_id=0, status=<UpdateStatus.COMPLETED: 'completed'>)"
      ]
     },
     "execution_count": 11,
     "metadata": {},
     "output_type": "execute_result"
    }
   ],
   "source": [
    "# now we can upsert the data into Qdrant\n",
    "ids = list(range(len(texts)))\n",
    "payloads = [{\"text\": text} for text in texts]\n",
    "\n",
    "q_client.upsert(\n",
    "     collection_name=\"test_collection\",\n",
    "     points=Batch(\n",
    "     ids=ids,\n",
    "     payloads=payloads,\n",
    "     vectors=embeddings\n",
    "     )\n",
    ")"
   ]
  },
  {
   "cell_type": "code",
   "execution_count": 14,
   "metadata": {},
   "outputs": [],
   "source": [
    "\n",
    "# TODO write a function that takes a question and returns an answer by searching in the Qdrant database\n",
    "def search_and_answer(question):\n",
    "    # TODO First we embed the question\n",
    "    embedded_question = client.semantic_embed(SemanticEmbeddingRequest(prompt=Prompt.from_text(question), representation=SemanticRepresentation.Query, compress_to_size=128), model=\"luminous-base\").embedding\n",
    "    \n",
    "    # Then we search for the most similar text\n",
    "    search_result = q_client.search(\n",
    "        collection_name=\"test_collection\",\n",
    "        query_vector=embedded_question,\n",
    "        filter=None,\n",
    "        top=1\n",
    "    )\n",
    "    \n",
    "    print(search_result)\n",
    "    \n",
    "    # Then we get the text from the search result\n",
    "    text = search_result[0].payload[\"text\"]\n",
    "    \n",
    "    # TODO Finally we ask luminous to answer the question based on the text\n",
    "    prompt = f\"\"\"### Instructions: Answer the question briefly based on the provided Input. If the answer is not in the text return \"not answerable\".\n",
    "    \n",
    "    ### Input: {text}\n",
    "    \n",
    "    ### Question: {question}\n",
    "    \n",
    "    ### Response:\"\"\"\n",
    "    \n",
    "    # TODO write the CompletionRequest\n",
    "    request = CompletionRequest(prompt=Prompt.from_text(prompt), maximum_tokens=64, stop_sequences=[\"###\"])\n",
    "    \n",
    "    # TODO get the response from luminous\n",
    "    response = client.complete(request, model=\"luminous-extended-control\")\n",
    "    \n",
    "    return response.completions[0].completion"
   ]
  },
  {
   "cell_type": "code",
   "execution_count": 15,
   "metadata": {},
   "outputs": [
    {
     "name": "stdout",
     "output_type": "stream",
     "text": [
      "[ScoredPoint(id=6, version=0, score=0.11298372325754442, payload={'text': ' ANALYSIS AND ASSESSMENTS\\n\\nSound analysis is important in helping to identify the underlying trade- offs between economic, environmental and social objectives in priority- setting and policymaking for sustainable development. Such assessments seek to develop information on changing economic, environmental and social conditions, pressures and responses, and their correlations with strategy objectives and indicators. These can build on existing tools including environmental assessments, cost-benefit analyses, accounting frameworks, etc. However, with the exception of a few countries, most national strategies lack provisions for systematically assessing the costs and benefits of alternative actions and informing trade-offs across the full range of sustainable development issues.\\n\\nThe most commonly used tools come from the environmental policy field. Environmental impact assessments (EIA) attempt to gauge the potential ecological effects of policies before they are implemented. In Canada, the Cabinet Directive on the Environmental Assessment of Policy, Plan and Program Proposals requires that government agencies incorporate environmental considerations in their reviews of various proposals, including positive and negative effects, and report these to the public. Other countries – including Denmark, Greece, Italy and Spain – use strategic environmental assessments (SEA) to discern potential outcomes. Ireland and Portugal employ SWOT (strengths, weaknesses, opportunities and threats) analysis for sustainability assessments and priority setting.\\n\\nAnalysis of impacts and linkages can also be accomplished through budget mechanisms which reveal links between spending decisions and sustainable development impacts. In the Netherlands, each ministry is requested to give an overview of their contribution to sustainable development in their annual budget to be discussed in Parliament. Sweden, Norway and a few other countries have similar green budgeting approaches which outline the potential sustainable development impacts related to public spending on proposed policies and programmes.\\n\\nGOOD PRACTICES IN THE NATIONAL SUSTAINABLE DEVELOPMENT STRATEGIES OF OECD COUNTRIES – © OECD 2006\\n\\n---\\nANALYSIS AND ASSESSMENTS\\n\\nMore sophisticated analytical tools are now being tried in certain countries. Switzerland uses a new tool, Strategic Sustainability Assessments, in its planning processes to review sustainable development linkages and the overall effects of potential policies and actions. Similarly, the European Union strategy advocates assessments of major legislative proposals, which should include, where relevant, the effects of gender equality and equal opportunities and identify the groups who bear the burden of change so that policy makers can judge the need for measures to help these groups adapt. The United Kingdom maintains a central interdepartmental requirement linked to regulatory assessments for evaluating the sustainability impacts of policies.\\n\\n'}, vector=None), ScoredPoint(id=11, version=0, score=0.08662788925540957, payload={'text': ' MONITORING AND EVALUATION\\n\\nNational strategies for sustainable development are not meant to be static plans. Rather, they should evolve as more information becomes available about priorities, technological options and policy cost- effectiveness and in order to overcome problems in implementation. Learning, adaptation and continual improvement should be characteristics of national strategies. This requires a process to monitor strategy implementation, to report to governing bodies and stakeholders, and to feed back information for adjustments and improvements. For example, Austria has committed to a “Learning Strategy” which emphasises reporting and communication in order to widen participation in the development and implementation of the national sustainable development strategy.\\n\\nBoth Canada and the United Kingdom have opted for an independent auditing process as learning tools for sustainable development. In Canada, the Commissioner of the Environment and Sustainable Development (CESD) in the Office of the Auditor General is responsible for reporting to Parliament on the extent to which departments are implementing and achieving the objectives laid out in their sustainable development strategies. These strategies must be reviewed, revised and retabled every three years, providing a regular opportunity for learning and adaptation.\\n\\nIn the United Kingdom, the role of the Sustainable Development Commission (SDC), established in 2000, was strengthened in 2005 to change it from “critical friend” to “watchdog” utilising both the National Audit Office and the Audit Commission to oversee implementation of the national strategy. New Zealand has appointed a similar but more limited Parliamentary Commissioner for the Environment, who primarily audits the Environment Ministry.\\n\\nOther countries are also developing oversight bodies. Belgium attributed this task to the Federal Planning Bureau where a task force periodically reports on the quality of the federal government’s sustainable development policies and programmes. Belgium adopted a legal framework in 1997 instituting a process of consecutive rounds of reporting, planning, consultation and monitoring of policies. In 2004, Germany established a\\n\\nGOOD PRACTICES IN THE NATIONAL SUSTAINABLE DEVELOPMENT STRATEGIES OF OECD COUNTRIES – © OECD 2006\\n\\n\\n\\nParliamentary Committee for Sustainable Development which calls plenary debates and gives recommendations to the federal government regarding strategy implementation.\\n\\nFrance has a unique peer review process to promote experience sharing with other countries in support of the continuous improvement of its national strategy. It developed a methodology and subjected its own strategy to a peer review in February 2005 by a group including four peer partner countries – Belgium, Ghana, Mauritius and the United Kingdom. The peers made 13 general and 42 specific recommendations including how to promote sustainable development partnerships with developing countries, establish more participatory processes and ensure effective monitoring of the national sustainable development strategy. The French hope “that this approach will be found to have generic value that can be used (and developed further) by other countries through similar exercises.”\\n'}, vector=None), ScoredPoint(id=8, version=0, score=0.06342945391335139, payload={'text': ' LOCAL AND REGIONAL GOVERNANCE\\n\\nSustainable development strategies should involve local authorities and be a two-way iterative process between national and decentralised levels. The main strategic principles and directions should be set at the central level, but more detailed planning, implementation and monitoring can also be undertaken at a decentralised level, with appropriate transfer of resources and authority. But promoting sustainable development effectively when governments with different geographical jurisdictions may be pursuing various agendas is complex. Only a few OECD governments have attempted to catalyse and fully co-ordinate with the sustainable development efforts at sub-national government levels.\\n\\nCo-ordination among different levels of government, which is important for leveraging important changes, is inherently more difficult in federal states where powers over sustainable development policies are divided among levels of government. The institutional structure in federal countries\\n\\n- *e.g.,* Australia, Belgium, Canada, Switzerland – is different than those in more centralised countries and special procedures may be needed to implement sustainable development strategies. In Belgium, for example, the federal government has adopted a formal Strategy for Sustainable Development, while the communities and regions have integrated the principles of sustainable development into their strategic plans.\\n\\nSome countries have developed separate but equal approaches for devolved regions. The United Kingdom developed a UK strategic framework for sustainable development, but emphasised delivery through a set of national strategies at the regional level covering the UK government and administrations in Scotland, Wales and Northern Ireland. France devotes attention to the “territories” in its sustainable development strategy which encompasses both regional and sub-regional levels of government.\\n\\nGOOD PRACTICES IN THE NATIONAL SUSTAINABLE DEVELOPMENT STRATEGIES OF OECD COUNTRIES – © OECD 2006\\n\\nLOCAL AND REGIONAL GOVERNANCE\\n\\nCountries such as France and Portugal have fully included local and regional authorities in the preparation of their national sustainable development strategies. The United Kingdom has a strong local component in its strategy, including Local Strategic Partnerships and Sustainable Community Plans. Some countries, *e.g.* Denmark, Iceland, Ireland, Korea, are co-ordinating national and local implementation of sustainable development strategies through local Agenda 21 processes. Chapter 28 of Agenda 21 contains guidance for local initiatives in support of its overall goals where local authorities are asked to develop their own sub-strategies to suit their economies and specific circumstances.\\n\\n'}, vector=None), ScoredPoint(id=7, version=0, score=0.046333538811502206, payload={'text': ' CO-ORDINATION AND INSTITUTIONS\\n\\nAchieving sustainable development depends a great deal on high-level political commitment, well-functioning government institutions and overcoming co-ordination failures in public policies. Involving and co- ordinating a wide range of government departments allows strategies to take a broad view of issues, give voice to a range of dispersed interests and develop trade-offs across policy areas. Most OECD countries have set up inter-agency or inter-ministerial co-ordinating committees for sustainable development, which provide an overarching integrative body and framework for action.\\n\\nAlso important is where responsibility is placed for overseeing the co- ordinating mechanism and the different participating agencies. In most OECD countries, overall responsibility for strategy implementation is housed in the Ministry of Environment either directly or indirectly through a co-ordinating committee which it oversees. This is true for countries such as Austria, Denmark, Greece, Ireland, Luxembourg, the Netherlands and the United Kingdom. Although the United Kingdom replaced its Green Cabinet with a Sustainable Development Cabinet, the Department of Environment, Food and Rural Affairs (DEFRA) leads the preparation of sustainable development strategies and manages implementation across the government.\\n\\nA good practice is to assign overall co-ordination to a Prime Minister’s office or the equivalent which has greater authority to demand inputs and resolve conflicts than line ministries. France, Finland, Portugal and Germany have placed responsibility for their national sustainable development strategies directly under the Prime Minister’s office to achieve maximum coherence. In the Belgian federal government, the responsibility for strategy implementation is under the State Secretary for Sustainable Development who chairs the Interdepartmental Committee for Sustainable Development (ICDO) including all federal departments.\\n\\nGOOD PRACTICES IN THE NATIONAL SUSTAINABLE DEVELOPMENT STRATEGIES OF OECD COUNTRIES – © OECD 2006\\n\\nCO-ORDINATION AND INSTITUTIONS\\n\\nAnother approach is to assign responsibility for national sustainability strategies to Finance Ministries, which can assure that strategic management is linked to fiscal priority setting, national expenditure and revenue generation. Thus, Norway has placed responsibility for its sustainable development plan in the Ministry of Finance, while in the Czech Republic, the Governmental Council for Sustainable Development is chaired by the Deputy Minister for Economic Affairs, and in Italy, the Interministerial Committee for Economic Planning, which is responsible for sustainable development, is chaired by the Minister of Economy and Finance.\\n\\n'}, vector=None), ScoredPoint(id=5, version=0, score=0.04122372045744385, payload={'text': \" INTERGENERATIONAL TIMEFRAME\\n\\nIn addition to balancing economic, environmental and social objectives, a basic tenet of sustainable development is the need to balance the needs of current and future generations. This is reflected in the definition of sustainable development from the 1987 Brundtlandt Report as “meeting the needs of the present generation without compromising the ability of future generations to meet their own needs”. For well-being to last, the stocks of assets that underpin it *(e.g.,* man-made, natural, human and social capital) must be preserved over time. National strategies for sustainable development need a long timeframe for implementing notions of intergenerational equity, a fundamental principle of sustainable development.\\n\\nThe national strategies of most countries have specific short-term timeframes *(e.g.* 2000-2005). Others have medium-term timeframes of ten years, *e.g.,* the Czech Republic Strategy for Sustainable Development covers the years 2004 to 2014. While this may facilitate monitoring progress on specific goals and dealing with short- and medium-term change, it leaves national strategies open to political vulnerabilities. Although some strategies have an inherent renewal expectation or periodic renewals required by law, they may still be subject to the ideological or political whims of successive governments. Strategic planning frameworks are more likely to be successful when they are based on a long-term vision backed by a strong and lasting political commitment.\\n\\nTo this end, some countries have taken timeframes of 20 to 30 years in their national strategies for sustainable development. Sweden's strategy has a 25-year planning perspective, while allowing that measures taken in accordance with the strategy may need to be reassessed more frequently. The Danish strategy contains objectives and benchmarks for a 20-year timeframe, while the German strategy developed in 2002 contains quantified and time-bound indicators extending to 2020. Iceland’s national strategy also extends from 2002 to 2020 and is meant to be a dynamic document responding to changes in circumstances and emphasis. The perspective of Poland’s strategy is given in its title, *Poland 2025: Long-Term Strategy for Sustainable Development.*\\n\\nGOOD PRACTICES IN THE NATIONAL SUSTAINABLE DEVELOPMENT STRATEGIES OF OECD COUNTRIES – © OECD 2006\\n\\n\\nWhile a longer timeframe allows for better incorporation of intergenerational considerations, these are difficult to define and quantify. Finland and a few other countries have included indicators relating to intergenerational concerns in their strategies. In economic terms, these might relate to relieving public debt, in environmental terms, concern for the preservation of resources, and in social terms, the provision of adequate retirement incomes. For the environmental dimension, for example, the Swedish strategy states that “the overall objective of environmental policy is to hand over a society to the next generation in which the major environmental problems have been solved”. The French strategy advocates intergenerational solidarity with a focus on caring for the elderly and facilitating the transmission of competencies across generations.\\n\\n\"}, vector=None), ScoredPoint(id=10, version=0, score=0.01384185811949451, payload={'text': ' INDICATORS AND TARGETS\\n\\nThe development and incorporation of quantitative indicators can help remove discrepancies between the intentions set out in national strategies and what is or can be realised in practice. Statistics and indicators make it far easier to identify and assess trade-offs among the economic, environmental and social dimensions of sustainable development. Indicators can be used to track progress along sustainable paths and provide the foundation for performance targets. They also contribute to policy transparency and accountability in sustainable development strategies.\\n\\nMost OECD countries have developed a set of indicators in association with their national strategies. These indicators vary widely across countries and are generally organised according to certain themes and sub-themes. Some strategies specify relatively few (mostly environmental) indicators. Others have adopted large indicator systems. The New Zealand Programme of Action is based on 40 indicators on the themes of population changes, environmental and ecosystem resilience, economic growth and innovation, skills and knowledge, living standards and health, consumption and resource use, and social cohesion. Switzerland monitors sustainable development according to the MONET indicator system, which includes 115 indicators for 26 themes to track the current situation and trends as well as the country’s position relative to other countries.\\n\\nA few countries are refining their structural approaches and choice of indicators as they revise their national strategies. In Norway, a special Commission proposed a new indicator set to underpin the Norwegian Action Plan for Sustainable Development, *National Agenda 21.* This includes 16 indicators that reflect the value, defined as the welfare effects, of the various components of national wealth: financial capital, real capital, human capital, natural capital and environmental capital. Finland developed its first set of indicators in 2000 and revised and broadened them in 2004 to include 68 indicators in eight categories and three sustainable development dimensions.\\n\\nGOOD PRACTICES IN THE NATIONAL SUSTAINABLE DEVELOPMENT STRATEGIES OF OECD COUNTRIES – © OECD 2006\\n\\n\\nSome countries regularly track their progress on the basis of sustainability indicators and a few have established quantified time-bound targets. Thus, the German strategy uses indicators -- in fiscal, economic, education, research, housing, spatial planning, crime prevention, energy and environment areas – as targets. The United Kingdom’s new strategy, *Securing the Future,* contains 68 indicators, all of which are linked to specific quantifiable goals, with progress reported annually and a “traffic light” approach used to show areas of improvement and deterioration.\\n\\n'}, vector=None), ScoredPoint(id=3, version=0, score=0.008651534769480398, payload={'text': ' Table 1. Comparison of UN and OECD Recommendations for National Sustainable Development Strategies\\n\\n| Main elements | OECD | United Nations |  \\n|---|---|---|  \\n| Policy integration Inter- generational timeframe | Integrate economic, social and environmental objectives Ensure comprehensive and integrated strategy | Integrate economic, social and environmental objectives  Link different sectors |  \\n|^| Develop consensus on long-term vision. | Develop shared strategic and pragmatic vision  Link short term to medium/long term |  \\n| Analysis and assessments | Base strategy on comprehensive and reliable analysis  Build on existing processes and strategies | Anchor strategy in sound technical and economic analysis  Build on existing mechanisms and strategies |  \\n| Co-ordination and institutions Local and regional governance | Embed strategy in high-level government commitment and influential lead institutions | Ensure a strong institution or group of institutions spearheading the process |  \\n|^| Link national and local levels | Link national, regional and global levels |  \\n| Stakeholder participation Indicators and targets | Ensure effective participation Develop a people-centred strategy | Ensure access to information for all stakeholders, transparency and accountability  Develop partnerships among government, civil society, private sector and external institutions |  \\n|^| Include targets with clear budgetary priorities | Base strategy on realistic, flexible targets |  \\n| Monitoring and evaluation | Incorporate monitoring, learning and improvement | Include integrated mechanisms for assessment, follow-up, evaluation and feedback |  \\n\\nSource: OECD, 2001; UN DESA 2002.\\n\\nGOOD PRACTICES IN THE NATIONAL SUSTAINABLE DEVELOPMENT STRATEGIES OF OECD COUNTRIES – © OECD 2006\\n\\n---\\n\\n---\\n\\n'}, vector=None), ScoredPoint(id=9, version=0, score=-0.0017839969338958866, payload={'text': ' STAKEHOLDER PARTICIPATION\\n\\nActive stakeholder participation *(e.g.,* business, trade unions, non- governmental organisations, indigenous peoples) in the development and implementation of national strategies for sustainable development should be an inherent feature. Sustainable development involves trade-offs among economic, social and ecological objectives which cannot be determined by governments alone. These value judgments require participatory approaches to sustainable development which engage the public through effective communication. However, the extent to which stakeholders are involved in policy processes reflects national institutional settings and preferences. Structures vary widely across OECD countries in terms of the status, timing and breadth of involvement of stakeholders.\\n\\nSeveral countries have implemented *ad hoc* participation processes, where stakeholders were consulted in the development of national strategies, but less so regarding implementation and further development. Public surveys of varying magnitudes have been used to solicit comments on draft strategies. Thus in Belgium, the Preliminary Draft Plan for sustainable development was placed on a public website and subsidies were given to public interest associations to support information projects related to the consultation.\\n\\nIn Finland, stakeholder groups were asked to prepare their own sustainable development strategies in parallel to the government strategy as part of the National Sustainable Development Partnership Process. Italy implemented two rounds of consultation with stakeholder groups in developing the national strategy and maintained a website for general public consultation.\\n\\nSome countries include stakeholders in special commissions and councils which provide advice to but are separate from the government bodies which implement the strategy. These include the Federal Sustainable Development Council (CFDD) in Belgium, the National Council for Sustainable Development (CNDD) in France, the Council on Sustainable Development (RNE) in Germany, the National Sustainable Development Council in Ireland, the Sustainable Development Commission (SDC) in the\\n\\nGOOD PRACTICES IN THE NATIONAL SUSTAINABLE DEVELOPMENT STRATEGIES OF OECD COUNTRIES – © OECD 2006\\n\\n\\nUnited Kingdom, and the National Round Table on the Environment and Economy (NRTEE) in Canada.\\n\\nOther countries include stakeholders alongside government bodies as part of their overall co-ordination structure for sustainable development. These include the Forum for a Sustainable Austria, the Government Council for Sustainable Development in the Czech Republic, the National Commission on Sustainable Development in Finland, the National Sustainable Development Council in Ireland, the Board of Sustainable Development in Poland, the Council for the Environment and Sustainable Development (CNADS) in Portugal, and the Commission for Sustainable Development in the Slovak Republic. Ideally, national strategies for sustainable development should be implemented by bodies with wide representation from the social partners and other stakeholders to promote consultation, dialogue and more innovative approaches.\\n\\n'}, vector=None), ScoredPoint(id=0, version=0, score=-0.0020524043096720665, payload={'text': 'SUMMARY\\n\\n# Most OECD countries have developed and implemented national sustainable development strategies (NSDS) in accordance with the 1992\\n\\nmandate of *Agenda 21.* The sustainable development strategy process\\n\\n# offers an opportunity to build on the complementarities of programmes in the economic, environmental and social spheres to improve the long- term effectiveness of government policy agendas. However, a review of country strategies shows that many lack the basic design and implementation elements recommended by both the OECD and the United Nations\\n\\n# Greater attention should be paid to the content of national sustainable development strategies (policy dimensions, timeframes, analytical tools), governance aspects (institutions, stakeholders, local links), and the processes for improving them (indicators, targets, monitoring). There is no single method, specific entry point or ideal co-ordinating mechanism for these strategies, which will reflect the economic, social, environmental and cultural specificities of countries\\n\\n# An OECD review has attempted to identify successful practices in the national sustainable development strategies implemented in the different circumstances of the OECD countries as indicated below\\n\\n1. Policy integration – national strategies should give consideration to environmental, economic and social concerns in integrated approaches contained in national plans and reports.\\n\\n2. Intergenerational timeframe – national strategies should adopt long- term timeframes which enable inclusion of intergenerational principles and indicators.\\n\\n3. Analysis and assessments – integrated assessment tools should be used in national reports to identify the environmental, economic and social costs and benefits of policy and strategy options.\\n\\n4. Co-ordination and institutions – a wide range of government departments and agencies should be involved in the formulation and\\n\\nGOOD PRACTICES IN THE NATIONAL SUSTAINABLE DEVELOPMENT STRATEGIES OF OECD COUNTRIES – © OECD 2006\\n\\n---\\n\\n\\n'}, vector=None), ScoredPoint(id=1, version=0, score=-0.03277321312410879, payload={'text': ' INTRODUCTION\\n\\n# Background\\n\\nGovernments first agreed to prepare national sustainable development strategies as part of *Agenda 21,* signed at the United Nations Conference on Environment and Development (the Rio Earth Summit) in 1992. The purpose of these strategies was to translate the Summit’s ideas and commitments into concrete policies and actions. Governments agreed to “adopt national strategies for sustainable development [which should] build upon and harmonise the various sectoral, economic, social and environmental policies and plans that are operating in the country. Its goals should be to ensure socially responsible economic development for the benefit of future generations”.\\n\\nIn 1997, the Special Session of the UN General Assembly met to review progress since the Rio Summit and set a target date of 2002 for introducing national sustainable development strategies. Subsequently, the 2002 World Summit on Sustainable Development (WSSD) noted the lack of progress in strategy development and implementation. Countries were urged to \"take immediate steps to make progress in the formulation and elaboration of NSDS and to begin their implementation by 2005\". In addition, integrating the principles of sustainable development into country policies and programmes is one of the targets contained in the United Nations Millennium Declaration.\\n\\n# Current status of strategies\\n\\nAccording to the UN Commission on Sustainable Development (UNCSD), much work remains to be done to reach the WSSD target that all countries should be in the process of implementing their NSDS by 2005. According to an assessment of the status of national strategies in 2004, only 12% of a total of 191 countries had strategies which were being implemented (UN DESA, 2004). However, another 24% had strategy\\n\\nGOOD PRACTICES IN THE NATIONAL SUSTAINABLE DEVELOPMENT STRATEGIES OF OECD COUNTRIES – © OECD 2006\\n\\n\\n# National strategies in OECD countries\\n\\nAs for the 30 OECD countries, most have developed national sustainable development strategies in some form. Internet links to national sustainable development strategies and plans in OECD countries are given in the Annex.\\n\\nTwenty-three OECD countries have prepared formal strategies or plans. Of these, Australia, Finland, France, Japan, Luxembourg, the Netherlands, Sweden, Switzerland and the United Kingdom formulated strategies relatively early and some *(e.g.,* the United Kingdom) have since revised their strategies. Austria, the Czech Republic, Denmark, Germany, Greece, Iceland, Ireland, Italy, Korea, New Zealand, Norway, Poland, Portugal and the Slovak Republic prepared their first national strategies more recently.\\n\\nIn 2001, the European Union also developed a sustainable development strategy for its Member countries (under revision in 2006), while a Nordic Strategy for Sustainable Development (Denmark, Finland, Iceland, Norway and Sweden) was revised in 2005.\\n\\nSeven OECD countries do not have national sustainable development strategies as such – Belgium, Canada, Hungary, Mexico, Spain, Turkey and the United States. In federal countries such as Belgium and Canada, it is more difficult to develop a comprehensive national strategy. In Belgium, the federal government adopted a sustainable development strategy and is now in the process of developing a national strategy together with the governments of the regions and communities. Canada has adopted a decentralised approach, where 28 federal departments and agencies have enumerated sustainable development strategies, and is now formulating an overall national plan.\\n\\nMexico has integrated sustainable development elements into existing national development plans rather than develop a separate strategy. Hungary, Spain and Turkey are in the process of developing national sustainable development strategies. The United States has emphasized public/private sustainable development partnerships to promote economic growth, social development and environmental stewardship.\\n\\nGOOD PRACTICES IN THE NATIONAL SUSTAINABLE DEVELOPMENT STRATEGIES OF OECD COUNTRIES – © OECD 2006\\n\\n---\\n\\n'}, vector=None)]\n"
     ]
    },
    {
     "data": {
      "text/plain": [
       "' Paris. It is the capital of France.'"
      ]
     },
     "execution_count": 15,
     "metadata": {},
     "output_type": "execute_result"
    }
   ],
   "source": [
    "search_and_answer(\"What is the capital of France?\")"
   ]
  },
  {
   "cell_type": "code",
   "execution_count": 16,
   "metadata": {},
   "outputs": [
    {
     "name": "stdout",
     "output_type": "stream",
     "text": [
      "[ScoredPoint(id=9, version=0, score=0.5451891976132429, payload={'text': ' STAKEHOLDER PARTICIPATION\\n\\nActive stakeholder participation *(e.g.,* business, trade unions, non- governmental organisations, indigenous peoples) in the development and implementation of national strategies for sustainable development should be an inherent feature. Sustainable development involves trade-offs among economic, social and ecological objectives which cannot be determined by governments alone. These value judgments require participatory approaches to sustainable development which engage the public through effective communication. However, the extent to which stakeholders are involved in policy processes reflects national institutional settings and preferences. Structures vary widely across OECD countries in terms of the status, timing and breadth of involvement of stakeholders.\\n\\nSeveral countries have implemented *ad hoc* participation processes, where stakeholders were consulted in the development of national strategies, but less so regarding implementation and further development. Public surveys of varying magnitudes have been used to solicit comments on draft strategies. Thus in Belgium, the Preliminary Draft Plan for sustainable development was placed on a public website and subsidies were given to public interest associations to support information projects related to the consultation.\\n\\nIn Finland, stakeholder groups were asked to prepare their own sustainable development strategies in parallel to the government strategy as part of the National Sustainable Development Partnership Process. Italy implemented two rounds of consultation with stakeholder groups in developing the national strategy and maintained a website for general public consultation.\\n\\nSome countries include stakeholders in special commissions and councils which provide advice to but are separate from the government bodies which implement the strategy. These include the Federal Sustainable Development Council (CFDD) in Belgium, the National Council for Sustainable Development (CNDD) in France, the Council on Sustainable Development (RNE) in Germany, the National Sustainable Development Council in Ireland, the Sustainable Development Commission (SDC) in the\\n\\nGOOD PRACTICES IN THE NATIONAL SUSTAINABLE DEVELOPMENT STRATEGIES OF OECD COUNTRIES – © OECD 2006\\n\\n\\nUnited Kingdom, and the National Round Table on the Environment and Economy (NRTEE) in Canada.\\n\\nOther countries include stakeholders alongside government bodies as part of their overall co-ordination structure for sustainable development. These include the Forum for a Sustainable Austria, the Government Council for Sustainable Development in the Czech Republic, the National Commission on Sustainable Development in Finland, the National Sustainable Development Council in Ireland, the Board of Sustainable Development in Poland, the Council for the Environment and Sustainable Development (CNADS) in Portugal, and the Commission for Sustainable Development in the Slovak Republic. Ideally, national strategies for sustainable development should be implemented by bodies with wide representation from the social partners and other stakeholders to promote consultation, dialogue and more innovative approaches.\\n\\n'}, vector=None), ScoredPoint(id=11, version=0, score=0.45057050627703926, payload={'text': ' MONITORING AND EVALUATION\\n\\nNational strategies for sustainable development are not meant to be static plans. Rather, they should evolve as more information becomes available about priorities, technological options and policy cost- effectiveness and in order to overcome problems in implementation. Learning, adaptation and continual improvement should be characteristics of national strategies. This requires a process to monitor strategy implementation, to report to governing bodies and stakeholders, and to feed back information for adjustments and improvements. For example, Austria has committed to a “Learning Strategy” which emphasises reporting and communication in order to widen participation in the development and implementation of the national sustainable development strategy.\\n\\nBoth Canada and the United Kingdom have opted for an independent auditing process as learning tools for sustainable development. In Canada, the Commissioner of the Environment and Sustainable Development (CESD) in the Office of the Auditor General is responsible for reporting to Parliament on the extent to which departments are implementing and achieving the objectives laid out in their sustainable development strategies. These strategies must be reviewed, revised and retabled every three years, providing a regular opportunity for learning and adaptation.\\n\\nIn the United Kingdom, the role of the Sustainable Development Commission (SDC), established in 2000, was strengthened in 2005 to change it from “critical friend” to “watchdog” utilising both the National Audit Office and the Audit Commission to oversee implementation of the national strategy. New Zealand has appointed a similar but more limited Parliamentary Commissioner for the Environment, who primarily audits the Environment Ministry.\\n\\nOther countries are also developing oversight bodies. Belgium attributed this task to the Federal Planning Bureau where a task force periodically reports on the quality of the federal government’s sustainable development policies and programmes. Belgium adopted a legal framework in 1997 instituting a process of consecutive rounds of reporting, planning, consultation and monitoring of policies. In 2004, Germany established a\\n\\nGOOD PRACTICES IN THE NATIONAL SUSTAINABLE DEVELOPMENT STRATEGIES OF OECD COUNTRIES – © OECD 2006\\n\\n\\n\\nParliamentary Committee for Sustainable Development which calls plenary debates and gives recommendations to the federal government regarding strategy implementation.\\n\\nFrance has a unique peer review process to promote experience sharing with other countries in support of the continuous improvement of its national strategy. It developed a methodology and subjected its own strategy to a peer review in February 2005 by a group including four peer partner countries – Belgium, Ghana, Mauritius and the United Kingdom. The peers made 13 general and 42 specific recommendations including how to promote sustainable development partnerships with developing countries, establish more participatory processes and ensure effective monitoring of the national sustainable development strategy. The French hope “that this approach will be found to have generic value that can be used (and developed further) by other countries through similar exercises.”\\n'}, vector=None), ScoredPoint(id=3, version=0, score=0.4176721674006875, payload={'text': ' Table 1. Comparison of UN and OECD Recommendations for National Sustainable Development Strategies\\n\\n| Main elements | OECD | United Nations |  \\n|---|---|---|  \\n| Policy integration Inter- generational timeframe | Integrate economic, social and environmental objectives Ensure comprehensive and integrated strategy | Integrate economic, social and environmental objectives  Link different sectors |  \\n|^| Develop consensus on long-term vision. | Develop shared strategic and pragmatic vision  Link short term to medium/long term |  \\n| Analysis and assessments | Base strategy on comprehensive and reliable analysis  Build on existing processes and strategies | Anchor strategy in sound technical and economic analysis  Build on existing mechanisms and strategies |  \\n| Co-ordination and institutions Local and regional governance | Embed strategy in high-level government commitment and influential lead institutions | Ensure a strong institution or group of institutions spearheading the process |  \\n|^| Link national and local levels | Link national, regional and global levels |  \\n| Stakeholder participation Indicators and targets | Ensure effective participation Develop a people-centred strategy | Ensure access to information for all stakeholders, transparency and accountability  Develop partnerships among government, civil society, private sector and external institutions |  \\n|^| Include targets with clear budgetary priorities | Base strategy on realistic, flexible targets |  \\n| Monitoring and evaluation | Incorporate monitoring, learning and improvement | Include integrated mechanisms for assessment, follow-up, evaluation and feedback |  \\n\\nSource: OECD, 2001; UN DESA 2002.\\n\\nGOOD PRACTICES IN THE NATIONAL SUSTAINABLE DEVELOPMENT STRATEGIES OF OECD COUNTRIES – © OECD 2006\\n\\n---\\n\\n---\\n\\n'}, vector=None), ScoredPoint(id=6, version=0, score=0.3850429083585247, payload={'text': ' ANALYSIS AND ASSESSMENTS\\n\\nSound analysis is important in helping to identify the underlying trade- offs between economic, environmental and social objectives in priority- setting and policymaking for sustainable development. Such assessments seek to develop information on changing economic, environmental and social conditions, pressures and responses, and their correlations with strategy objectives and indicators. These can build on existing tools including environmental assessments, cost-benefit analyses, accounting frameworks, etc. However, with the exception of a few countries, most national strategies lack provisions for systematically assessing the costs and benefits of alternative actions and informing trade-offs across the full range of sustainable development issues.\\n\\nThe most commonly used tools come from the environmental policy field. Environmental impact assessments (EIA) attempt to gauge the potential ecological effects of policies before they are implemented. In Canada, the Cabinet Directive on the Environmental Assessment of Policy, Plan and Program Proposals requires that government agencies incorporate environmental considerations in their reviews of various proposals, including positive and negative effects, and report these to the public. Other countries – including Denmark, Greece, Italy and Spain – use strategic environmental assessments (SEA) to discern potential outcomes. Ireland and Portugal employ SWOT (strengths, weaknesses, opportunities and threats) analysis for sustainability assessments and priority setting.\\n\\nAnalysis of impacts and linkages can also be accomplished through budget mechanisms which reveal links between spending decisions and sustainable development impacts. In the Netherlands, each ministry is requested to give an overview of their contribution to sustainable development in their annual budget to be discussed in Parliament. Sweden, Norway and a few other countries have similar green budgeting approaches which outline the potential sustainable development impacts related to public spending on proposed policies and programmes.\\n\\nGOOD PRACTICES IN THE NATIONAL SUSTAINABLE DEVELOPMENT STRATEGIES OF OECD COUNTRIES – © OECD 2006\\n\\n---\\nANALYSIS AND ASSESSMENTS\\n\\nMore sophisticated analytical tools are now being tried in certain countries. Switzerland uses a new tool, Strategic Sustainability Assessments, in its planning processes to review sustainable development linkages and the overall effects of potential policies and actions. Similarly, the European Union strategy advocates assessments of major legislative proposals, which should include, where relevant, the effects of gender equality and equal opportunities and identify the groups who bear the burden of change so that policy makers can judge the need for measures to help these groups adapt. The United Kingdom maintains a central interdepartmental requirement linked to regulatory assessments for evaluating the sustainability impacts of policies.\\n\\n'}, vector=None), ScoredPoint(id=8, version=0, score=0.35830481402334025, payload={'text': ' LOCAL AND REGIONAL GOVERNANCE\\n\\nSustainable development strategies should involve local authorities and be a two-way iterative process between national and decentralised levels. The main strategic principles and directions should be set at the central level, but more detailed planning, implementation and monitoring can also be undertaken at a decentralised level, with appropriate transfer of resources and authority. But promoting sustainable development effectively when governments with different geographical jurisdictions may be pursuing various agendas is complex. Only a few OECD governments have attempted to catalyse and fully co-ordinate with the sustainable development efforts at sub-national government levels.\\n\\nCo-ordination among different levels of government, which is important for leveraging important changes, is inherently more difficult in federal states where powers over sustainable development policies are divided among levels of government. The institutional structure in federal countries\\n\\n- *e.g.,* Australia, Belgium, Canada, Switzerland – is different than those in more centralised countries and special procedures may be needed to implement sustainable development strategies. In Belgium, for example, the federal government has adopted a formal Strategy for Sustainable Development, while the communities and regions have integrated the principles of sustainable development into their strategic plans.\\n\\nSome countries have developed separate but equal approaches for devolved regions. The United Kingdom developed a UK strategic framework for sustainable development, but emphasised delivery through a set of national strategies at the regional level covering the UK government and administrations in Scotland, Wales and Northern Ireland. France devotes attention to the “territories” in its sustainable development strategy which encompasses both regional and sub-regional levels of government.\\n\\nGOOD PRACTICES IN THE NATIONAL SUSTAINABLE DEVELOPMENT STRATEGIES OF OECD COUNTRIES – © OECD 2006\\n\\nLOCAL AND REGIONAL GOVERNANCE\\n\\nCountries such as France and Portugal have fully included local and regional authorities in the preparation of their national sustainable development strategies. The United Kingdom has a strong local component in its strategy, including Local Strategic Partnerships and Sustainable Community Plans. Some countries, *e.g.* Denmark, Iceland, Ireland, Korea, are co-ordinating national and local implementation of sustainable development strategies through local Agenda 21 processes. Chapter 28 of Agenda 21 contains guidance for local initiatives in support of its overall goals where local authorities are asked to develop their own sub-strategies to suit their economies and specific circumstances.\\n\\n'}, vector=None), ScoredPoint(id=0, version=0, score=0.3412656666626178, payload={'text': 'SUMMARY\\n\\n# Most OECD countries have developed and implemented national sustainable development strategies (NSDS) in accordance with the 1992\\n\\nmandate of *Agenda 21.* The sustainable development strategy process\\n\\n# offers an opportunity to build on the complementarities of programmes in the economic, environmental and social spheres to improve the long- term effectiveness of government policy agendas. However, a review of country strategies shows that many lack the basic design and implementation elements recommended by both the OECD and the United Nations\\n\\n# Greater attention should be paid to the content of national sustainable development strategies (policy dimensions, timeframes, analytical tools), governance aspects (institutions, stakeholders, local links), and the processes for improving them (indicators, targets, monitoring). There is no single method, specific entry point or ideal co-ordinating mechanism for these strategies, which will reflect the economic, social, environmental and cultural specificities of countries\\n\\n# An OECD review has attempted to identify successful practices in the national sustainable development strategies implemented in the different circumstances of the OECD countries as indicated below\\n\\n1. Policy integration – national strategies should give consideration to environmental, economic and social concerns in integrated approaches contained in national plans and reports.\\n\\n2. Intergenerational timeframe – national strategies should adopt long- term timeframes which enable inclusion of intergenerational principles and indicators.\\n\\n3. Analysis and assessments – integrated assessment tools should be used in national reports to identify the environmental, economic and social costs and benefits of policy and strategy options.\\n\\n4. Co-ordination and institutions – a wide range of government departments and agencies should be involved in the formulation and\\n\\nGOOD PRACTICES IN THE NATIONAL SUSTAINABLE DEVELOPMENT STRATEGIES OF OECD COUNTRIES – © OECD 2006\\n\\n---\\n\\n\\n'}, vector=None), ScoredPoint(id=10, version=0, score=0.3261297103012233, payload={'text': ' INDICATORS AND TARGETS\\n\\nThe development and incorporation of quantitative indicators can help remove discrepancies between the intentions set out in national strategies and what is or can be realised in practice. Statistics and indicators make it far easier to identify and assess trade-offs among the economic, environmental and social dimensions of sustainable development. Indicators can be used to track progress along sustainable paths and provide the foundation for performance targets. They also contribute to policy transparency and accountability in sustainable development strategies.\\n\\nMost OECD countries have developed a set of indicators in association with their national strategies. These indicators vary widely across countries and are generally organised according to certain themes and sub-themes. Some strategies specify relatively few (mostly environmental) indicators. Others have adopted large indicator systems. The New Zealand Programme of Action is based on 40 indicators on the themes of population changes, environmental and ecosystem resilience, economic growth and innovation, skills and knowledge, living standards and health, consumption and resource use, and social cohesion. Switzerland monitors sustainable development according to the MONET indicator system, which includes 115 indicators for 26 themes to track the current situation and trends as well as the country’s position relative to other countries.\\n\\nA few countries are refining their structural approaches and choice of indicators as they revise their national strategies. In Norway, a special Commission proposed a new indicator set to underpin the Norwegian Action Plan for Sustainable Development, *National Agenda 21.* This includes 16 indicators that reflect the value, defined as the welfare effects, of the various components of national wealth: financial capital, real capital, human capital, natural capital and environmental capital. Finland developed its first set of indicators in 2000 and revised and broadened them in 2004 to include 68 indicators in eight categories and three sustainable development dimensions.\\n\\nGOOD PRACTICES IN THE NATIONAL SUSTAINABLE DEVELOPMENT STRATEGIES OF OECD COUNTRIES – © OECD 2006\\n\\n\\nSome countries regularly track their progress on the basis of sustainability indicators and a few have established quantified time-bound targets. Thus, the German strategy uses indicators -- in fiscal, economic, education, research, housing, spatial planning, crime prevention, energy and environment areas – as targets. The United Kingdom’s new strategy, *Securing the Future,* contains 68 indicators, all of which are linked to specific quantifiable goals, with progress reported annually and a “traffic light” approach used to show areas of improvement and deterioration.\\n\\n'}, vector=None), ScoredPoint(id=7, version=0, score=0.3182293685270612, payload={'text': ' CO-ORDINATION AND INSTITUTIONS\\n\\nAchieving sustainable development depends a great deal on high-level political commitment, well-functioning government institutions and overcoming co-ordination failures in public policies. Involving and co- ordinating a wide range of government departments allows strategies to take a broad view of issues, give voice to a range of dispersed interests and develop trade-offs across policy areas. Most OECD countries have set up inter-agency or inter-ministerial co-ordinating committees for sustainable development, which provide an overarching integrative body and framework for action.\\n\\nAlso important is where responsibility is placed for overseeing the co- ordinating mechanism and the different participating agencies. In most OECD countries, overall responsibility for strategy implementation is housed in the Ministry of Environment either directly or indirectly through a co-ordinating committee which it oversees. This is true for countries such as Austria, Denmark, Greece, Ireland, Luxembourg, the Netherlands and the United Kingdom. Although the United Kingdom replaced its Green Cabinet with a Sustainable Development Cabinet, the Department of Environment, Food and Rural Affairs (DEFRA) leads the preparation of sustainable development strategies and manages implementation across the government.\\n\\nA good practice is to assign overall co-ordination to a Prime Minister’s office or the equivalent which has greater authority to demand inputs and resolve conflicts than line ministries. France, Finland, Portugal and Germany have placed responsibility for their national sustainable development strategies directly under the Prime Minister’s office to achieve maximum coherence. In the Belgian federal government, the responsibility for strategy implementation is under the State Secretary for Sustainable Development who chairs the Interdepartmental Committee for Sustainable Development (ICDO) including all federal departments.\\n\\nGOOD PRACTICES IN THE NATIONAL SUSTAINABLE DEVELOPMENT STRATEGIES OF OECD COUNTRIES – © OECD 2006\\n\\nCO-ORDINATION AND INSTITUTIONS\\n\\nAnother approach is to assign responsibility for national sustainability strategies to Finance Ministries, which can assure that strategic management is linked to fiscal priority setting, national expenditure and revenue generation. Thus, Norway has placed responsibility for its sustainable development plan in the Ministry of Finance, while in the Czech Republic, the Governmental Council for Sustainable Development is chaired by the Deputy Minister for Economic Affairs, and in Italy, the Interministerial Committee for Economic Planning, which is responsible for sustainable development, is chaired by the Minister of Economy and Finance.\\n\\n'}, vector=None), ScoredPoint(id=1, version=0, score=0.3013920712724311, payload={'text': ' INTRODUCTION\\n\\n# Background\\n\\nGovernments first agreed to prepare national sustainable development strategies as part of *Agenda 21,* signed at the United Nations Conference on Environment and Development (the Rio Earth Summit) in 1992. The purpose of these strategies was to translate the Summit’s ideas and commitments into concrete policies and actions. Governments agreed to “adopt national strategies for sustainable development [which should] build upon and harmonise the various sectoral, economic, social and environmental policies and plans that are operating in the country. Its goals should be to ensure socially responsible economic development for the benefit of future generations”.\\n\\nIn 1997, the Special Session of the UN General Assembly met to review progress since the Rio Summit and set a target date of 2002 for introducing national sustainable development strategies. Subsequently, the 2002 World Summit on Sustainable Development (WSSD) noted the lack of progress in strategy development and implementation. Countries were urged to \"take immediate steps to make progress in the formulation and elaboration of NSDS and to begin their implementation by 2005\". In addition, integrating the principles of sustainable development into country policies and programmes is one of the targets contained in the United Nations Millennium Declaration.\\n\\n# Current status of strategies\\n\\nAccording to the UN Commission on Sustainable Development (UNCSD), much work remains to be done to reach the WSSD target that all countries should be in the process of implementing their NSDS by 2005. According to an assessment of the status of national strategies in 2004, only 12% of a total of 191 countries had strategies which were being implemented (UN DESA, 2004). However, another 24% had strategy\\n\\nGOOD PRACTICES IN THE NATIONAL SUSTAINABLE DEVELOPMENT STRATEGIES OF OECD COUNTRIES – © OECD 2006\\n\\n\\n# National strategies in OECD countries\\n\\nAs for the 30 OECD countries, most have developed national sustainable development strategies in some form. Internet links to national sustainable development strategies and plans in OECD countries are given in the Annex.\\n\\nTwenty-three OECD countries have prepared formal strategies or plans. Of these, Australia, Finland, France, Japan, Luxembourg, the Netherlands, Sweden, Switzerland and the United Kingdom formulated strategies relatively early and some *(e.g.,* the United Kingdom) have since revised their strategies. Austria, the Czech Republic, Denmark, Germany, Greece, Iceland, Ireland, Italy, Korea, New Zealand, Norway, Poland, Portugal and the Slovak Republic prepared their first national strategies more recently.\\n\\nIn 2001, the European Union also developed a sustainable development strategy for its Member countries (under revision in 2006), while a Nordic Strategy for Sustainable Development (Denmark, Finland, Iceland, Norway and Sweden) was revised in 2005.\\n\\nSeven OECD countries do not have national sustainable development strategies as such – Belgium, Canada, Hungary, Mexico, Spain, Turkey and the United States. In federal countries such as Belgium and Canada, it is more difficult to develop a comprehensive national strategy. In Belgium, the federal government adopted a sustainable development strategy and is now in the process of developing a national strategy together with the governments of the regions and communities. Canada has adopted a decentralised approach, where 28 federal departments and agencies have enumerated sustainable development strategies, and is now formulating an overall national plan.\\n\\nMexico has integrated sustainable development elements into existing national development plans rather than develop a separate strategy. Hungary, Spain and Turkey are in the process of developing national sustainable development strategies. The United States has emphasized public/private sustainable development partnerships to promote economic growth, social development and environmental stewardship.\\n\\nGOOD PRACTICES IN THE NATIONAL SUSTAINABLE DEVELOPMENT STRATEGIES OF OECD COUNTRIES – © OECD 2006\\n\\n---\\n\\n'}, vector=None), ScoredPoint(id=4, version=0, score=0.28585770727176746, payload={'text': ' POLICY INTEGRATION\\n\\nPOLICY INTEGRATION – **15**\\n\\nSustainable development has been defined a variety of ways, but in practice it has come to mean development that achieves a balance among economic, environmental and social objectives for both present and future generations. The integration of the three dimensions of sustainable development is one of the most difficult balances to achieve in formulating a national strategy. In practice, most national strategies have a greater focus on environmental issues with some attempts to incorporate economic aspects. The social pillar has been the most neglected. As a result, few national strategies develop abilities for considering and making trade-offs among the three areas in overall policy-making.\\n\\nMost countries emphasize environmental components in their sustainable development strategies. For example, the main focus of the Danish strategy is on integrating environmental considerations into a number of specific sectors. The Australian Strategy for Ecologically Sustainable Development focuses on environmental concerns such as coastal zone management. Japan’s strategy is basically an environmental plan focused on materials recycling, global warming and biodiversity, while Korea’s strategy is based on the National Environmental Vision for the New Millennium. Canada has developed departmental strategies according to “A Guide to Green Government” to pursue the environmental health of the country.\\n\\nThe social element is the dimension the least integrated in national strategies. Whereas these often include social goals, sometimes with indicators, social objectives are generally listed alongside other objectives and rarely melded into a comprehensive strategy. There are also large differences across countries in how they interpret this notion – from a focus on the health consequences of environmental policies, to concerns about ethnic minorities and gender balance, to broader considerations about the quality of life, sustainable consumption and social relations (poverty, crime, employment, education).\\n\\nGOOD PRACTICES IN THE NATIONAL SUSTAINABLE DEVELOPMENT STRATEGIES OF OECD COUNTRIES – © OECD 2006\\n\\n---\\n\\nA few countries *(e.g.,* Belgium, Germany, New Zealand, Sweden) have succeeded in integrating social elements in their strategies. For example, in 2005, Germany outlined its progress on the Road Map for Sustainability, which addresses employment, ageing, pension and family issues as well as corporate social responsibility.\\n\\nSome countries have extended social considerations from the domestic to the international sphere. Norway counts among its social sustainability goals the need to increase development assistance and imports from developing countries. Portugal’s national strategy includes guidelines for reinforcing development co-operation, especially with Portuguese speaking countries, and moving towards the target of devoting 0.7% of GDP to official development aid.\\n\\n'}, vector=None)]\n"
     ]
    },
    {
     "data": {
      "text/plain": [
       "' Some countries include stakeholders in special commissions and councils which provide advice to but are separate from the government bodies which implement the strategy. These include the Federal Sustainable Development Council (CFDD) in Belgium, the National Council for Sustainable Development (CNDD) in France, the Council on Sustainable Development (RNE) in Germany'"
      ]
     },
     "execution_count": 16,
     "metadata": {},
     "output_type": "execute_result"
    }
   ],
   "source": [
    "search_and_answer(\"What are special commissions and councils that stakeholders can have?\")"
   ]
  },
  {
   "attachments": {},
   "cell_type": "markdown",
   "metadata": {},
   "source": []
  }
 ],
 "metadata": {
  "kernelspec": {
   "display_name": "hpe-hmi",
   "language": "python",
   "name": "python3"
  },
  "language_info": {
   "codemirror_mode": {
    "name": "ipython",
    "version": 3
   },
   "file_extension": ".py",
   "mimetype": "text/x-python",
   "name": "python",
   "nbconvert_exporter": "python",
   "pygments_lexer": "ipython3",
   "version": "3.10.11"
  },
  "orig_nbformat": 4,
  "vscode": {
   "interpreter": {
    "hash": "5fb2148b4dec95289a29917982720107fca12734259108fc6abb6a274b2eb7e5"
   }
  }
 },
 "nbformat": 4,
 "nbformat_minor": 2
}
