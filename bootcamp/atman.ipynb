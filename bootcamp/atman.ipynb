{
 "cells": [
  {
   "cell_type": "code",
   "execution_count": null,
   "metadata": {},
   "outputs": [],
   "source": [
    "from aleph_alpha_client import Client, Prompt, CompletionRequest, CompletionResponse, SemanticEmbeddingRequest, SemanticEmbeddingResponse, SemanticRepresentation, ExplanationRequest, TextControl, TokenControl, EvaluationRequest\n",
    "from scipy import spatial\n",
    "import numpy as np\n",
    "import os\n",
    "from dotenv import load_dotenv"
   ]
  },
  {
   "cell_type": "code",
   "execution_count": null,
   "metadata": {},
   "outputs": [],
   "source": [
    "load_dotenv()\n",
    "\n",
    "client = Client(token=os.getenv(\"AA_TOKEN\"))"
   ]
  },
  {
   "attachments": {},
   "cell_type": "markdown",
   "metadata": {},
   "source": [
    "#### Lets learn about Attention Manipulation"
   ]
  },
  {
   "cell_type": "code",
   "execution_count": null,
   "metadata": {},
   "outputs": [],
   "source": [
    "text = \"The quick brown fox jumps over the lazy dog.\\nThe color of the fox is\"\n",
    "# Here we define a TextControl that will be used to control the attention on the prompt.\n",
    "# Change the factor to 0.0 to see what happens.\n",
    "control = TextControl(start=10, length=5, factor=1.0)\n",
    "prompt = Prompt.from_text(text, controls=[control])\n",
    "\n",
    "request = CompletionRequest(prompt=prompt, maximum_tokens=10, stop_sequences=[\".\"])\n",
    "result = client.complete(request = request, model=\"luminous-extended\")\n",
    "print(result)"
   ]
  },
  {
   "attachments": {},
   "cell_type": "markdown",
   "metadata": {},
   "source": [
    "We see, that changing the attention changes the output of the model. Let's see how that can help us in different scenarios."
   ]
  },
  {
   "cell_type": "code",
   "execution_count": null,
   "metadata": {},
   "outputs": [],
   "source": [
    "# Let's try that again. but this time, we want to get traceable explanations.\n",
    "text = \"The quick brown fox jumps over the lazy dog.\\nThe color of the fox is\"\n",
    "\n",
    "controls = []\n",
    "# create a control for each word in the prompt\n",
    "for i, word in enumerate(text.split()):\n",
    "    # we want to control the attention on each word\n",
    "    # so we set the factor to 1.0\n",
    "    #get the starting index of the word\n",
    "    start = text.find(word)\n",
    "    control = TextControl(start=start, length=len(word), factor=0.3)\n",
    "    controls.append(control)\n",
    "    \n",
    "eval_scores = []\n",
    "for control in controls:\n",
    "    prompt = Prompt.from_text(text, controls=[control])\n",
    "    \n",
    "    request = EvaluationRequest(prompt=prompt, completion_expected=\"brown\")\n",
    "    score = client.evaluate(request = request, model=\"luminous-extended\")\n",
    "    print(score)\n",
    "    \n"
   ]
  },
  {
   "cell_type": "code",
   "execution_count": null,
   "metadata": {},
   "outputs": [],
   "source": []
  }
 ],
 "metadata": {
  "kernelspec": {
   "display_name": "playground",
   "language": "python",
   "name": "python3"
  },
  "language_info": {
   "codemirror_mode": {
    "name": "ipython",
    "version": 3
   },
   "file_extension": ".py",
   "mimetype": "text/x-python",
   "name": "python",
   "nbconvert_exporter": "python",
   "pygments_lexer": "ipython3",
   "version": "3.9.12"
  },
  "orig_nbformat": 4
 },
 "nbformat": 4,
 "nbformat_minor": 2
}
