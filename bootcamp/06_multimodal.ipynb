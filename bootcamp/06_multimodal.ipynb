{
 "cells": [
  {
   "cell_type": "code",
   "execution_count": 1,
   "metadata": {},
   "outputs": [
    {
     "ename": "ImportError",
     "evalue": "cannot import name 'ImagePrompt' from 'aleph_alpha_client' (/home/markus/anaconda3/envs/playground/lib/python3.9/site-packages/aleph_alpha_client/__init__.py)",
     "output_type": "error",
     "traceback": [
      "\u001b[0;31m---------------------------------------------------------------------------\u001b[0m",
      "\u001b[0;31mImportError\u001b[0m                               Traceback (most recent call last)",
      "\u001b[1;32m/home/markus/Code/templates/bootcamp/multimodal.ipynb Cell 1\u001b[0m in \u001b[0;36m<cell line: 1>\u001b[0;34m()\u001b[0m\n\u001b[0;32m----> <a href='vscode-notebook-cell://wsl%2Bubuntu/home/markus/Code/templates/bootcamp/multimodal.ipynb#W0sdnNjb2RlLXJlbW90ZQ%3D%3D?line=0'>1</a>\u001b[0m \u001b[39mfrom\u001b[39;00m \u001b[39maleph_alpha_client\u001b[39;00m \u001b[39mimport\u001b[39;00m Client, Prompt, Image, ImagePrompt, CompletionRequest, CompletionResponse, SemanticEmbeddingRequest, SemanticEmbeddingResponse, SemanticRepresentation\n\u001b[1;32m      <a href='vscode-notebook-cell://wsl%2Bubuntu/home/markus/Code/templates/bootcamp/multimodal.ipynb#W0sdnNjb2RlLXJlbW90ZQ%3D%3D?line=1'>2</a>\u001b[0m \u001b[39mfrom\u001b[39;00m \u001b[39mscipy\u001b[39;00m \u001b[39mimport\u001b[39;00m spatial\n\u001b[1;32m      <a href='vscode-notebook-cell://wsl%2Bubuntu/home/markus/Code/templates/bootcamp/multimodal.ipynb#W0sdnNjb2RlLXJlbW90ZQ%3D%3D?line=2'>3</a>\u001b[0m \u001b[39mimport\u001b[39;00m \u001b[39mnumpy\u001b[39;00m \u001b[39mas\u001b[39;00m \u001b[39mnp\u001b[39;00m\n",
      "\u001b[0;31mImportError\u001b[0m: cannot import name 'ImagePrompt' from 'aleph_alpha_client' (/home/markus/anaconda3/envs/playground/lib/python3.9/site-packages/aleph_alpha_client/__init__.py)"
     ]
    }
   ],
   "source": [
    "from aleph_alpha_client import Client, Prompt, Image, ImagePrompt, CompletionRequest, CompletionResponse, SemanticEmbeddingRequest, SemanticEmbeddingResponse, SemanticRepresentation\n",
    "from scipy import spatial\n",
    "import numpy as np\n",
    "import IPython.display as dsp\n",
    "import os\n",
    "from dotenv import load_dotenv"
   ]
  },
  {
   "cell_type": "code",
   "execution_count": null,
   "metadata": {},
   "outputs": [],
   "source": [
    "load_dotenv()\n",
    "\n",
    "client = Client(token=os.getenv(\"AA_TOKEN\"))"
   ]
  },
  {
   "attachments": {},
   "cell_type": "markdown",
   "metadata": {},
   "source": [
    "#### In this notebook, we will explore the multimodal capabilities\n",
    "Read up on the basic concepts of multimodal luminous here : https://docs.aleph-alpha.com/docs/multimodality/basic-principles/\n",
    "\n",
    "Also find more information on how o use the multimodal luminous API here : https://docs.aleph-alpha.com/docs/multimodality/basic-principles/"
   ]
  },
  {
   "attachments": {},
   "cell_type": "markdown",
   "metadata": {},
   "source": [
    "#### Step 1: load an image as a prompt item"
   ]
  },
  {
   "cell_type": "code",
   "execution_count": null,
   "metadata": {},
   "outputs": [],
   "source": [
    "image_path = \"sample_image.jpg\"\n",
    "\n",
    "# loading the image from a url\n",
    "image_prompt = Image.from_url(\"https://upload.wikimedia.org/wikipedia/commons/a/a8/The_Cake_is_a_Lie_%2812521108583%29.jpg\")\n",
    "\n",
    "# display the image from the url\n",
    "dsp.Image(url=\"https://upload.wikimedia.org/wikipedia/commons/a/a8/The_Cake_is_a_Lie_%2812521108583%29.jpg\", width=300)\n"
   ]
  },
  {
   "attachments": {},
   "cell_type": "markdown",
   "metadata": {},
   "source": [
    "# Step 2: Use the multimodal luminous API to generate a multimodal response"
   ]
  },
  {
   "cell_type": "code",
   "execution_count": null,
   "metadata": {},
   "outputs": [],
   "source": [
    "# TODO: write a prompt that answers a question about the image\n",
    "\n",
    "image_prompt = Image.from_url(\"https://upload.wikimedia.org/wikipedia/commons/a/a8/The_Cake_is_a_Lie_%2812521108583%29.jpg\")\n",
    "text = \"Q: What does the Graffiti say? A:\"\n",
    "\n",
    "prompt = Prompt(items=[\"TODO\"])\n",
    "request = CompletionRequest(\"TODO\")\n",
    "\n",
    "response = client.complete(request=request, model=\"luminous-extended\").completions[0].completion\n",
    "print(response)"
   ]
  },
  {
   "attachments": {},
   "cell_type": "markdown",
   "metadata": {},
   "source": [
    "#### Step 3: Let's use true multimodal input, with text and images as context"
   ]
  },
  {
   "cell_type": "code",
   "execution_count": 2,
   "metadata": {},
   "outputs": [
    {
     "ename": "HTTPError",
     "evalue": "403 Client Error: Forbidden. Please comply with the User-Agent policy: https://meta.wikimedia.org/wiki/User-Agent_policy for url: https://upload.wikimedia.org/wikipedia/commons/a/a8/The_Cake_is_a_Lie_%2812521108583%29.jpg",
     "output_type": "error",
     "traceback": [
      "\u001b[0;31m---------------------------------------------------------------------------\u001b[0m",
      "\u001b[0;31mHTTPError\u001b[0m                                 Traceback (most recent call last)",
      "\u001b[1;32m/home/markus/Code/templates/bootcamp/multimodal.ipynb Cell 9\u001b[0m in \u001b[0;36m<cell line: 1>\u001b[0;34m()\u001b[0m\n\u001b[0;32m----> <a href='vscode-notebook-cell://wsl%2Bubuntu/home/markus/Code/templates/bootcamp/multimodal.ipynb#X11sdnNjb2RlLXJlbW90ZQ%3D%3D?line=0'>1</a>\u001b[0m image \u001b[39m=\u001b[39m Image\u001b[39m.\u001b[39;49mfrom_url(\u001b[39m\"\u001b[39;49m\u001b[39mhttps://upload.wikimedia.org/wikipedia/commons/a/a8/The_Cake_is_a_Lie_\u001b[39;49m\u001b[39m%2812521108583%\u001b[39;49;00m\u001b[39m29.jpg\u001b[39;49m\u001b[39m\"\u001b[39;49m)\n\u001b[1;32m      <a href='vscode-notebook-cell://wsl%2Bubuntu/home/markus/Code/templates/bootcamp/multimodal.ipynb#X11sdnNjb2RlLXJlbW90ZQ%3D%3D?line=1'>2</a>\u001b[0m additional_text \u001b[39m=\u001b[39m \u001b[39m\"\u001b[39m\u001b[39mWhen walking down the street I was really hungry when I saw this Image.\u001b[39m\u001b[39m\"\u001b[39m\n\u001b[1;32m      <a href='vscode-notebook-cell://wsl%2Bubuntu/home/markus/Code/templates/bootcamp/multimodal.ipynb#X11sdnNjb2RlLXJlbW90ZQ%3D%3D?line=2'>3</a>\u001b[0m question \u001b[39m=\u001b[39m \u001b[39m\"\u001b[39m\u001b[39mQ: What did I really want to eat afterwards? A:\u001b[39m\u001b[39m\"\u001b[39m\n",
      "File \u001b[0;32m~/anaconda3/envs/playground/lib/python3.9/site-packages/aleph_alpha_client/prompt.py:337\u001b[0m, in \u001b[0;36mImage.from_url\u001b[0;34m(cls, url, controls)\u001b[0m\n\u001b[1;32m    330\u001b[0m \u001b[39m@classmethod\u001b[39m\n\u001b[1;32m    331\u001b[0m \u001b[39mdef\u001b[39;00m \u001b[39mfrom_url\u001b[39m(\u001b[39mcls\u001b[39m, url: \u001b[39mstr\u001b[39m, controls: Optional[Sequence[ImageControl]] \u001b[39m=\u001b[39m \u001b[39mNone\u001b[39;00m):\n\u001b[1;32m    332\u001b[0m     \u001b[39m\"\"\"\u001b[39;00m\n\u001b[1;32m    333\u001b[0m \u001b[39m    Downloads a file and prepare it to be used in a prompt.\u001b[39;00m\n\u001b[1;32m    334\u001b[0m \u001b[39m    The image will be [center cropped](https://pytorch.org/vision/stable/transforms.html#torchvision.transforms.CenterCrop)\u001b[39;00m\n\u001b[1;32m    335\u001b[0m \u001b[39m    \"\"\"\u001b[39;00m\n\u001b[1;32m    336\u001b[0m     \u001b[39mreturn\u001b[39;00m \u001b[39mcls\u001b[39m\u001b[39m.\u001b[39mfrom_bytes(\n\u001b[0;32m--> 337\u001b[0m         \u001b[39mcls\u001b[39;49m\u001b[39m.\u001b[39;49m_get_url(url), cropping\u001b[39m=\u001b[39m\u001b[39mNone\u001b[39;00m, controls\u001b[39m=\u001b[39mcontrols \u001b[39mor\u001b[39;00m \u001b[39mNone\u001b[39;00m\n\u001b[1;32m    338\u001b[0m     )\n",
      "File \u001b[0;32m~/anaconda3/envs/playground/lib/python3.9/site-packages/aleph_alpha_client/prompt.py:392\u001b[0m, in \u001b[0;36mImage._get_url\u001b[0;34m(cls, url)\u001b[0m\n\u001b[1;32m    389\u001b[0m \u001b[39m@classmethod\u001b[39m\n\u001b[1;32m    390\u001b[0m \u001b[39mdef\u001b[39;00m \u001b[39m_get_url\u001b[39m(\u001b[39mcls\u001b[39m, url: \u001b[39mstr\u001b[39m) \u001b[39m-\u001b[39m\u001b[39m>\u001b[39m \u001b[39mbytes\u001b[39m:\n\u001b[1;32m    391\u001b[0m     response \u001b[39m=\u001b[39m requests\u001b[39m.\u001b[39mget(url)\n\u001b[0;32m--> 392\u001b[0m     response\u001b[39m.\u001b[39;49mraise_for_status()\n\u001b[1;32m    393\u001b[0m     \u001b[39mreturn\u001b[39;00m response\u001b[39m.\u001b[39mcontent\n",
      "File \u001b[0;32m~/anaconda3/envs/playground/lib/python3.9/site-packages/requests/models.py:1021\u001b[0m, in \u001b[0;36mResponse.raise_for_status\u001b[0;34m(self)\u001b[0m\n\u001b[1;32m   1016\u001b[0m     http_error_msg \u001b[39m=\u001b[39m (\n\u001b[1;32m   1017\u001b[0m         \u001b[39mf\u001b[39m\u001b[39m\"\u001b[39m\u001b[39m{\u001b[39;00m\u001b[39mself\u001b[39m\u001b[39m.\u001b[39mstatus_code\u001b[39m}\u001b[39;00m\u001b[39m Server Error: \u001b[39m\u001b[39m{\u001b[39;00mreason\u001b[39m}\u001b[39;00m\u001b[39m for url: \u001b[39m\u001b[39m{\u001b[39;00m\u001b[39mself\u001b[39m\u001b[39m.\u001b[39murl\u001b[39m}\u001b[39;00m\u001b[39m\"\u001b[39m\n\u001b[1;32m   1018\u001b[0m     )\n\u001b[1;32m   1020\u001b[0m \u001b[39mif\u001b[39;00m http_error_msg:\n\u001b[0;32m-> 1021\u001b[0m     \u001b[39mraise\u001b[39;00m HTTPError(http_error_msg, response\u001b[39m=\u001b[39m\u001b[39mself\u001b[39m)\n",
      "\u001b[0;31mHTTPError\u001b[0m: 403 Client Error: Forbidden. Please comply with the User-Agent policy: https://meta.wikimedia.org/wiki/User-Agent_policy for url: https://upload.wikimedia.org/wikipedia/commons/a/a8/The_Cake_is_a_Lie_%2812521108583%29.jpg"
     ]
    }
   ],
   "source": [
    "image = Image.from_url(\"https://upload.wikimedia.org/wikipedia/commons/a/a8/The_Cake_is_a_Lie_%2812521108583%29.jpg\")\n",
    "additional_text = \"When walking down the street I was really hungry when I saw this Image.\"\n",
    "question = \"Q: What did I really want to eat afterwards? A:\"\n",
    "\n",
    "prompt = Prompt(items=[image_prompt, additional_text, question])\n",
    "request = CompletionRequest(prompt=prompt, maximum_tokens=32, stop_sequences=[\"Q:\"])\n",
    "\n",
    "response = client.complete(request=request, model=\"luminous-extended\").completions[0].completion\n",
    "print(response)"
   ]
  },
  {
   "cell_type": "code",
   "execution_count": null,
   "metadata": {},
   "outputs": [],
   "source": []
  }
 ],
 "metadata": {
  "kernelspec": {
   "display_name": "hpe-hmi",
   "language": "python",
   "name": "python3"
  },
  "language_info": {
   "codemirror_mode": {
    "name": "ipython",
    "version": 3
   },
   "file_extension": ".py",
   "mimetype": "text/x-python",
   "name": "python",
   "nbconvert_exporter": "python",
   "pygments_lexer": "ipython3",
   "version": "3.9.12"
  },
  "orig_nbformat": 4,
  "vscode": {
   "interpreter": {
    "hash": "5fb2148b4dec95289a29917982720107fca12734259108fc6abb6a274b2eb7e5"
   }
  }
 },
 "nbformat": 4,
 "nbformat_minor": 2
}
