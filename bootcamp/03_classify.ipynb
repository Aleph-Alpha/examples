{
 "cells": [
  {
   "cell_type": "code",
   "execution_count": null,
   "metadata": {},
   "outputs": [],
   "source": [
    "# When using a colab notebook:\n",
    "#!pip install aleph-alpha-client langchain python-dotenv"
   ]
  },
  {
   "cell_type": "code",
   "execution_count": null,
   "metadata": {},
   "outputs": [],
   "source": [
    "from aleph_alpha_client import Client, SemanticEmbeddingRequest, SemanticEmbeddingResponse, SemanticRepresentation, Prompt, TextControl\n",
    "from scipy import spatial\n",
    "import numpy as np\n",
    "import os\n",
    "from dotenv import load_dotenv\n",
    "\n",
    "from langchain.llms import AlephAlpha\n",
    "from langchain.embeddings import AlephAlphaSymmetricSemanticEmbedding, AlephAlphaAsymmetricSemanticEmbedding\n",
    "\n",
    "import plotly.express as px\n",
    "import plotly.graph_objects as go\n",
    "\n",
    "from sklearn.neighbors import KNeighborsClassifier\n",
    "from sklearn.svm import SVC\n",
    "from sklearn.decomposition import PCA"
   ]
  },
  {
   "cell_type": "code",
   "execution_count": null,
   "metadata": {},
   "outputs": [],
   "source": [
    "load_dotenv()\n",
    "\n",
    "client = Client(token=os.getenv(\"AA_TOKEN\"))"
   ]
  },
  {
   "attachments": {},
   "cell_type": "markdown",
   "metadata": {},
   "source": [
    "## Let's use luminous embeddings as a classifier"
   ]
  },
  {
   "cell_type": "code",
   "execution_count": null,
   "metadata": {},
   "outputs": [],
   "source": [
    "# Here we define three classes that we want to classify\n",
    "class_1 = [\"Hey IT support team, I'm experiencing some issues with the software. It keeps crashing whenever I try to open a certain file. Can you please look into this and help me resolve the problem? Thanks!\",\n",
    "\"Hi there, I need some assistance with the software's latest update. Ever since I installed it, some features seem to be missing, and the interface looks a bit different. Could you guide me on how to restore the missing functionalities or revert to the previous version? Your help is much appreciated!\",\n",
    "\"Hello IT support, I'm having trouble connecting the software to my printer. It was working fine before, but now I can't seem to print any documents. Could you please walk me through the troubleshooting steps or provide any necessary drivers to fix this issue? Thanks a lot for your help!\",\n",
    "\"Dear IT team, I'm a new user of this software, and I'm finding it a bit confusing to navigate through its features. Is there any user guide or online tutorial available that can help me get started and make the most of its capabilities? Your guidance would be invaluable!\",\n",
    "\"Hi support, I accidentally deleted some important data within the software, and now I'm worried about recovering it. Is there a built-in recovery option, or do you have any recommendations for data recovery tools that work well with this software? Any help to retrieve the lost data would be fantastic! Thank you!\",\n",
    "]\n",
    "\n",
    "class_2 = [\n",
    "\"Hello, I would like to inquire about the employee benefits and the process to enroll in the company's benefits program. Could you please provide me with more information?\",\n",
    "\"Hi there, I recently changed my address and need to update my personal information with the company. Can you guide me on how to do that, or do I need to fill out a form?\",\n",
    "\"Dear team, I'm interested in exploring internal job opportunities within the organization. Are there any current openings, and could you direct me to the appropriate department or person to discuss this further?\",\n",
    "\"Good morning, I have a question about the paid time off policy. I'd like to understand how much accrued leave I currently have and how to request time off. Thank you!\",\n",
    "\"Hey, I wanted to share some positive feedback about a colleague who went above and beyond to assist me on a project. Is there a recognition or appreciation program in place, and if so, how can I nominate this person for their outstanding efforts?\",\n",
    "]\n",
    "\n",
    "class_3 = [\n",
    "\"Hello, I'm interested in purchasing your software product. Could you please provide me with more details about its features, pricing, and licensing options? I'm excited to explore how it can benefit my business!\",\n",
    "\"Hi there, I've been researching software solutions for my specific needs, and your product seems like a perfect fit. Can you offer a demo or trial version so I can evaluate its capabilities before making a purchase decision?\",\n",
    "\"Dear sales team, I'm impressed with the positive reviews and recommendations I've seen about your software. I'm ready to proceed with the purchase and would like to know the steps for placing an order and making payment. Looking forward to getting started with it!\",\n",
    "\"Good day, I'm a long-time user of your free version, and I'm now ready to upgrade to the premium version for more advanced features. Can you please guide me on how to upgrade my account and take advantage of the additional functionalities?\",\n",
    "\"Hi, I run a small business, and I believe your software can streamline our operations significantly. I'm interested in purchasing multiple licenses for my team. Can you provide any special discounts or packages for bulk orders? Thank you!\"\n",
    "]"
   ]
  },
  {
   "attachments": {},
   "cell_type": "markdown",
   "metadata": {},
   "source": [
    "### Next we generate embeddings for each class"
   ]
  },
  {
   "cell_type": "code",
   "execution_count": null,
   "metadata": {},
   "outputs": [],
   "source": [
    "# TODO: Use the AlephAlpha client to embed the sentences in the two classes\n",
    "embeddings_class_1 = # TODO create embeddings for class 1\n",
    "embeddings_class_2 = # TODO create embeddings for class 2\n",
    "embeddings_class_3 = # TODO create embeddings for class 3\n",
    "\n",
    "\n",
    "new_sentence = \"Hey, my stupid Internet isn't working. Can you help me?\"\n",
    "sentence_embedding = # TODO create embedding for new sentence"
   ]
  },
  {
   "cell_type": "code",
   "execution_count": null,
   "metadata": {},
   "outputs": [],
   "source": [
    "# TODO: get the average similarity of the new sentence to the two classes\n",
    "\n",
    "similarities_class_1 = # TODO get the similarities of the new sentence to the embeddings of class 1\n",
    "similarities_class_2 = # TODO get the similarities of the new sentence to the embeddings of class 2\n",
    "similarities_class_3 = # TODO get the similarities of the new sentence to the embeddings of class 3\n",
    "\n",
    "# TODO get the average similarity of the new sentence to the two classes\n",
    "avg_similarity_class_1 = np.mean(similarities_class_1)\n",
    "avg_similarity_class_2 = np.mean(similarities_class_2)\n",
    "avg_similarity_class_3 = np.mean(similarities_class_3)\n",
    "\n",
    "print(\"Similarity to class 1: \", avg_similarity_class_1)\n",
    "print(\"Similarity to class 2: \", avg_similarity_class_2)\n",
    "print(\"Similarity to class 3: \", avg_similarity_class_3)"
   ]
  },
  {
   "attachments": {},
   "cell_type": "markdown",
   "metadata": {},
   "source": [
    "### Let's actually train a classifier on these embeddings"
   ]
  },
  {
   "cell_type": "code",
   "execution_count": null,
   "metadata": {},
   "outputs": [],
   "source": [
    "# Let's use PCA to reduce the dimensionality of the embeddings to 2D\n",
    "pca = PCA(n_components=2)\n",
    "pca.fit(embeddings_class_1 + embeddings_class_2 + embeddings_class_3)\n",
    "pca_embeddings_class_1 = pca.transform(embeddings_class_1)\n",
    "pca_embeddings_class_2 = pca.transform(embeddings_class_2)\n",
    "pca_embeddings_class_3 = pca.transform(embeddings_class_3)\n",
    "\n",
    "# Now let's plot the embeddings from all three classes\n",
    "\n",
    "fig = go.Figure()\n",
    "\n",
    "for i, embeddings in enumerate([pca_embeddings_class_1, pca_embeddings_class_2, pca_embeddings_class_3]):\n",
    "\n",
    "    fig.add_trace(go.Scatter(\n",
    "        x=embeddings[:,0],\n",
    "        y=embeddings[:,1],\n",
    "        mode=\"markers\",\n",
    "        name=f\"Class {i+1}\",\n",
    "        marker=dict(\n",
    "            size=12,\n",
    "            color=[\"red\", \"green\", \"blue\"][i],\n",
    "        ),\n",
    "        text=class_1 + class_2 + class_3,\n",
    "        hovertemplate=\n",
    "        \"<b>%{text}</b><br><br>\" +\n",
    "\n",
    "        \"<i>Similarity to new sentence:</i><br>\" +\n",
    "        \"%{marker.color:.2f}<br>\" +\n",
    "        \"<extra></extra>\"\n",
    "    ))\n",
    "\n",
    "    \n",
    "\n",
    "fig.update_traces(textposition='top center')\n",
    "\n",
    "fig.show()"
   ]
  },
  {
   "cell_type": "code",
   "execution_count": null,
   "metadata": {},
   "outputs": [],
   "source": [
    "# Define a classifier\n",
    "clf = # TODO create a Nearest Neighbors classifier with 3 neighbors (link to documentation: https://scikit-learn.org/stable/modules/generated/sklearn.neighbors.KNeighborsClassifier.html)\n",
    "# use the embeddings and the class labels to train a classifier\n",
    "X = # TODO create a list of embeddings\n",
    "y = # TODO create a list of class labels\n",
    "\n",
    "# fit the classifier\n",
    "clf.fit(X, y)\n",
    "\n",
    "print(\"Predicted class: \", clf.predict([sentence_embedding]))"
   ]
  },
  {
   "cell_type": "code",
   "execution_count": null,
   "metadata": {},
   "outputs": [],
   "source": [
    "# Let's try a different classifier\n",
    "svm = # TODO create a Support Vector Machine classifier (link to documentation: https://scikit-learn.org/stable/modules/generated/sklearn.svm.SVC.html)\n",
    "svm.fit(X, y)\n",
    "\n",
    "print(\"Predicted class: \", svm.predict([sentence_embedding]))\n",
    "\n",
    "# get the probabilities for each class\n",
    "print(\"Probabilities: \", svm.predict_proba([sentence_embedding]))"
   ]
  },
  {
   "cell_type": "code",
   "execution_count": null,
   "metadata": {},
   "outputs": [],
   "source": [
    "# aggregate the embeddings of class 1\n",
    "\n",
    "aggregation_class_1 = np.mean(embeddings_class_1, axis=0)\n",
    "aggregation_class_2 = np.mean(embeddings_class_2, axis=0)\n",
    "aggregation_class_3 = np.mean(embeddings_class_3, axis=0)"
   ]
  },
  {
   "cell_type": "code",
   "execution_count": null,
   "metadata": {},
   "outputs": [],
   "source": [
    "# PCA with three components\n",
    "\n",
    "pca = PCA(n_components=3)\n",
    "\n",
    "# fit the PCA to the embeddings\n",
    "pca.fit(X)\n",
    "\n",
    "# transform the embeddings\n",
    "X_pca = pca.transform(X)\n",
    "\n",
    "pca_agg_class_1 = pca.transform([aggregation_class_1])\n",
    "pca_agg_class_2 = pca.transform([aggregation_class_2])\n",
    "pca_agg_class_3 = pca.transform([aggregation_class_3])\n",
    "\n",
    "\n",
    "# transform the new sentence\n",
    "\n",
    "sentence_embedding_pca = pca.transform([sentence_embedding])\n",
    "\n",
    "# plot the embeddings\n",
    "\n",
    "fig = go.Figure()\n",
    "\n",
    "for i, embeddings in enumerate([pca_agg_class_1, pca_agg_class_2, pca_agg_class_3, sentence_embedding_pca]):\n",
    "\n",
    "    fig.add_trace(go.Scatter3d(\n",
    "        x=embeddings[:,0],\n",
    "        y=embeddings[:,1],\n",
    "        z=embeddings[:,2],\n",
    "        mode=\"markers\",\n",
    "        name=f\"Class {i+1}\",\n",
    "        marker=dict(\n",
    "            size=12,\n",
    "            color=[\"red\", \"green\", \"blue\", \"yellow\"][i],\n",
    "        ),\n",
    "        text=class_1 + class_2 + class_3,\n",
    "        hovertemplate=\n",
    "        \"<b>%{text}</b><br><br>\" +\n",
    "\n",
    "        \"<i>Similarity to new sentence:</i><br>\" +\n",
    "        \"%{marker.color:.2f}<br>\" +\n",
    "        \"<extra></extra>\"\n",
    "    ))\n",
    "\n",
    "\n",
    "fig.show()"
   ]
  }
 ],
 "metadata": {
  "kernelspec": {
   "display_name": "playground",
   "language": "python",
   "name": "python3"
  },
  "language_info": {
   "codemirror_mode": {
    "name": "ipython",
    "version": 3
   },
   "file_extension": ".py",
   "mimetype": "text/x-python",
   "name": "python",
   "nbconvert_exporter": "python",
   "pygments_lexer": "ipython3",
   "version": "3.9.12"
  },
  "orig_nbformat": 4
 },
 "nbformat": 4,
 "nbformat_minor": 2
}
