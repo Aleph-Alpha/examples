{
 "cells": [
  {
   "cell_type": "code",
   "execution_count": null,
   "metadata": {},
   "outputs": [],
   "source": [
    "# When using a colab notebook:\n",
    "#!pip install aleph-alpha-client langchain dotenv"
   ]
  },
  {
   "cell_type": "code",
   "execution_count": null,
   "metadata": {},
   "outputs": [],
   "source": [
    "from aleph_alpha_client import Client, SemanticEmbeddingRequest, SemanticEmbeddingResponse, SemanticRepresentation, Prompt, TextControl\n",
    "from scipy import spatial\n",
    "import numpy as np\n",
    "import os\n",
    "from dotenv import load_dotenv\n",
    "\n",
    "from langchain.llms import AlephAlpha\n",
    "from langchain.embeddings import AlephAlphaSymmetricSemanticEmbedding, AlephAlphaAsymmetricSemanticEmbedding\n",
    "\n",
    "from sklearn.neighbors import KNeighborsClassifier"
   ]
  },
  {
   "cell_type": "code",
   "execution_count": null,
   "metadata": {},
   "outputs": [],
   "source": [
    "load_dotenv()\n",
    "\n",
    "client = Client(token=os.getenv(\"AA_TOKEN\"))"
   ]
  },
  {
   "attachments": {},
   "cell_type": "markdown",
   "metadata": {},
   "source": [
    "## Let's use luminous embeddings as a classifier"
   ]
  },
  {
   "cell_type": "code",
   "execution_count": null,
   "metadata": {},
   "outputs": [],
   "source": [
    "# Here we define two classes that we want to classify\n",
    "class_1 = [\"Find balance in the digital age with mindful technology use and prioritizing self-care.\",\n",
    "\"Take charge of your digital wellbeing by setting boundaries and practicing digital detoxes.\",\n",
    "\"Promote digital wellbeing through healthy screen time habits and fostering positive online relationships.\",\n",
    "\"Explore digital wellbeing apps and tools that help you manage your digital presence and mental health.\",\n",
    "\"Prioritize your physical and mental health by practicing digital mindfulness and limiting screen time.\",\n",
    "\"Digital wellbeing starts with conscious choices, such as disconnecting from devices and engaging in offline activities.\",\n",
    "]\n",
    "\n",
    "class_2 = [\n",
    "    \"Digital natives effortlessly navigate the digital landscape, growing up in a world saturated with technology.\",\n",
    "\"Born in the digital era, digital natives possess innate digital literacy and adapt quickly to new technologies.\",\n",
    "\"Digital natives seamlessly integrate technology into their daily lives, leveraging it for communication, learning, and entertainment.\",\n",
    "\"As digital natives, they are the vanguards of technological advancements, shaping the digital landscape with their digital-first mindset.\",\n",
    "\"Digital natives are fluent in the language of emojis, hashtags, and memes, using them to express themselves in the digital realm.\",\n",
    "\"Growing up surrounded by screens, digital natives are at ease multitasking across multiple devices and platforms.\",\n",
    "]\n",
    "\n",
    "class_3 = [\n",
    "    \"Digital companies leverage innovative technologies to disrupt traditional industries and drive digital transformation.\",\n",
    "\"Agile and data-driven, digital companies thrive in the ever-evolving digital ecosystem, constantly adapting to market demands.\",\n",
    "\"Digital companies prioritize user experience, leveraging intuitive interfaces and seamless interactions to engage and retain customers.\",\n",
    "\"From e-commerce giants to fintech startups, digital companies revolutionize the way business is conducted in the digital age.\",\n",
    "\"Digital companies harness the power of big data and analytics to gain actionable insights and drive informed decision-making.\",\n",
    "\"In a borderless digital world, digital companies operate globally, transcending geographical limitations and connecting people worldwide.\",\n",
    "]"
   ]
  },
  {
   "attachments": {},
   "cell_type": "markdown",
   "metadata": {},
   "source": [
    "### Next we generate embeddings for each class"
   ]
  },
  {
   "cell_type": "code",
   "execution_count": null,
   "metadata": {},
   "outputs": [],
   "source": [
    "# TODO: Use the AlephAlpha client to embed the sentences in the two classes\n",
    "embeddings_class_1 = [client.semantic_embed(SemanticEmbeddingRequest(prompt=Prompt.from_text(text), representation=SemanticRepresentation.Symmetric), model=\"luminous-base\").embedding for text in class_1]\n",
    "embeddings_class_2 = [client.semantic_embed(SemanticEmbeddingRequest(prompt=Prompt.from_text(text), representation=SemanticRepresentation.Symmetric), model=\"luminous-base\").embedding for text in class_2]\n",
    "embeddings_class_3 = [client.semantic_embed(SemanticEmbeddingRequest(prompt=Prompt.from_text(text), representation=SemanticRepresentation.Symmetric), model=\"luminous-base\").embedding for text in class_3]\n",
    "\n",
    "new_sentence = \"In order to retain control over you life, you should try to limit your screen time and practice digital mindfulness.\"\n",
    "sentence_embedding = client.semantic_embed(SemanticEmbeddingRequest(prompt=Prompt.from_text(new_sentence), representation=SemanticRepresentation.Symmetric), model=\"luminous-base\").embedding"
   ]
  },
  {
   "cell_type": "code",
   "execution_count": null,
   "metadata": {},
   "outputs": [],
   "source": [
    "# TODO: get the average similarity of the new sentence to the two classes\n",
    "\n",
    "similarities_class_1 = [1 - spatial.distance.cosine(sentence_embedding, embedding) for embedding in embeddings_class_1]\n",
    "similarities_class_2 = [1 - spatial.distance.cosine(sentence_embedding, embedding) for embedding in embeddings_class_2]\n",
    "similarities_class_3 = [1 - spatial.distance.cosine(sentence_embedding, embedding) for embedding in embeddings_class_3]\n",
    "\n",
    "# TODO get the average similarity of the new sentence to the two classes\n",
    "avg_similarity_class_1 = np.mean(similarities_class_1)\n",
    "avg_similarity_class_2 = np.mean(similarities_class_2)\n",
    "avg_similarity_class_3 = np.mean(similarities_class_3)\n",
    "\n",
    "print(\"Similarity to class 1: \", avg_similarity_class_1)\n",
    "print(\"Similarity to class 2: \", avg_similarity_class_2)\n",
    "print(\"Similarity to class 3: \", avg_similarity_class_3)"
   ]
  },
  {
   "attachments": {},
   "cell_type": "markdown",
   "metadata": {},
   "source": [
    "### Let's actually train a classifier on these embeddings"
   ]
  },
  {
   "cell_type": "code",
   "execution_count": null,
   "metadata": {},
   "outputs": [],
   "source": [
    "# Define a classifier\n",
    "clf = KNeighborsClassifier(n_neighbors=3)\n",
    "# use the embeddings and the class labels to train a classifier\n",
    "X = [np.array(embedding) for embedding in embeddings_class_1 + embeddings_class_2 + embeddings_class_3]\n",
    "y = np.array([0] * len(embeddings_class_1) + [1] * len(embeddings_class_2) + [2] * len(embeddings_class_3))\n",
    "\n",
    "# fit the classifier\n",
    "clf.fit(X, y)\n",
    "\n",
    "print(\"Predicted class: \", clf.predict([sentence_embedding]))"
   ]
  },
  {
   "cell_type": "code",
   "execution_count": null,
   "metadata": {},
   "outputs": [],
   "source": [
    "from sklearn.svm import SVC\n",
    "# TODO train a support vector machine classifier and get the probability of the new sentence belonging to each class"
   ]
  },
  {
   "cell_type": "code",
   "execution_count": null,
   "metadata": {},
   "outputs": [],
   "source": []
  }
 ],
 "metadata": {
  "kernelspec": {
   "display_name": "playground",
   "language": "python",
   "name": "python3"
  },
  "language_info": {
   "codemirror_mode": {
    "name": "ipython",
    "version": 3
   },
   "file_extension": ".py",
   "mimetype": "text/x-python",
   "name": "python",
   "nbconvert_exporter": "python",
   "pygments_lexer": "ipython3",
   "version": "3.9.12"
  },
  "orig_nbformat": 4
 },
 "nbformat": 4,
 "nbformat_minor": 2
}
