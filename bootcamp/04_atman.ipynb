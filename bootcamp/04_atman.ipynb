{
 "cells": [
  {
   "cell_type": "code",
   "execution_count": null,
   "metadata": {},
   "outputs": [],
   "source": [
    "# When using a colab notebook:\n",
    "#!pip install aleph-alpha-client langchain python-dotenv"
   ]
  },
  {
   "cell_type": "code",
   "execution_count": null,
   "metadata": {},
   "outputs": [],
   "source": [
    "from aleph_alpha_client import Client, Prompt, CompletionRequest,ExplanationRequest, TextControl, EvaluationRequest, TargetGranularity\n",
    "from scipy import spatial\n",
    "import numpy as np\n",
    "import os\n",
    "from dotenv import load_dotenv"
   ]
  },
  {
   "cell_type": "code",
   "execution_count": null,
   "metadata": {},
   "outputs": [],
   "source": [
    "load_dotenv()\n",
    "\n",
    "client = Client(token=os.getenv(\"AA_TOKEN\"))"
   ]
  },
  {
   "attachments": {},
   "cell_type": "markdown",
   "metadata": {},
   "source": [
    "#### Lets learn about Attention Manipulation"
   ]
  },
  {
   "cell_type": "code",
   "execution_count": null,
   "metadata": {},
   "outputs": [],
   "source": [
    "text = \"The quick brown fox jumps over the lazy dog.\\nThe color of the fox is\"\n",
    "# Here we define a TextControl that will be used to control the attention on the prompt.\n",
    "# Change the factor to 0.0 to see what happens.\n",
    "control = # TODO define a TextControl that will suppress the word \"brown\" in the prompt (documentation: https://aleph-alpha-client.readthedocs.io/en/latest/aleph_alpha_client.html#aleph_alpha_client.TextControl)\n",
    "prompt = Prompt.from_text(text, controls=[control])\n",
    "\n",
    "request = CompletionRequest(prompt=prompt, maximum_tokens=10, stop_sequences=[\".\"])\n",
    "result = client.complete(request = request, model=\"luminous-extended\")\n",
    "print(result.completions[0].completion)"
   ]
  },
  {
   "attachments": {},
   "cell_type": "markdown",
   "metadata": {},
   "source": [
    "We see, that changing the attention changes the output of the model. Let's see how that can help us in different scenarios."
   ]
  },
  {
   "cell_type": "code",
   "execution_count": null,
   "metadata": {},
   "outputs": [],
   "source": [
    "# Let's try that again. but this time, we want to get traceable explanations.\n",
    "text = \"The quick brown fox jumps over the lazy dog.\\nThe color of the fox is\"\n",
    "\n",
    "controls = []\n",
    "# create a control for each word in the prompt\n",
    "for i, word in enumerate(text.split()):\n",
    "    # we want to control the attention on each word\n",
    "    # so we set the factor to 1.0\n",
    "    #get the starting index of the word\n",
    "    start = text.find(word)\n",
    "    control = TextControl(start=start, length=len(word), factor=0.1)\n",
    "    controls.append(control)\n",
    "    \n",
    "eval_scores = []\n",
    "for control in controls:\n",
    "    prompt = Prompt.from_text(text, controls=[control])\n",
    "    \n",
    "    request = EvaluationRequest(prompt=prompt, completion_expected=\" brown\")\n",
    "    score = client.evaluate(request = request, model=\"luminous-extended\")\n",
    "    print(f\"The control of '{text[control.start:control.start+control.length]}' is: {score.result['log_perplexity']}\")\n",
    "    \n"
   ]
  },
  {
   "attachments": {},
   "cell_type": "markdown",
   "metadata": {},
   "source": [
    "### Let's use an explantation request to find out what the model is looking at"
   ]
  },
  {
   "cell_type": "code",
   "execution_count": null,
   "metadata": {},
   "outputs": [],
   "source": [
    "exp_req = # TODO create an ExplanationRequest with the prompt and the controls https://docs.aleph-alpha.com/docs/tasks/explain/ \n",
    "response_explain = client.explain(exp_req, model=\"luminous-extended\")\n",
    "\n",
    "explanations = response_explain[1][0].items[0][0]\n",
    "\n",
    "for item in explanations:\n",
    "    start = item.start\n",
    "    end = item.start + item.length\n",
    "    print(f\"\"\"EXPLAINED TEXT: {text[start:end]}\n",
    "Score: {np.round(item.score, decimals=3)}\"\"\")"
   ]
  },
  {
   "cell_type": "code",
   "execution_count": null,
   "metadata": {},
   "outputs": [],
   "source": [
    "# Read the data in the data.md file\n",
    "with open(\"data.md\", \"r\") as f:\n",
    "    data = f.read()\n",
    "    \n",
    "# Split the data into a list of texts\n",
    "texts = data.split(\"#####\")\n",
    "\n",
    "print(f\"data: {data[:100]}\")\n",
    "print(f\"texts: {texts[10][:100]}\")"
   ]
  },
  {
   "cell_type": "code",
   "execution_count": null,
   "metadata": {},
   "outputs": [],
   "source": [
    "answers_prompt = f\"\"\"### Instructions: Solve the task based on the text below\".\n",
    "\n",
    "### Input:\n",
    "{texts[4]}\n",
    "\n",
    "### Task: Give me a list of countries that include social elements.\n",
    "\n",
    "### Reponse:\"\"\"\n",
    "\n",
    "response = client.complete(CompletionRequest(prompt=Prompt.from_text(answers_prompt), maximum_tokens=100, stop_sequences=[\"###\"]), model=\"luminous-base-control-beta\")\n",
    "answer = response.completions[0].completion\n",
    "\n",
    "exp_req = ExplanationRequest(Prompt.from_text(answers_prompt), answer, control_factor=0.1, prompt_granularity=\"paragraph\", target_granularity=TargetGranularity.Complete)\n",
    "response_explain = client.explain(exp_req, model=\"luminous-extended\")\n",
    "\n",
    "explanations = response_explain[1][0].items[0][0]\n",
    "\n",
    "for item in explanations:\n",
    "    start = item.start\n",
    "    end = item.start + item.length\n",
    "    print(f\"\"\"EXPLAINED TEXT: {answers_prompt[start:end]}\n",
    "Score: {np.round(item.score, decimals=3)}\"\"\")"
   ]
  },
  {
   "cell_type": "code",
   "execution_count": null,
   "metadata": {},
   "outputs": [],
   "source": [
    "exp_req = ExplanationRequest(Prompt.from_text(answers_prompt), \" The USA have social elements.\", control_factor=0.1, prompt_granularity=\"paragraph\", target_granularity=TargetGranularity.Complete)\n",
    "response_explain = client.explain(exp_req, model=\"luminous-extended\")\n",
    "\n",
    "explanations = response_explain[1][0].items[0][0]\n",
    "\n",
    "for item in explanations:\n",
    "    start = item.start\n",
    "    end = item.start + item.length\n",
    "    print(f\"\"\"EXPLAINED TEXT: {answers_prompt[start:end]}\n",
    "Score: {np.round(item.score, decimals=3)}\"\"\")"
   ]
  },
  {
   "cell_type": "code",
   "execution_count": null,
   "metadata": {},
   "outputs": [],
   "source": []
  }
 ],
 "metadata": {
  "kernelspec": {
   "display_name": "playground",
   "language": "python",
   "name": "python3"
  },
  "language_info": {
   "codemirror_mode": {
    "name": "ipython",
    "version": 3
   },
   "file_extension": ".py",
   "mimetype": "text/x-python",
   "name": "python",
   "nbconvert_exporter": "python",
   "pygments_lexer": "ipython3",
   "version": "3.9.12"
  },
  "orig_nbformat": 4
 },
 "nbformat": 4,
 "nbformat_minor": 2
}
