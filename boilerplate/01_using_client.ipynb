{
 "cells": [
  {
   "cell_type": "markdown",
   "metadata": {},
   "source": [
    "# Notebook 1: Using the Python Client\n",
    "In this notebook you learn how to answer any question with Luminous using the [Aleph Alpha](https://aleph-alpha.com) Python client."
   ]
  },
  {
   "cell_type": "markdown",
   "metadata": {},
   "source": [
    "### Install the client\n",
    "You can skip this step, if you have already installed the `aleph_alpha_client`. Make sure you have the [latest pip version](https://pip.pypa.io/en/stable/installation/) installed before proceeding. "
   ]
  },
  {
   "cell_type": "code",
   "execution_count": null,
   "metadata": {},
   "outputs": [],
   "source": [
    "!pip install aleph_alpha_client"
   ]
  },
  {
   "cell_type": "markdown",
   "metadata": {},
   "source": [
    "### Prerequisites\n",
    "\n",
    "You need an API token to use our models. If you don't have a token already, create one in your Aleph Alpha [profile](https://app.aleph-alpha.com/profile).\n",
    "\n",
    "The Luminous family has different models with different capabilities. To find out which model you need, visit our [documentation](https://docs.aleph-alpha.com/docs/introduction/luminous)."
   ]
  },
  {
   "cell_type": "markdown",
   "metadata": {},
   "source": [
    "### Instantiate Luminous\n",
    "Instantiate a model by providing the `model_name` and `token` for authentification. "
   ]
  },
  {
   "cell_type": "code",
   "execution_count": null,
   "metadata": {},
   "outputs": [],
   "source": [
    "from aleph_alpha_client import AlephAlphaModel\n",
    "model = AlephAlphaModel.from_model_name(model_name=\"luminous-extended\", token=\"API_TOKEN\")"
   ]
  },
  {
   "cell_type": "markdown",
   "metadata": {},
   "source": [
    "### Interacting with Luminous\n",
    "\n",
    "You can interact with Luminous, by defining and sending a prompt to get a completion. The `Prompt` as well as other parameters define the behaviour of Luminous. Prompts are the input for our models and completions are the output of them, read more about it [here](https://docs.aleph-alpha.com/docs/introduction)."
   ]
  },
  {
   "cell_type": "code",
   "execution_count": null,
   "metadata": {},
   "outputs": [],
   "source": [
    "from aleph_alpha_client import Prompt, CompletionRequest\n",
    "\n",
    "prompt = Prompt(\"Q: What is AI? A:\")\n",
    "request = CompletionRequest(prompt=prompt, maximum_tokens=20, stop_sequences=[\"Q:\"])\n",
    "response = model.complete(request)\n",
    "\n",
    "print(f\"\\nAnswer: ${response.completions[0].completion}\")"
   ]
  }
 ],
 "metadata": {
  "kernelspec": {
   "display_name": "Python 3 (ipykernel)",
   "language": "python",
   "name": "python3"
  },
  "language_info": {
   "codemirror_mode": {
    "name": "ipython",
    "version": 3
   },
   "file_extension": ".py",
   "mimetype": "text/x-python",
   "name": "python",
   "nbconvert_exporter": "python",
   "pygments_lexer": "ipython3",
   "version": "3.8.10"
  },
  "vscode": {
   "interpreter": {
    "hash": "8fdd045fef95f4447f1c9ba907f4ef4fc82393cda2753ca8fbebe6283025a7d0"
   }
  }
 },
 "nbformat": 4,
 "nbformat_minor": 2
}
