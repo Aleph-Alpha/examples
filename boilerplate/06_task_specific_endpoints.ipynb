{
 "cells": [
  {
   "attachments": {},
   "cell_type": "markdown",
   "metadata": {},
   "source": [
    "# Notebook 6: Task-specific endpoints\n",
    "In this notebook we show you how to use our task-specifc endpoints."
   ]
  },
  {
   "cell_type": "markdown",
   "metadata": {},
   "source": [
    "### Optional: Install the client\n",
    "You can skip this step, if you have already installed the `aleph_alpha_client`. Make sure you have the [latest pip version](https://pip.pypa.io/en/stable/installation/) installed before proceeding. "
   ]
  },
  {
   "cell_type": "code",
   "execution_count": null,
   "metadata": {},
   "outputs": [],
   "source": [
    "!pip install aleph-alpha-client"
   ]
  },
  {
   "attachments": {},
   "cell_type": "markdown",
   "metadata": {},
   "source": [
    "### Instantiate the client\n",
    "To interact with our API, you have to instantiate a client. Here you also provide your token to authenticate yourself. If you don't have one already, create one in your [Aleph Alpha profile](https://app.aleph-alpha.com/profile)."
   ]
  },
  {
   "cell_type": "code",
   "execution_count": null,
   "metadata": {},
   "outputs": [],
   "source": [
    "from aleph_alpha_client import Client\n",
    "client = Client(token=\"AA_TOKEN\")"
   ]
  },
  {
   "attachments": {},
   "cell_type": "markdown",
   "metadata": {},
   "source": [
    "### Q&A\n",
    "We have an endpoint that has been optimized for question answering. It can be used to answer questions about one or more documents. To do this, you must specify both the document(s) and a question."
   ]
  },
  {
   "cell_type": "code",
   "execution_count": null,
   "metadata": {},
   "outputs": [],
   "source": [
    "import os\n",
    "from aleph_alpha_client import Document, QaRequest\n",
    "\n",
    "query_text = \"When did wolves first appear in the fossil record?\"\n",
    "document_text = \"The gray wolf (Canis lupus) is a species of placental mammal of the carnivore order. The earliest fossil record dates back eight hundred thousand years. Wolves are native to North America and Eurasia, where they were once widely distributed and abundant. Today, they inhabit only a very limited portion of their former territory.\"\n",
    "params = {\n",
    "    \"query\": query_text,\n",
    "    \"documents\": [Document.from_text(document_text)]\n",
    "}\n",
    "request = QaRequest(**params)\n",
    "response = client.qa(request=request, model=\"luminous-extended\")\n",
    "answer = response.answers[0].answer\n",
    "\n",
    "print(f\"\"\"Document: {document_text}\n",
    "Q: {query_text}\n",
    "A: {answer}\"\"\")"
   ]
  },
  {
   "attachments": {},
   "cell_type": "markdown",
   "metadata": {},
   "source": [
    "### Summarization\n",
    "Our summarize-endpoint can be used to generate summaries for longer texts."
   ]
  },
  {
   "cell_type": "code",
   "execution_count": null,
   "metadata": {},
   "outputs": [],
   "source": [
    "from aleph_alpha_client import SummarizationRequest\n",
    "\n",
    "document_text = \"The gray wolf (Canis lupus) is a species of placental mammal of the carnivore order. The earliest fossil record dates back eight hundred thousand years. Wolves are native to North America and Eurasia, where they were once widely distributed and abundant. Today, they inhabit only a very limited portion of their former territory.\"\n",
    "request = SummarizationRequest(document=Document.from_text(document_text))\n",
    "response = client.summarize(request=request, model=\"luminous-extended\")\n",
    "summary = response.summary\n",
    "\n",
    "print(f\"\"\"Document: {document_text}\n",
    "Summary: {summary}\"\"\")"
   ]
  },
  {
   "attachments": {},
   "cell_type": "markdown",
   "metadata": {},
   "source": [
    "### (De-)Tokenization\n",
    "With the tokenize-endpoint you can use our own tokenizer to tokenize your texts for further use. Next to that you can also detokenize these texts with the detokenize-endpoint."
   ]
  },
  {
   "cell_type": "code",
   "execution_count": null,
   "metadata": {},
   "outputs": [],
   "source": [
    "import os\n",
    "\n",
    "tokenizer = client.tokenizer(\"luminous-supreme\")\n",
    "text = \"Friends, Romans, countrymen, lend me your ears;\"\n",
    "\n",
    "tokens = tokenizer.encode(text)\n",
    "and_back_to_text = tokenizer.decode(tokens.ids)\n",
    "\n",
    "print(\"Tokens:\", tokens.ids)\n",
    "print(\"Back to text from ids:\", and_back_to_text)"
   ]
  },
  {
   "attachments": {},
   "cell_type": "markdown",
   "metadata": {},
   "source": [
    "If you would like to know how you can combine all those functionalities, please visit our [example use cases](https://docs.aleph-alpha.com/docs/category/example-use-cases/)."
   ]
  }
 ],
 "metadata": {
  "kernelspec": {
   "display_name": "explaindemo",
   "language": "python",
   "name": "python3"
  },
  "language_info": {
   "codemirror_mode": {
    "name": "ipython",
    "version": 3
   },
   "file_extension": ".py",
   "mimetype": "text/x-python",
   "name": "python",
   "nbconvert_exporter": "python",
   "pygments_lexer": "ipython3",
   "version": "3.10.9"
  },
  "orig_nbformat": 4
 },
 "nbformat": 4,
 "nbformat_minor": 2
}
