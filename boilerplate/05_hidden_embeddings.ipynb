{
 "cells": [
  {
   "cell_type": "markdown",
   "metadata": {},
   "source": [
    "# Notebook 5: Accessing hidden embeddings\n",
    "In this notebook you learn how to access the hidden embeddings, which sets us apart from other models."
   ]
  },
  {
   "cell_type": "markdown",
   "metadata": {},
   "source": [
    "### Optional: Install the client\n",
    "You can skip this step, if you have already installed the `aleph_alpha_client`. Make sure you have the [latest pip version](https://pip.pypa.io/en/stable/installation/) installed before proceeding."
   ]
  },
  {
   "cell_type": "code",
   "execution_count": null,
   "metadata": {},
   "outputs": [],
   "source": [
    "!pip install aleph-alpha-client"
   ]
  },
  {
   "attachments": {},
   "cell_type": "markdown",
   "metadata": {},
   "source": [
    "### Instantiate the client\n",
    "To interact with our API, you have to instantiate a client. Here you also provide your token to authenticate yourself. If you don't have one already, create one in your [Aleph Alpha profile](https://app.aleph-alpha.com/profile)."
   ]
  },
  {
   "cell_type": "code",
   "execution_count": null,
   "metadata": {},
   "outputs": [],
   "source": [
    "from aleph_alpha_client import Client\n",
    "client = Client(token=\"AA_TOKEN\")"
   ]
  },
  {
   "cell_type": "markdown",
   "metadata": {},
   "source": [
    "### Accessing hidden embeddings\n",
    "\n",
    "Trace how an input is transformed as it is processed by the model by providing the layers of the embeddings you are interested in. This can be used in different ways, which we currently haven't fully explored yet."
   ]
  },
  {
   "cell_type": "code",
   "execution_count": null,
   "metadata": {},
   "outputs": [],
   "source": [
    "from aleph_alpha_client import EmbeddingRequest, Prompt\n",
    "\n",
    "request = EmbeddingRequest(prompt=Prompt.from_text(\"This is an example.\"), layers=[-1], pooling=[\"mean\"])\n",
    "response = client.embed(request, model=\"luminous-extended\")\n",
    "\n",
    "print(response)"
   ]
  }
 ],
 "metadata": {
  "kernelspec": {
   "display_name": "explaindemo",
   "language": "python",
   "name": "python3"
  },
  "language_info": {
   "codemirror_mode": {
    "name": "ipython",
    "version": 3
   },
   "file_extension": ".py",
   "mimetype": "text/x-python",
   "name": "python",
   "nbconvert_exporter": "python",
   "pygments_lexer": "ipython3",
   "version": "3.10.9"
  },
  "vscode": {
   "interpreter": {
    "hash": "6942b235de7c397011ac8abd8b15a4907297daf4b25575053729feb002569882"
   }
  }
 },
 "nbformat": 4,
 "nbformat_minor": 2
}
