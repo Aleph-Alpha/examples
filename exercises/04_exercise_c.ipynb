{
 "cells": [
  {
   "cell_type": "markdown",
   "metadata": {},
   "source": [
    "# Exercise C: Some Optimizations\n",
    "\n",
    "Use your prompting skills to do some optimization.\n",
    "\n",
    "How would you test if the prompt is working well?\n",
    "\n",
    "Try to use the client to automate as many steps as possible."
   ]
  },
  {
   "cell_type": "code",
   "execution_count": null,
   "metadata": {},
   "outputs": [],
   "source": [
    "from aleph_alpha_client import AlephAlphaModel, AlephAlphaClient, CompletionRequest, Prompt\n",
    "import os"
   ]
  },
  {
   "cell_type": "code",
   "execution_count": null,
   "metadata": {},
   "outputs": [],
   "source": [
    "# instantiate the client and model\n",
    "model = AlephAlphaModel(\n",
    "    AlephAlphaClient(host=\"https://api.aleph-alpha.com\", token=os.getenv(\"API_TOKEN\")),\n",
    "    model_name = \"luminous-extended\"\n",
    ")"
   ]
  },
  {
   "cell_type": "markdown",
   "metadata": {},
   "source": [
    "### Simple functions for embedding and searching"
   ]
  },
  {
   "cell_type": "code",
   "execution_count": null,
   "metadata": {},
   "outputs": [],
   "source": [
    "# A function for running multiple completions\n",
    "def run_prompts_from_list(pre_prompt:str, list_of_tasks):\n",
    "    # iterate through all tasks\n",
    "    for task in list_of_tasks:\n",
    "        #create the prompt and request\n",
    "        prompt = Prompt(pre_prompt + task)\n",
    "        request = CompletionRequest(prompt=prompt, maximum_tokens=20)\n",
    "        # run the single task\n",
    "        result = model.complete(request)\n",
    "        #display the result\n",
    "        print(result.completions[0].completion)\n",
    "\n",
    "# create a prompt\n",
    "prompt = Prompt(\"\"\"Define your prompt here.\n",
    "                It can also be multi-line.\"\"\")"
   ]
  },
  {
   "cell_type": "markdown",
   "metadata": {},
   "source": [
    "### Tasks: \n",
    "1. Copy your prompt from the last exercise and see if you can optimize it\n",
    "    - You can use the `%%time` magic to see how long it takes to run\n",
    "    - try experimenting with instructions and examples. Which work best?\n"
   ]
  },
  {
   "cell_type": "code",
   "execution_count": null,
   "metadata": {},
   "outputs": [],
   "source": [
    "%%time\n",
    "# create a list of tasks\n",
    "tasks = []\n",
    "pass"
   ]
  }
 ],
 "metadata": {
  "kernelspec": {
   "display_name": "Python 3.9.12 ('playground')",
   "language": "python",
   "name": "python3"
  },
  "language_info": {
   "codemirror_mode": {
    "name": "ipython",
    "version": 3
   },
   "file_extension": ".py",
   "mimetype": "text/x-python",
   "name": "python",
   "nbconvert_exporter": "python",
   "pygments_lexer": "ipython3",
   "version": "3.9.12"
  },
  "orig_nbformat": 4,
  "vscode": {
   "interpreter": {
    "hash": "8bb351cbb231ebe1f2609a46f6d0b60d5d0bc334d8d2f0479e7f916a63419382"
   }
  }
 },
 "nbformat": 4,
 "nbformat_minor": 2
}
